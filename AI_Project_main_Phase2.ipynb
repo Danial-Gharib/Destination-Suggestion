{
  "cells": [
    {
      "cell_type": "markdown",
      "metadata": {
        "id": "rOXgO-9bMZ4H"
      },
      "source": [
        "# AI Project - Phase 2 (Destination Suggestion)\n",
        "<div style=\"text-align: center\">\n",
        "<h1 style = \"color: red\"> Sharif University Of Technology</h1>\n",
        "<h2 style = \"color: green\"> DR. Mahdieh Soleymani | DR. MohammadHossein Rohban </h2>\n",
        "<h3 style = \"color: cyan\"> Head of Project: AmirHossein Razlighi <h3>\n",
        "<h3 style = \"color: cyan\"> Designed By: AmirHossein Razlighi, Javad Hezareh, Payam Taebi, Alireza Sakhaei, Ali Banayeean, Yalda Shabanzadeh, Hamidreza Yaghoubi, Alireza Heidari <h3>\n",
        "<h4 style = \"color: white\"> Ask your questions via quera</h4>\n",
        "<h5> Save your file with format: STUDENT NUMBER_Phase2.ipynb or .zip </h5>\n",
        "</div>"
      ]
    },
    {
      "cell_type": "markdown",
      "metadata": {
        "id": "V8uypWzEMZ4K"
      },
      "source": [
        "## Overview"
      ]
    },
    {
      "cell_type": "markdown",
      "metadata": {
        "id": "oTuIapqqMZ4K"
      },
      "source": [
        "<div style=\"text-align: center\">\n",
        "<img src=\"./Images/Uber_research.jpg\" width=\"100%\" height=\"auto\" />\n",
        "</div>"
      ]
    },
    {
      "cell_type": "markdown",
      "metadata": {
        "id": "TJBAFl8nMZ4K"
      },
      "source": [
        "Suppose you are a research engineer at Uber and you are asked to design a system that suggests destinations to the passengers. The system should be able to suggest destinations based on the passenger's history. For example, one passenger may save a variety of locations (like home, work, gym, etc.). This passenger may go to gym, often on weekends and when he/she requests a car from Home.\n",
        "\n",
        "So, for example, if I am a student, going to university usually from Saturday to Wednesday on 8:00 from \"home\", the next time I request a car from \"home\" on 8:00, the system should suggest \"university\" as the destination. Now, it's not that simple always, so we should seek for smart wayys to solve this problem!\n",
        "\n",
        "As you may understood by now, we should engineer some of features from the data we have and try to predict the next destination of the passenger.\n",
        "\n",
        "Let's begin!"
      ]
    },
    {
      "cell_type": "markdown",
      "metadata": {
        "id": "8PhNcKsjMZ4L"
      },
      "source": [
        "## Setup"
      ]
    },
    {
      "cell_type": "code",
      "execution_count": null,
      "metadata": {
        "id": "1LW9R3pYMZ4L"
      },
      "outputs": [],
      "source": [
        "import random\n",
        "import json\n",
        "import pandas as pd\n",
        "import numpy as np\n",
        "import matplotlib.pyplot as plt\n",
        "import torch\n",
        "import torch.nn as nn\n",
        "\n",
        "random.seed(2024)\n",
        "np.random.seed(2024)"
      ]
    },
    {
      "cell_type": "markdown",
      "metadata": {
        "id": "m4Z7WQlfMZ4M"
      },
      "source": [
        "# First Approach: Using KNN"
      ]
    },
    {
      "cell_type": "markdown",
      "metadata": {
        "id": "Mm91znb-MZ4M"
      },
      "source": [
        "## Data Preparation for KNN"
      ]
    },
    {
      "cell_type": "markdown",
      "metadata": {
        "id": "zyFFrCWuMZ4M"
      },
      "source": [
        "In this part, you should prepare the data for KNN. You should load the dataset file that we provided, named `Data/output.json` and then clean it, do all the required preprocessings and then split into train-test-val sets if necessary. Note that we provided a splitted test set for you, named `Data/output_test.json`. You should not use this file for training or validation. You should only use it for testing your model."
      ]
    },
    {
      "cell_type": "code",
      "execution_count": null,
      "metadata": {
        "colab": {
          "base_uri": "https://localhost:8080/",
          "height": 206
        },
        "id": "CwaqSDzhMZ4N",
        "outputId": "6f40f673-b97c-422b-b40c-efc20e19b747"
      },
      "outputs": [
        {
          "output_type": "execute_result",
          "data": {
            "text/plain": [
              "   user_id  Day  origin lat  origin lon  dest lat  dest lon start_time  \\\n",
              "0        0    0      35.625      51.375    36.000    51.085   13:07:00   \n",
              "1        0    0      36.000      51.085    35.625    51.375   15:13:00   \n",
              "2        0    0      35.680      51.445    35.745    51.465   20:41:00   \n",
              "3        0    0      35.745      51.465    35.680    51.445   21:24:00   \n",
              "4        0    1      35.625      51.375    35.680    51.445   23:38:00   \n",
              "\n",
              "   end_time  price  \n",
              "0  14:43:00  43.99  \n",
              "1  16:49:00  36.66  \n",
              "2  20:54:00  15.08  \n",
              "3  21:37:00  10.00  \n",
              "4  23:58:00  19.48  "
            ],
            "text/html": [
              "\n",
              "  <div id=\"df-376086df-affb-4263-a7a7-8f4ff5e00ca8\" class=\"colab-df-container\">\n",
              "    <div>\n",
              "<style scoped>\n",
              "    .dataframe tbody tr th:only-of-type {\n",
              "        vertical-align: middle;\n",
              "    }\n",
              "\n",
              "    .dataframe tbody tr th {\n",
              "        vertical-align: top;\n",
              "    }\n",
              "\n",
              "    .dataframe thead th {\n",
              "        text-align: right;\n",
              "    }\n",
              "</style>\n",
              "<table border=\"1\" class=\"dataframe\">\n",
              "  <thead>\n",
              "    <tr style=\"text-align: right;\">\n",
              "      <th></th>\n",
              "      <th>user_id</th>\n",
              "      <th>Day</th>\n",
              "      <th>origin lat</th>\n",
              "      <th>origin lon</th>\n",
              "      <th>dest lat</th>\n",
              "      <th>dest lon</th>\n",
              "      <th>start_time</th>\n",
              "      <th>end_time</th>\n",
              "      <th>price</th>\n",
              "    </tr>\n",
              "  </thead>\n",
              "  <tbody>\n",
              "    <tr>\n",
              "      <th>0</th>\n",
              "      <td>0</td>\n",
              "      <td>0</td>\n",
              "      <td>35.625</td>\n",
              "      <td>51.375</td>\n",
              "      <td>36.000</td>\n",
              "      <td>51.085</td>\n",
              "      <td>13:07:00</td>\n",
              "      <td>14:43:00</td>\n",
              "      <td>43.99</td>\n",
              "    </tr>\n",
              "    <tr>\n",
              "      <th>1</th>\n",
              "      <td>0</td>\n",
              "      <td>0</td>\n",
              "      <td>36.000</td>\n",
              "      <td>51.085</td>\n",
              "      <td>35.625</td>\n",
              "      <td>51.375</td>\n",
              "      <td>15:13:00</td>\n",
              "      <td>16:49:00</td>\n",
              "      <td>36.66</td>\n",
              "    </tr>\n",
              "    <tr>\n",
              "      <th>2</th>\n",
              "      <td>0</td>\n",
              "      <td>0</td>\n",
              "      <td>35.680</td>\n",
              "      <td>51.445</td>\n",
              "      <td>35.745</td>\n",
              "      <td>51.465</td>\n",
              "      <td>20:41:00</td>\n",
              "      <td>20:54:00</td>\n",
              "      <td>15.08</td>\n",
              "    </tr>\n",
              "    <tr>\n",
              "      <th>3</th>\n",
              "      <td>0</td>\n",
              "      <td>0</td>\n",
              "      <td>35.745</td>\n",
              "      <td>51.465</td>\n",
              "      <td>35.680</td>\n",
              "      <td>51.445</td>\n",
              "      <td>21:24:00</td>\n",
              "      <td>21:37:00</td>\n",
              "      <td>10.00</td>\n",
              "    </tr>\n",
              "    <tr>\n",
              "      <th>4</th>\n",
              "      <td>0</td>\n",
              "      <td>1</td>\n",
              "      <td>35.625</td>\n",
              "      <td>51.375</td>\n",
              "      <td>35.680</td>\n",
              "      <td>51.445</td>\n",
              "      <td>23:38:00</td>\n",
              "      <td>23:58:00</td>\n",
              "      <td>19.48</td>\n",
              "    </tr>\n",
              "  </tbody>\n",
              "</table>\n",
              "</div>\n",
              "    <div class=\"colab-df-buttons\">\n",
              "\n",
              "  <div class=\"colab-df-container\">\n",
              "    <button class=\"colab-df-convert\" onclick=\"convertToInteractive('df-376086df-affb-4263-a7a7-8f4ff5e00ca8')\"\n",
              "            title=\"Convert this dataframe to an interactive table.\"\n",
              "            style=\"display:none;\">\n",
              "\n",
              "  <svg xmlns=\"http://www.w3.org/2000/svg\" height=\"24px\" viewBox=\"0 -960 960 960\">\n",
              "    <path d=\"M120-120v-720h720v720H120Zm60-500h600v-160H180v160Zm220 220h160v-160H400v160Zm0 220h160v-160H400v160ZM180-400h160v-160H180v160Zm440 0h160v-160H620v160ZM180-180h160v-160H180v160Zm440 0h160v-160H620v160Z\"/>\n",
              "  </svg>\n",
              "    </button>\n",
              "\n",
              "  <style>\n",
              "    .colab-df-container {\n",
              "      display:flex;\n",
              "      gap: 12px;\n",
              "    }\n",
              "\n",
              "    .colab-df-convert {\n",
              "      background-color: #E8F0FE;\n",
              "      border: none;\n",
              "      border-radius: 50%;\n",
              "      cursor: pointer;\n",
              "      display: none;\n",
              "      fill: #1967D2;\n",
              "      height: 32px;\n",
              "      padding: 0 0 0 0;\n",
              "      width: 32px;\n",
              "    }\n",
              "\n",
              "    .colab-df-convert:hover {\n",
              "      background-color: #E2EBFA;\n",
              "      box-shadow: 0px 1px 2px rgba(60, 64, 67, 0.3), 0px 1px 3px 1px rgba(60, 64, 67, 0.15);\n",
              "      fill: #174EA6;\n",
              "    }\n",
              "\n",
              "    .colab-df-buttons div {\n",
              "      margin-bottom: 4px;\n",
              "    }\n",
              "\n",
              "    [theme=dark] .colab-df-convert {\n",
              "      background-color: #3B4455;\n",
              "      fill: #D2E3FC;\n",
              "    }\n",
              "\n",
              "    [theme=dark] .colab-df-convert:hover {\n",
              "      background-color: #434B5C;\n",
              "      box-shadow: 0px 1px 3px 1px rgba(0, 0, 0, 0.15);\n",
              "      filter: drop-shadow(0px 1px 2px rgba(0, 0, 0, 0.3));\n",
              "      fill: #FFFFFF;\n",
              "    }\n",
              "  </style>\n",
              "\n",
              "    <script>\n",
              "      const buttonEl =\n",
              "        document.querySelector('#df-376086df-affb-4263-a7a7-8f4ff5e00ca8 button.colab-df-convert');\n",
              "      buttonEl.style.display =\n",
              "        google.colab.kernel.accessAllowed ? 'block' : 'none';\n",
              "\n",
              "      async function convertToInteractive(key) {\n",
              "        const element = document.querySelector('#df-376086df-affb-4263-a7a7-8f4ff5e00ca8');\n",
              "        const dataTable =\n",
              "          await google.colab.kernel.invokeFunction('convertToInteractive',\n",
              "                                                    [key], {});\n",
              "        if (!dataTable) return;\n",
              "\n",
              "        const docLinkHtml = 'Like what you see? Visit the ' +\n",
              "          '<a target=\"_blank\" href=https://colab.research.google.com/notebooks/data_table.ipynb>data table notebook</a>'\n",
              "          + ' to learn more about interactive tables.';\n",
              "        element.innerHTML = '';\n",
              "        dataTable['output_type'] = 'display_data';\n",
              "        await google.colab.output.renderOutput(dataTable, element);\n",
              "        const docLink = document.createElement('div');\n",
              "        docLink.innerHTML = docLinkHtml;\n",
              "        element.appendChild(docLink);\n",
              "      }\n",
              "    </script>\n",
              "  </div>\n",
              "\n",
              "\n",
              "<div id=\"df-3ab04e5d-7aad-4bcc-978a-00b7f3d4af80\">\n",
              "  <button class=\"colab-df-quickchart\" onclick=\"quickchart('df-3ab04e5d-7aad-4bcc-978a-00b7f3d4af80')\"\n",
              "            title=\"Suggest charts\"\n",
              "            style=\"display:none;\">\n",
              "\n",
              "<svg xmlns=\"http://www.w3.org/2000/svg\" height=\"24px\"viewBox=\"0 0 24 24\"\n",
              "     width=\"24px\">\n",
              "    <g>\n",
              "        <path d=\"M19 3H5c-1.1 0-2 .9-2 2v14c0 1.1.9 2 2 2h14c1.1 0 2-.9 2-2V5c0-1.1-.9-2-2-2zM9 17H7v-7h2v7zm4 0h-2V7h2v10zm4 0h-2v-4h2v4z\"/>\n",
              "    </g>\n",
              "</svg>\n",
              "  </button>\n",
              "\n",
              "<style>\n",
              "  .colab-df-quickchart {\n",
              "      --bg-color: #E8F0FE;\n",
              "      --fill-color: #1967D2;\n",
              "      --hover-bg-color: #E2EBFA;\n",
              "      --hover-fill-color: #174EA6;\n",
              "      --disabled-fill-color: #AAA;\n",
              "      --disabled-bg-color: #DDD;\n",
              "  }\n",
              "\n",
              "  [theme=dark] .colab-df-quickchart {\n",
              "      --bg-color: #3B4455;\n",
              "      --fill-color: #D2E3FC;\n",
              "      --hover-bg-color: #434B5C;\n",
              "      --hover-fill-color: #FFFFFF;\n",
              "      --disabled-bg-color: #3B4455;\n",
              "      --disabled-fill-color: #666;\n",
              "  }\n",
              "\n",
              "  .colab-df-quickchart {\n",
              "    background-color: var(--bg-color);\n",
              "    border: none;\n",
              "    border-radius: 50%;\n",
              "    cursor: pointer;\n",
              "    display: none;\n",
              "    fill: var(--fill-color);\n",
              "    height: 32px;\n",
              "    padding: 0;\n",
              "    width: 32px;\n",
              "  }\n",
              "\n",
              "  .colab-df-quickchart:hover {\n",
              "    background-color: var(--hover-bg-color);\n",
              "    box-shadow: 0 1px 2px rgba(60, 64, 67, 0.3), 0 1px 3px 1px rgba(60, 64, 67, 0.15);\n",
              "    fill: var(--button-hover-fill-color);\n",
              "  }\n",
              "\n",
              "  .colab-df-quickchart-complete:disabled,\n",
              "  .colab-df-quickchart-complete:disabled:hover {\n",
              "    background-color: var(--disabled-bg-color);\n",
              "    fill: var(--disabled-fill-color);\n",
              "    box-shadow: none;\n",
              "  }\n",
              "\n",
              "  .colab-df-spinner {\n",
              "    border: 2px solid var(--fill-color);\n",
              "    border-color: transparent;\n",
              "    border-bottom-color: var(--fill-color);\n",
              "    animation:\n",
              "      spin 1s steps(1) infinite;\n",
              "  }\n",
              "\n",
              "  @keyframes spin {\n",
              "    0% {\n",
              "      border-color: transparent;\n",
              "      border-bottom-color: var(--fill-color);\n",
              "      border-left-color: var(--fill-color);\n",
              "    }\n",
              "    20% {\n",
              "      border-color: transparent;\n",
              "      border-left-color: var(--fill-color);\n",
              "      border-top-color: var(--fill-color);\n",
              "    }\n",
              "    30% {\n",
              "      border-color: transparent;\n",
              "      border-left-color: var(--fill-color);\n",
              "      border-top-color: var(--fill-color);\n",
              "      border-right-color: var(--fill-color);\n",
              "    }\n",
              "    40% {\n",
              "      border-color: transparent;\n",
              "      border-right-color: var(--fill-color);\n",
              "      border-top-color: var(--fill-color);\n",
              "    }\n",
              "    60% {\n",
              "      border-color: transparent;\n",
              "      border-right-color: var(--fill-color);\n",
              "    }\n",
              "    80% {\n",
              "      border-color: transparent;\n",
              "      border-right-color: var(--fill-color);\n",
              "      border-bottom-color: var(--fill-color);\n",
              "    }\n",
              "    90% {\n",
              "      border-color: transparent;\n",
              "      border-bottom-color: var(--fill-color);\n",
              "    }\n",
              "  }\n",
              "</style>\n",
              "\n",
              "  <script>\n",
              "    async function quickchart(key) {\n",
              "      const quickchartButtonEl =\n",
              "        document.querySelector('#' + key + ' button');\n",
              "      quickchartButtonEl.disabled = true;  // To prevent multiple clicks.\n",
              "      quickchartButtonEl.classList.add('colab-df-spinner');\n",
              "      try {\n",
              "        const charts = await google.colab.kernel.invokeFunction(\n",
              "            'suggestCharts', [key], {});\n",
              "      } catch (error) {\n",
              "        console.error('Error during call to suggestCharts:', error);\n",
              "      }\n",
              "      quickchartButtonEl.classList.remove('colab-df-spinner');\n",
              "      quickchartButtonEl.classList.add('colab-df-quickchart-complete');\n",
              "    }\n",
              "    (() => {\n",
              "      let quickchartButtonEl =\n",
              "        document.querySelector('#df-3ab04e5d-7aad-4bcc-978a-00b7f3d4af80 button');\n",
              "      quickchartButtonEl.style.display =\n",
              "        google.colab.kernel.accessAllowed ? 'block' : 'none';\n",
              "    })();\n",
              "  </script>\n",
              "</div>\n",
              "    </div>\n",
              "  </div>\n"
            ]
          },
          "metadata": {},
          "execution_count": 2
        }
      ],
      "source": [
        "# TODO: Load the dataset for training\n",
        "with open('Data/output.json', 'r') as file:\n",
        "  dataset = json.load(file)\n",
        "\n",
        "train_df = pd.DataFrame(dataset)\n",
        "train_df.head()"
      ]
    },
    {
      "cell_type": "code",
      "execution_count": null,
      "metadata": {
        "colab": {
          "base_uri": "https://localhost:8080/",
          "height": 206
        },
        "id": "RKxbXkD2MZ4N",
        "outputId": "7ba7993d-6974-4eb1-bfb5-1578136c7401"
      },
      "outputs": [
        {
          "output_type": "execute_result",
          "data": {
            "text/plain": [
              "   user_id  Day  origin lat  origin lon  dest lat  dest lon start_time  \\\n",
              "0       24    6      35.650      51.225    35.640    51.270   11:58:00   \n",
              "1       46    2      35.625      51.250    35.690    51.295   21:58:00   \n",
              "2       27    5      35.650      51.225    35.865    51.045   20:05:00   \n",
              "3        7    4      35.875      51.375    35.890    51.315   17:39:00   \n",
              "4       27    3      35.625      51.375    35.650    51.385   13:16:00   \n",
              "\n",
              "   end_time  price  \n",
              "0  12:12:00  10.00  \n",
              "1  22:18:00  11.84  \n",
              "2  20:58:00  23.36  \n",
              "3  18:17:00  13.74  \n",
              "4  13:19:00  15.08  "
            ],
            "text/html": [
              "\n",
              "  <div id=\"df-f861bf8b-ba04-4d82-9dd5-092340773cbd\" class=\"colab-df-container\">\n",
              "    <div>\n",
              "<style scoped>\n",
              "    .dataframe tbody tr th:only-of-type {\n",
              "        vertical-align: middle;\n",
              "    }\n",
              "\n",
              "    .dataframe tbody tr th {\n",
              "        vertical-align: top;\n",
              "    }\n",
              "\n",
              "    .dataframe thead th {\n",
              "        text-align: right;\n",
              "    }\n",
              "</style>\n",
              "<table border=\"1\" class=\"dataframe\">\n",
              "  <thead>\n",
              "    <tr style=\"text-align: right;\">\n",
              "      <th></th>\n",
              "      <th>user_id</th>\n",
              "      <th>Day</th>\n",
              "      <th>origin lat</th>\n",
              "      <th>origin lon</th>\n",
              "      <th>dest lat</th>\n",
              "      <th>dest lon</th>\n",
              "      <th>start_time</th>\n",
              "      <th>end_time</th>\n",
              "      <th>price</th>\n",
              "    </tr>\n",
              "  </thead>\n",
              "  <tbody>\n",
              "    <tr>\n",
              "      <th>0</th>\n",
              "      <td>24</td>\n",
              "      <td>6</td>\n",
              "      <td>35.650</td>\n",
              "      <td>51.225</td>\n",
              "      <td>35.640</td>\n",
              "      <td>51.270</td>\n",
              "      <td>11:58:00</td>\n",
              "      <td>12:12:00</td>\n",
              "      <td>10.00</td>\n",
              "    </tr>\n",
              "    <tr>\n",
              "      <th>1</th>\n",
              "      <td>46</td>\n",
              "      <td>2</td>\n",
              "      <td>35.625</td>\n",
              "      <td>51.250</td>\n",
              "      <td>35.690</td>\n",
              "      <td>51.295</td>\n",
              "      <td>21:58:00</td>\n",
              "      <td>22:18:00</td>\n",
              "      <td>11.84</td>\n",
              "    </tr>\n",
              "    <tr>\n",
              "      <th>2</th>\n",
              "      <td>27</td>\n",
              "      <td>5</td>\n",
              "      <td>35.650</td>\n",
              "      <td>51.225</td>\n",
              "      <td>35.865</td>\n",
              "      <td>51.045</td>\n",
              "      <td>20:05:00</td>\n",
              "      <td>20:58:00</td>\n",
              "      <td>23.36</td>\n",
              "    </tr>\n",
              "    <tr>\n",
              "      <th>3</th>\n",
              "      <td>7</td>\n",
              "      <td>4</td>\n",
              "      <td>35.875</td>\n",
              "      <td>51.375</td>\n",
              "      <td>35.890</td>\n",
              "      <td>51.315</td>\n",
              "      <td>17:39:00</td>\n",
              "      <td>18:17:00</td>\n",
              "      <td>13.74</td>\n",
              "    </tr>\n",
              "    <tr>\n",
              "      <th>4</th>\n",
              "      <td>27</td>\n",
              "      <td>3</td>\n",
              "      <td>35.625</td>\n",
              "      <td>51.375</td>\n",
              "      <td>35.650</td>\n",
              "      <td>51.385</td>\n",
              "      <td>13:16:00</td>\n",
              "      <td>13:19:00</td>\n",
              "      <td>15.08</td>\n",
              "    </tr>\n",
              "  </tbody>\n",
              "</table>\n",
              "</div>\n",
              "    <div class=\"colab-df-buttons\">\n",
              "\n",
              "  <div class=\"colab-df-container\">\n",
              "    <button class=\"colab-df-convert\" onclick=\"convertToInteractive('df-f861bf8b-ba04-4d82-9dd5-092340773cbd')\"\n",
              "            title=\"Convert this dataframe to an interactive table.\"\n",
              "            style=\"display:none;\">\n",
              "\n",
              "  <svg xmlns=\"http://www.w3.org/2000/svg\" height=\"24px\" viewBox=\"0 -960 960 960\">\n",
              "    <path d=\"M120-120v-720h720v720H120Zm60-500h600v-160H180v160Zm220 220h160v-160H400v160Zm0 220h160v-160H400v160ZM180-400h160v-160H180v160Zm440 0h160v-160H620v160ZM180-180h160v-160H180v160Zm440 0h160v-160H620v160Z\"/>\n",
              "  </svg>\n",
              "    </button>\n",
              "\n",
              "  <style>\n",
              "    .colab-df-container {\n",
              "      display:flex;\n",
              "      gap: 12px;\n",
              "    }\n",
              "\n",
              "    .colab-df-convert {\n",
              "      background-color: #E8F0FE;\n",
              "      border: none;\n",
              "      border-radius: 50%;\n",
              "      cursor: pointer;\n",
              "      display: none;\n",
              "      fill: #1967D2;\n",
              "      height: 32px;\n",
              "      padding: 0 0 0 0;\n",
              "      width: 32px;\n",
              "    }\n",
              "\n",
              "    .colab-df-convert:hover {\n",
              "      background-color: #E2EBFA;\n",
              "      box-shadow: 0px 1px 2px rgba(60, 64, 67, 0.3), 0px 1px 3px 1px rgba(60, 64, 67, 0.15);\n",
              "      fill: #174EA6;\n",
              "    }\n",
              "\n",
              "    .colab-df-buttons div {\n",
              "      margin-bottom: 4px;\n",
              "    }\n",
              "\n",
              "    [theme=dark] .colab-df-convert {\n",
              "      background-color: #3B4455;\n",
              "      fill: #D2E3FC;\n",
              "    }\n",
              "\n",
              "    [theme=dark] .colab-df-convert:hover {\n",
              "      background-color: #434B5C;\n",
              "      box-shadow: 0px 1px 3px 1px rgba(0, 0, 0, 0.15);\n",
              "      filter: drop-shadow(0px 1px 2px rgba(0, 0, 0, 0.3));\n",
              "      fill: #FFFFFF;\n",
              "    }\n",
              "  </style>\n",
              "\n",
              "    <script>\n",
              "      const buttonEl =\n",
              "        document.querySelector('#df-f861bf8b-ba04-4d82-9dd5-092340773cbd button.colab-df-convert');\n",
              "      buttonEl.style.display =\n",
              "        google.colab.kernel.accessAllowed ? 'block' : 'none';\n",
              "\n",
              "      async function convertToInteractive(key) {\n",
              "        const element = document.querySelector('#df-f861bf8b-ba04-4d82-9dd5-092340773cbd');\n",
              "        const dataTable =\n",
              "          await google.colab.kernel.invokeFunction('convertToInteractive',\n",
              "                                                    [key], {});\n",
              "        if (!dataTable) return;\n",
              "\n",
              "        const docLinkHtml = 'Like what you see? Visit the ' +\n",
              "          '<a target=\"_blank\" href=https://colab.research.google.com/notebooks/data_table.ipynb>data table notebook</a>'\n",
              "          + ' to learn more about interactive tables.';\n",
              "        element.innerHTML = '';\n",
              "        dataTable['output_type'] = 'display_data';\n",
              "        await google.colab.output.renderOutput(dataTable, element);\n",
              "        const docLink = document.createElement('div');\n",
              "        docLink.innerHTML = docLinkHtml;\n",
              "        element.appendChild(docLink);\n",
              "      }\n",
              "    </script>\n",
              "  </div>\n",
              "\n",
              "\n",
              "<div id=\"df-d3fbea82-81f2-46fd-90e1-e0f47bed53e4\">\n",
              "  <button class=\"colab-df-quickchart\" onclick=\"quickchart('df-d3fbea82-81f2-46fd-90e1-e0f47bed53e4')\"\n",
              "            title=\"Suggest charts\"\n",
              "            style=\"display:none;\">\n",
              "\n",
              "<svg xmlns=\"http://www.w3.org/2000/svg\" height=\"24px\"viewBox=\"0 0 24 24\"\n",
              "     width=\"24px\">\n",
              "    <g>\n",
              "        <path d=\"M19 3H5c-1.1 0-2 .9-2 2v14c0 1.1.9 2 2 2h14c1.1 0 2-.9 2-2V5c0-1.1-.9-2-2-2zM9 17H7v-7h2v7zm4 0h-2V7h2v10zm4 0h-2v-4h2v4z\"/>\n",
              "    </g>\n",
              "</svg>\n",
              "  </button>\n",
              "\n",
              "<style>\n",
              "  .colab-df-quickchart {\n",
              "      --bg-color: #E8F0FE;\n",
              "      --fill-color: #1967D2;\n",
              "      --hover-bg-color: #E2EBFA;\n",
              "      --hover-fill-color: #174EA6;\n",
              "      --disabled-fill-color: #AAA;\n",
              "      --disabled-bg-color: #DDD;\n",
              "  }\n",
              "\n",
              "  [theme=dark] .colab-df-quickchart {\n",
              "      --bg-color: #3B4455;\n",
              "      --fill-color: #D2E3FC;\n",
              "      --hover-bg-color: #434B5C;\n",
              "      --hover-fill-color: #FFFFFF;\n",
              "      --disabled-bg-color: #3B4455;\n",
              "      --disabled-fill-color: #666;\n",
              "  }\n",
              "\n",
              "  .colab-df-quickchart {\n",
              "    background-color: var(--bg-color);\n",
              "    border: none;\n",
              "    border-radius: 50%;\n",
              "    cursor: pointer;\n",
              "    display: none;\n",
              "    fill: var(--fill-color);\n",
              "    height: 32px;\n",
              "    padding: 0;\n",
              "    width: 32px;\n",
              "  }\n",
              "\n",
              "  .colab-df-quickchart:hover {\n",
              "    background-color: var(--hover-bg-color);\n",
              "    box-shadow: 0 1px 2px rgba(60, 64, 67, 0.3), 0 1px 3px 1px rgba(60, 64, 67, 0.15);\n",
              "    fill: var(--button-hover-fill-color);\n",
              "  }\n",
              "\n",
              "  .colab-df-quickchart-complete:disabled,\n",
              "  .colab-df-quickchart-complete:disabled:hover {\n",
              "    background-color: var(--disabled-bg-color);\n",
              "    fill: var(--disabled-fill-color);\n",
              "    box-shadow: none;\n",
              "  }\n",
              "\n",
              "  .colab-df-spinner {\n",
              "    border: 2px solid var(--fill-color);\n",
              "    border-color: transparent;\n",
              "    border-bottom-color: var(--fill-color);\n",
              "    animation:\n",
              "      spin 1s steps(1) infinite;\n",
              "  }\n",
              "\n",
              "  @keyframes spin {\n",
              "    0% {\n",
              "      border-color: transparent;\n",
              "      border-bottom-color: var(--fill-color);\n",
              "      border-left-color: var(--fill-color);\n",
              "    }\n",
              "    20% {\n",
              "      border-color: transparent;\n",
              "      border-left-color: var(--fill-color);\n",
              "      border-top-color: var(--fill-color);\n",
              "    }\n",
              "    30% {\n",
              "      border-color: transparent;\n",
              "      border-left-color: var(--fill-color);\n",
              "      border-top-color: var(--fill-color);\n",
              "      border-right-color: var(--fill-color);\n",
              "    }\n",
              "    40% {\n",
              "      border-color: transparent;\n",
              "      border-right-color: var(--fill-color);\n",
              "      border-top-color: var(--fill-color);\n",
              "    }\n",
              "    60% {\n",
              "      border-color: transparent;\n",
              "      border-right-color: var(--fill-color);\n",
              "    }\n",
              "    80% {\n",
              "      border-color: transparent;\n",
              "      border-right-color: var(--fill-color);\n",
              "      border-bottom-color: var(--fill-color);\n",
              "    }\n",
              "    90% {\n",
              "      border-color: transparent;\n",
              "      border-bottom-color: var(--fill-color);\n",
              "    }\n",
              "  }\n",
              "</style>\n",
              "\n",
              "  <script>\n",
              "    async function quickchart(key) {\n",
              "      const quickchartButtonEl =\n",
              "        document.querySelector('#' + key + ' button');\n",
              "      quickchartButtonEl.disabled = true;  // To prevent multiple clicks.\n",
              "      quickchartButtonEl.classList.add('colab-df-spinner');\n",
              "      try {\n",
              "        const charts = await google.colab.kernel.invokeFunction(\n",
              "            'suggestCharts', [key], {});\n",
              "      } catch (error) {\n",
              "        console.error('Error during call to suggestCharts:', error);\n",
              "      }\n",
              "      quickchartButtonEl.classList.remove('colab-df-spinner');\n",
              "      quickchartButtonEl.classList.add('colab-df-quickchart-complete');\n",
              "    }\n",
              "    (() => {\n",
              "      let quickchartButtonEl =\n",
              "        document.querySelector('#df-d3fbea82-81f2-46fd-90e1-e0f47bed53e4 button');\n",
              "      quickchartButtonEl.style.display =\n",
              "        google.colab.kernel.accessAllowed ? 'block' : 'none';\n",
              "    })();\n",
              "  </script>\n",
              "</div>\n",
              "    </div>\n",
              "  </div>\n"
            ]
          },
          "metadata": {},
          "execution_count": 3
        }
      ],
      "source": [
        "# TODO: Load the dataset for testing\n",
        "with open('Data/output_test.json', 'r') as file:\n",
        "  dataset = json.load(file)\n",
        "test_df = pd.DataFrame(dataset)\n",
        "test_df.head()"
      ]
    },
    {
      "cell_type": "code",
      "execution_count": null,
      "metadata": {
        "colab": {
          "base_uri": "https://localhost:8080/"
        },
        "id": "VkgbvTovMZ4N",
        "outputId": "4495675b-b172-4925-ee90-fc8a17f3f1ea"
      },
      "outputs": [
        {
          "output_type": "stream",
          "name": "stdout",
          "text": [
            "(60, 8)\n"
          ]
        }
      ],
      "source": [
        "# print out the number of unique users and also randomly select one user\n",
        "# TODO\n",
        "num_unique_users = train_df['user_id'].nunique()\n",
        "\n",
        "random_user = np.random.choice(train_df['user_id'].unique())\n",
        "\n",
        "print((num_unique_users, random_user))"
      ]
    },
    {
      "cell_type": "code",
      "source": [
        "!pip install keplergl"
      ],
      "metadata": {
        "id": "hIQb5X7TfP6o",
        "colab": {
          "base_uri": "https://localhost:8080/"
        },
        "outputId": "89f47c35-8a48-49ac-d7b5-05c2469bfbaf"
      },
      "execution_count": null,
      "outputs": [
        {
          "output_type": "stream",
          "name": "stdout",
          "text": [
            "Collecting keplergl\n",
            "  Downloading keplergl-0.3.2.tar.gz (9.7 MB)\n",
            "\u001b[2K     \u001b[90m━━━━━━━━━━━━━━━━━━━━━━━━━━━━━━━━━━━━━━━━\u001b[0m \u001b[32m9.7/9.7 MB\u001b[0m \u001b[31m31.2 MB/s\u001b[0m eta \u001b[36m0:00:00\u001b[0m\n",
            "\u001b[?25h  Installing build dependencies ... \u001b[?25l\u001b[?25hdone\n",
            "  Getting requirements to build wheel ... \u001b[?25l\u001b[?25hdone\n",
            "  Preparing metadata (pyproject.toml) ... \u001b[?25l\u001b[?25hdone\n",
            "Requirement already satisfied: ipywidgets<8,>=7.0.0 in /usr/local/lib/python3.10/dist-packages (from keplergl) (7.7.1)\n",
            "Requirement already satisfied: traittypes>=0.2.1 in /usr/local/lib/python3.10/dist-packages (from keplergl) (0.2.1)\n",
            "Requirement already satisfied: geopandas>=0.5.0 in /usr/local/lib/python3.10/dist-packages (from keplergl) (0.13.2)\n",
            "Requirement already satisfied: pandas>=0.23.0 in /usr/local/lib/python3.10/dist-packages (from keplergl) (1.5.3)\n",
            "Requirement already satisfied: Shapely>=1.6.4.post2 in /usr/local/lib/python3.10/dist-packages (from keplergl) (2.0.2)\n",
            "Requirement already satisfied: fiona>=1.8.19 in /usr/local/lib/python3.10/dist-packages (from geopandas>=0.5.0->keplergl) (1.9.5)\n",
            "Requirement already satisfied: packaging in /usr/local/lib/python3.10/dist-packages (from geopandas>=0.5.0->keplergl) (23.2)\n",
            "Requirement already satisfied: pyproj>=3.0.1 in /usr/local/lib/python3.10/dist-packages (from geopandas>=0.5.0->keplergl) (3.6.1)\n",
            "Requirement already satisfied: ipykernel>=4.5.1 in /usr/local/lib/python3.10/dist-packages (from ipywidgets<8,>=7.0.0->keplergl) (5.5.6)\n",
            "Requirement already satisfied: ipython-genutils~=0.2.0 in /usr/local/lib/python3.10/dist-packages (from ipywidgets<8,>=7.0.0->keplergl) (0.2.0)\n",
            "Requirement already satisfied: traitlets>=4.3.1 in /usr/local/lib/python3.10/dist-packages (from ipywidgets<8,>=7.0.0->keplergl) (5.7.1)\n",
            "Requirement already satisfied: widgetsnbextension~=3.6.0 in /usr/local/lib/python3.10/dist-packages (from ipywidgets<8,>=7.0.0->keplergl) (3.6.6)\n",
            "Requirement already satisfied: ipython>=4.0.0 in /usr/local/lib/python3.10/dist-packages (from ipywidgets<8,>=7.0.0->keplergl) (7.34.0)\n",
            "Requirement already satisfied: jupyterlab-widgets>=1.0.0 in /usr/local/lib/python3.10/dist-packages (from ipywidgets<8,>=7.0.0->keplergl) (3.0.9)\n",
            "Requirement already satisfied: python-dateutil>=2.8.1 in /usr/local/lib/python3.10/dist-packages (from pandas>=0.23.0->keplergl) (2.8.2)\n",
            "Requirement already satisfied: pytz>=2020.1 in /usr/local/lib/python3.10/dist-packages (from pandas>=0.23.0->keplergl) (2023.3.post1)\n",
            "Requirement already satisfied: numpy>=1.21.0 in /usr/local/lib/python3.10/dist-packages (from pandas>=0.23.0->keplergl) (1.23.5)\n",
            "Requirement already satisfied: attrs>=19.2.0 in /usr/local/lib/python3.10/dist-packages (from fiona>=1.8.19->geopandas>=0.5.0->keplergl) (23.2.0)\n",
            "Requirement already satisfied: certifi in /usr/local/lib/python3.10/dist-packages (from fiona>=1.8.19->geopandas>=0.5.0->keplergl) (2023.11.17)\n",
            "Requirement already satisfied: click~=8.0 in /usr/local/lib/python3.10/dist-packages (from fiona>=1.8.19->geopandas>=0.5.0->keplergl) (8.1.7)\n",
            "Requirement already satisfied: click-plugins>=1.0 in /usr/local/lib/python3.10/dist-packages (from fiona>=1.8.19->geopandas>=0.5.0->keplergl) (1.1.1)\n",
            "Requirement already satisfied: cligj>=0.5 in /usr/local/lib/python3.10/dist-packages (from fiona>=1.8.19->geopandas>=0.5.0->keplergl) (0.7.2)\n",
            "Requirement already satisfied: six in /usr/local/lib/python3.10/dist-packages (from fiona>=1.8.19->geopandas>=0.5.0->keplergl) (1.16.0)\n",
            "Requirement already satisfied: setuptools in /usr/local/lib/python3.10/dist-packages (from fiona>=1.8.19->geopandas>=0.5.0->keplergl) (67.7.2)\n",
            "Requirement already satisfied: jupyter-client in /usr/local/lib/python3.10/dist-packages (from ipykernel>=4.5.1->ipywidgets<8,>=7.0.0->keplergl) (6.1.12)\n",
            "Requirement already satisfied: tornado>=4.2 in /usr/local/lib/python3.10/dist-packages (from ipykernel>=4.5.1->ipywidgets<8,>=7.0.0->keplergl) (6.3.2)\n",
            "Collecting jedi>=0.16 (from ipython>=4.0.0->ipywidgets<8,>=7.0.0->keplergl)\n",
            "  Using cached jedi-0.19.1-py2.py3-none-any.whl (1.6 MB)\n",
            "Requirement already satisfied: decorator in /usr/local/lib/python3.10/dist-packages (from ipython>=4.0.0->ipywidgets<8,>=7.0.0->keplergl) (4.4.2)\n",
            "Requirement already satisfied: pickleshare in /usr/local/lib/python3.10/dist-packages (from ipython>=4.0.0->ipywidgets<8,>=7.0.0->keplergl) (0.7.5)\n",
            "Requirement already satisfied: prompt-toolkit!=3.0.0,!=3.0.1,<3.1.0,>=2.0.0 in /usr/local/lib/python3.10/dist-packages (from ipython>=4.0.0->ipywidgets<8,>=7.0.0->keplergl) (3.0.43)\n",
            "Requirement already satisfied: pygments in /usr/local/lib/python3.10/dist-packages (from ipython>=4.0.0->ipywidgets<8,>=7.0.0->keplergl) (2.16.1)\n",
            "Requirement already satisfied: backcall in /usr/local/lib/python3.10/dist-packages (from ipython>=4.0.0->ipywidgets<8,>=7.0.0->keplergl) (0.2.0)\n",
            "Requirement already satisfied: matplotlib-inline in /usr/local/lib/python3.10/dist-packages (from ipython>=4.0.0->ipywidgets<8,>=7.0.0->keplergl) (0.1.6)\n",
            "Requirement already satisfied: pexpect>4.3 in /usr/local/lib/python3.10/dist-packages (from ipython>=4.0.0->ipywidgets<8,>=7.0.0->keplergl) (4.9.0)\n",
            "Requirement already satisfied: notebook>=4.4.1 in /usr/local/lib/python3.10/dist-packages (from widgetsnbextension~=3.6.0->ipywidgets<8,>=7.0.0->keplergl) (6.5.5)\n",
            "Requirement already satisfied: parso<0.9.0,>=0.8.3 in /usr/local/lib/python3.10/dist-packages (from jedi>=0.16->ipython>=4.0.0->ipywidgets<8,>=7.0.0->keplergl) (0.8.3)\n",
            "Requirement already satisfied: jinja2 in /usr/local/lib/python3.10/dist-packages (from notebook>=4.4.1->widgetsnbextension~=3.6.0->ipywidgets<8,>=7.0.0->keplergl) (3.1.3)\n",
            "Requirement already satisfied: pyzmq<25,>=17 in /usr/local/lib/python3.10/dist-packages (from notebook>=4.4.1->widgetsnbextension~=3.6.0->ipywidgets<8,>=7.0.0->keplergl) (23.2.1)\n",
            "Requirement already satisfied: argon2-cffi in /usr/local/lib/python3.10/dist-packages (from notebook>=4.4.1->widgetsnbextension~=3.6.0->ipywidgets<8,>=7.0.0->keplergl) (23.1.0)\n",
            "Requirement already satisfied: jupyter-core>=4.6.1 in /usr/local/lib/python3.10/dist-packages (from notebook>=4.4.1->widgetsnbextension~=3.6.0->ipywidgets<8,>=7.0.0->keplergl) (5.7.1)\n",
            "Requirement already satisfied: nbformat in /usr/local/lib/python3.10/dist-packages (from notebook>=4.4.1->widgetsnbextension~=3.6.0->ipywidgets<8,>=7.0.0->keplergl) (5.9.2)\n",
            "Requirement already satisfied: nbconvert>=5 in /usr/local/lib/python3.10/dist-packages (from notebook>=4.4.1->widgetsnbextension~=3.6.0->ipywidgets<8,>=7.0.0->keplergl) (6.5.4)\n",
            "Requirement already satisfied: nest-asyncio>=1.5 in /usr/local/lib/python3.10/dist-packages (from notebook>=4.4.1->widgetsnbextension~=3.6.0->ipywidgets<8,>=7.0.0->keplergl) (1.6.0)\n",
            "Requirement already satisfied: Send2Trash>=1.8.0 in /usr/local/lib/python3.10/dist-packages (from notebook>=4.4.1->widgetsnbextension~=3.6.0->ipywidgets<8,>=7.0.0->keplergl) (1.8.2)\n",
            "Requirement already satisfied: terminado>=0.8.3 in /usr/local/lib/python3.10/dist-packages (from notebook>=4.4.1->widgetsnbextension~=3.6.0->ipywidgets<8,>=7.0.0->keplergl) (0.18.0)\n",
            "Requirement already satisfied: prometheus-client in /usr/local/lib/python3.10/dist-packages (from notebook>=4.4.1->widgetsnbextension~=3.6.0->ipywidgets<8,>=7.0.0->keplergl) (0.19.0)\n",
            "Requirement already satisfied: nbclassic>=0.4.7 in /usr/local/lib/python3.10/dist-packages (from notebook>=4.4.1->widgetsnbextension~=3.6.0->ipywidgets<8,>=7.0.0->keplergl) (1.0.0)\n",
            "Requirement already satisfied: ptyprocess>=0.5 in /usr/local/lib/python3.10/dist-packages (from pexpect>4.3->ipython>=4.0.0->ipywidgets<8,>=7.0.0->keplergl) (0.7.0)\n",
            "Requirement already satisfied: wcwidth in /usr/local/lib/python3.10/dist-packages (from prompt-toolkit!=3.0.0,!=3.0.1,<3.1.0,>=2.0.0->ipython>=4.0.0->ipywidgets<8,>=7.0.0->keplergl) (0.2.13)\n",
            "Requirement already satisfied: platformdirs>=2.5 in /usr/local/lib/python3.10/dist-packages (from jupyter-core>=4.6.1->notebook>=4.4.1->widgetsnbextension~=3.6.0->ipywidgets<8,>=7.0.0->keplergl) (4.1.0)\n",
            "Requirement already satisfied: jupyter-server>=1.8 in /usr/local/lib/python3.10/dist-packages (from nbclassic>=0.4.7->notebook>=4.4.1->widgetsnbextension~=3.6.0->ipywidgets<8,>=7.0.0->keplergl) (1.24.0)\n",
            "Requirement already satisfied: notebook-shim>=0.2.3 in /usr/local/lib/python3.10/dist-packages (from nbclassic>=0.4.7->notebook>=4.4.1->widgetsnbextension~=3.6.0->ipywidgets<8,>=7.0.0->keplergl) (0.2.3)\n",
            "Requirement already satisfied: lxml in /usr/local/lib/python3.10/dist-packages (from nbconvert>=5->notebook>=4.4.1->widgetsnbextension~=3.6.0->ipywidgets<8,>=7.0.0->keplergl) (4.9.4)\n",
            "Requirement already satisfied: beautifulsoup4 in /usr/local/lib/python3.10/dist-packages (from nbconvert>=5->notebook>=4.4.1->widgetsnbextension~=3.6.0->ipywidgets<8,>=7.0.0->keplergl) (4.11.2)\n",
            "Requirement already satisfied: bleach in /usr/local/lib/python3.10/dist-packages (from nbconvert>=5->notebook>=4.4.1->widgetsnbextension~=3.6.0->ipywidgets<8,>=7.0.0->keplergl) (6.1.0)\n",
            "Requirement already satisfied: defusedxml in /usr/local/lib/python3.10/dist-packages (from nbconvert>=5->notebook>=4.4.1->widgetsnbextension~=3.6.0->ipywidgets<8,>=7.0.0->keplergl) (0.7.1)\n",
            "Requirement already satisfied: entrypoints>=0.2.2 in /usr/local/lib/python3.10/dist-packages (from nbconvert>=5->notebook>=4.4.1->widgetsnbextension~=3.6.0->ipywidgets<8,>=7.0.0->keplergl) (0.4)\n",
            "Requirement already satisfied: jupyterlab-pygments in /usr/local/lib/python3.10/dist-packages (from nbconvert>=5->notebook>=4.4.1->widgetsnbextension~=3.6.0->ipywidgets<8,>=7.0.0->keplergl) (0.3.0)\n",
            "Requirement already satisfied: MarkupSafe>=2.0 in /usr/local/lib/python3.10/dist-packages (from nbconvert>=5->notebook>=4.4.1->widgetsnbextension~=3.6.0->ipywidgets<8,>=7.0.0->keplergl) (2.1.4)\n",
            "Requirement already satisfied: mistune<2,>=0.8.1 in /usr/local/lib/python3.10/dist-packages (from nbconvert>=5->notebook>=4.4.1->widgetsnbextension~=3.6.0->ipywidgets<8,>=7.0.0->keplergl) (0.8.4)\n",
            "Requirement already satisfied: nbclient>=0.5.0 in /usr/local/lib/python3.10/dist-packages (from nbconvert>=5->notebook>=4.4.1->widgetsnbextension~=3.6.0->ipywidgets<8,>=7.0.0->keplergl) (0.9.0)\n",
            "Requirement already satisfied: pandocfilters>=1.4.1 in /usr/local/lib/python3.10/dist-packages (from nbconvert>=5->notebook>=4.4.1->widgetsnbextension~=3.6.0->ipywidgets<8,>=7.0.0->keplergl) (1.5.1)\n",
            "Requirement already satisfied: tinycss2 in /usr/local/lib/python3.10/dist-packages (from nbconvert>=5->notebook>=4.4.1->widgetsnbextension~=3.6.0->ipywidgets<8,>=7.0.0->keplergl) (1.2.1)\n",
            "Requirement already satisfied: fastjsonschema in /usr/local/lib/python3.10/dist-packages (from nbformat->notebook>=4.4.1->widgetsnbextension~=3.6.0->ipywidgets<8,>=7.0.0->keplergl) (2.19.1)\n",
            "Requirement already satisfied: jsonschema>=2.6 in /usr/local/lib/python3.10/dist-packages (from nbformat->notebook>=4.4.1->widgetsnbextension~=3.6.0->ipywidgets<8,>=7.0.0->keplergl) (4.19.2)\n",
            "Requirement already satisfied: argon2-cffi-bindings in /usr/local/lib/python3.10/dist-packages (from argon2-cffi->notebook>=4.4.1->widgetsnbextension~=3.6.0->ipywidgets<8,>=7.0.0->keplergl) (21.2.0)\n",
            "Requirement already satisfied: jsonschema-specifications>=2023.03.6 in /usr/local/lib/python3.10/dist-packages (from jsonschema>=2.6->nbformat->notebook>=4.4.1->widgetsnbextension~=3.6.0->ipywidgets<8,>=7.0.0->keplergl) (2023.12.1)\n",
            "Requirement already satisfied: referencing>=0.28.4 in /usr/local/lib/python3.10/dist-packages (from jsonschema>=2.6->nbformat->notebook>=4.4.1->widgetsnbextension~=3.6.0->ipywidgets<8,>=7.0.0->keplergl) (0.32.1)\n",
            "Requirement already satisfied: rpds-py>=0.7.1 in /usr/local/lib/python3.10/dist-packages (from jsonschema>=2.6->nbformat->notebook>=4.4.1->widgetsnbextension~=3.6.0->ipywidgets<8,>=7.0.0->keplergl) (0.17.1)\n",
            "Requirement already satisfied: anyio<4,>=3.1.0 in /usr/local/lib/python3.10/dist-packages (from jupyter-server>=1.8->nbclassic>=0.4.7->notebook>=4.4.1->widgetsnbextension~=3.6.0->ipywidgets<8,>=7.0.0->keplergl) (3.7.1)\n",
            "Requirement already satisfied: websocket-client in /usr/local/lib/python3.10/dist-packages (from jupyter-server>=1.8->nbclassic>=0.4.7->notebook>=4.4.1->widgetsnbextension~=3.6.0->ipywidgets<8,>=7.0.0->keplergl) (1.7.0)\n",
            "Requirement already satisfied: cffi>=1.0.1 in /usr/local/lib/python3.10/dist-packages (from argon2-cffi-bindings->argon2-cffi->notebook>=4.4.1->widgetsnbextension~=3.6.0->ipywidgets<8,>=7.0.0->keplergl) (1.16.0)\n",
            "Requirement already satisfied: soupsieve>1.2 in /usr/local/lib/python3.10/dist-packages (from beautifulsoup4->nbconvert>=5->notebook>=4.4.1->widgetsnbextension~=3.6.0->ipywidgets<8,>=7.0.0->keplergl) (2.5)\n",
            "Requirement already satisfied: webencodings in /usr/local/lib/python3.10/dist-packages (from bleach->nbconvert>=5->notebook>=4.4.1->widgetsnbextension~=3.6.0->ipywidgets<8,>=7.0.0->keplergl) (0.5.1)\n",
            "Requirement already satisfied: idna>=2.8 in /usr/local/lib/python3.10/dist-packages (from anyio<4,>=3.1.0->jupyter-server>=1.8->nbclassic>=0.4.7->notebook>=4.4.1->widgetsnbextension~=3.6.0->ipywidgets<8,>=7.0.0->keplergl) (3.6)\n",
            "Requirement already satisfied: sniffio>=1.1 in /usr/local/lib/python3.10/dist-packages (from anyio<4,>=3.1.0->jupyter-server>=1.8->nbclassic>=0.4.7->notebook>=4.4.1->widgetsnbextension~=3.6.0->ipywidgets<8,>=7.0.0->keplergl) (1.3.0)\n",
            "Requirement already satisfied: exceptiongroup in /usr/local/lib/python3.10/dist-packages (from anyio<4,>=3.1.0->jupyter-server>=1.8->nbclassic>=0.4.7->notebook>=4.4.1->widgetsnbextension~=3.6.0->ipywidgets<8,>=7.0.0->keplergl) (1.2.0)\n",
            "Requirement already satisfied: pycparser in /usr/local/lib/python3.10/dist-packages (from cffi>=1.0.1->argon2-cffi-bindings->argon2-cffi->notebook>=4.4.1->widgetsnbextension~=3.6.0->ipywidgets<8,>=7.0.0->keplergl) (2.21)\n",
            "Building wheels for collected packages: keplergl\n",
            "  Building wheel for keplergl (pyproject.toml) ... \u001b[?25l\u001b[?25hdone\n",
            "  Created wheel for keplergl: filename=keplergl-0.3.2-py2.py3-none-any.whl size=17922315 sha256=6c4963a8af008e89f66bd65ed96c31a9d2a6f82153d8dafad5ffe086b3138468\n",
            "  Stored in directory: /root/.cache/pip/wheels/e5/e9/db/b8b8f2fcb5cb1cd7268d88959fce267bc00697cb8f50dcd0d9\n",
            "Successfully built keplergl\n",
            "Installing collected packages: jedi, keplergl\n",
            "Successfully installed jedi-0.19.1 keplergl-0.3.2\n"
          ]
        }
      ]
    },
    {
      "cell_type": "code",
      "execution_count": null,
      "metadata": {
        "id": "_8HB6sR6MZ4O"
      },
      "outputs": [],
      "source": [
        "from keplergl import KeplerGl\n",
        "\n",
        "# Uncomment the following line if you are using Google Colab\n",
        "from google.colab import output\n",
        "output.enable_custom_widget_manager()"
      ]
    },
    {
      "cell_type": "code",
      "execution_count": null,
      "metadata": {
        "colab": {
          "base_uri": "https://localhost:8080/"
        },
        "id": "RT-YTrY-MZ4O",
        "outputId": "b9498fc9-7b25-4570-ca37-c09174cb3d5c"
      },
      "outputs": [
        {
          "output_type": "stream",
          "name": "stdout",
          "text": [
            "      dest lat  dest lon\n",
            "2088    35.505    51.180\n",
            "2089    35.625    51.125\n",
            "2090    35.785    51.315\n",
            "2091    35.700    51.210\n",
            "2092    35.625    51.125\n",
            "...        ...       ...\n",
            "2406    35.625    51.125\n",
            "2407    35.565    51.060\n",
            "2408    35.625    51.125\n",
            "2409    35.750    51.385\n",
            "2410    35.700    51.210\n",
            "\n",
            "[323 rows x 2 columns]\n"
          ]
        }
      ],
      "source": [
        "# choose the data related to the randomly selected user\n",
        "# show destinations of this user on map\n",
        "# You should Use Kepler.gl to visualize the data\n",
        "user_data = train_df[train_df['user_id'] == random_user]\n",
        "print(user_data[['dest lat', 'dest lon']])\n",
        "# TODO"
      ]
    },
    {
      "cell_type": "code",
      "execution_count": null,
      "metadata": {
        "colab": {
          "base_uri": "https://localhost:8080/",
          "height": 622,
          "referenced_widgets": [
            "419839d3aec94944a267c5c4cbfd2622",
            "3c60efc7825549a695e07ff7d2e4b515"
          ]
        },
        "id": "7MkuLtErMZ4O",
        "outputId": "e5cf0d7f-ccb2-442c-f0b7-da3694224b50"
      },
      "outputs": [
        {
          "output_type": "stream",
          "name": "stdout",
          "text": [
            "User Guide: https://docs.kepler.gl/docs/keplergl-jupyter\n"
          ]
        },
        {
          "output_type": "display_data",
          "data": {
            "text/plain": [
              "KeplerGl(data={'user_id':       dest lat  dest lon\n",
              "2088    35.505    51.180\n",
              "2089    35.625    51.125\n",
              "2090    3…"
            ],
            "application/vnd.jupyter.widget-view+json": {
              "version_major": 2,
              "version_minor": 0,
              "model_id": "419839d3aec94944a267c5c4cbfd2622"
            }
          },
          "metadata": {
            "application/vnd.jupyter.widget-view+json": {
              "colab": {
                "custom_widget_manager": {
                  "url": "https://ssl.gstatic.com/colaboratory-static/widgets/colab-cdn-widget-manager/2b70e893a8ba7c0f/manager.min.js"
                }
              }
            }
          }
        }
      ],
      "source": [
        "# Sample output:\n",
        "map_ = KeplerGl(height=600, data={'user_id': user_data[['dest lat', 'dest lon']]})\n",
        "map_"
      ]
    },
    {
      "cell_type": "markdown",
      "metadata": {
        "id": "d3O75qi3MZ4O"
      },
      "source": [
        "Here, you should do feature engineering stuff! Extract the features that you think are important. Split the features into training set and also extract the related outputs (used for our model further). These outputs may be strings (name of destination) or destination's latitude/longitude or etc. Use your creativity!"
      ]
    },
    {
      "cell_type": "code",
      "execution_count": null,
      "metadata": {
        "id": "l01-X5u_MZ4O"
      },
      "outputs": [],
      "source": [
        "# TODO\n",
        "train_df['st'] = pd.to_datetime(train_df['start_time'])\n",
        "train_df['et'] = pd.to_datetime(train_df['end_time'])\n",
        "\n",
        "test_df['st'] = pd.to_datetime(test_df['start_time'])\n",
        "test_df['et'] = pd.to_datetime(test_df['end_time'])\n",
        "\n",
        "train_df['start_hour'] = pd.to_datetime(train_df['start_time']).dt.hour\n",
        "test_df['start_hour'] = pd.to_datetime(test_df['start_time']).dt.hour\n",
        "\n",
        "\n",
        "train_df['duration'] = (train_df['st'] - train_df['et']).dt.total_seconds() // 60\n",
        "test_df['duration'] = (test_df['st'] - test_df['et']).dt.total_seconds() // 60\n",
        "\n",
        "selected_features = ['user_id', 'Day', 'origin lat', 'origin lon', 'start_hour', 'duration']\n",
        "X_train_knn = train_df[selected_features]\n",
        "Y_train_knn = train_df[['dest lat', 'dest lon']]\n",
        "\n",
        "X_test_knn = test_df[selected_features]\n",
        "Y_test_knn = test_df[['dest lat', 'dest lon']]\n",
        "\n",
        "\n",
        "\n"
      ]
    },
    {
      "cell_type": "code",
      "execution_count": null,
      "metadata": {
        "colab": {
          "base_uri": "https://localhost:8080/"
        },
        "id": "lDxVPgoKMZ4O",
        "outputId": "2da9f41a-a136-468d-d9f0-83ae82ef3faf"
      },
      "outputs": [
        {
          "output_type": "stream",
          "name": "stdout",
          "text": [
            "Training set shape: ((17994, 6), (17994, 2))\n",
            "Testing set shape: ((4499, 6), (4499, 2))\n"
          ]
        }
      ],
      "source": [
        "# print out the shape of the train and test dataframes\n",
        "# TODO\n",
        "print(\"Training set shape:\", (X_train_knn.shape, Y_train_knn.shape))\n",
        "print(\"Testing set shape:\", (X_test_knn.shape, Y_test_knn.shape))"
      ]
    },
    {
      "cell_type": "markdown",
      "metadata": {
        "id": "wWehPVKWMZ4P"
      },
      "source": [
        "## KNN Model"
      ]
    },
    {
      "cell_type": "markdown",
      "metadata": {
        "id": "o_pBGI2uMZ4P"
      },
      "source": [
        "In this section, we are going to implement our KNN model. For further information on how KNN works, please refer to [this](https://en.wikipedia.org/wiki/K-nearest_neighbors_algorithm) link. As you can see, it's a simple algorithm. We will start with this and see the results of our _destination suggestion_ system."
      ]
    },
    {
      "cell_type": "code",
      "execution_count": null,
      "metadata": {
        "id": "YBNv-M0IMZ4P"
      },
      "outputs": [],
      "source": [
        "# Define the model\n",
        "# TODO: You can change the signature of functions and also add any function you need\n",
        "\n",
        "class NearestNeighbor():\n",
        "    def __init__(self, k=5):\n",
        "        self.k = k\n",
        "        self.train_X = None\n",
        "        self.train_y = None\n",
        "        pass\n",
        "\n",
        "    def fit(self, train_X, train_y):\n",
        "        self.train_X = train_X\n",
        "        self.train_y = train_y\n",
        "        pass\n",
        "\n",
        "    def predict(self, x):\n",
        "        predictions = []\n",
        "        for idx in range(x.shape[0]):\n",
        "          distances = np.linalg.norm(self.train_X - x.iloc[idx, :], axis=1)\n",
        "          k_nearest_indices = np.argsort(distances)[:self.k]\n",
        "          k_nearest_neighbors = self.train_y.iloc[k_nearest_indices]\n",
        "          prediction = np.mean(k_nearest_neighbors, axis=0)\n",
        "          predictions.append(prediction.round(3))\n",
        "        return pd.DataFrame(predictions, columns=self.train_y.columns)\n",
        "        pass\n"
      ]
    },
    {
      "cell_type": "code",
      "execution_count": null,
      "metadata": {
        "id": "-iznz5PbMZ4P"
      },
      "outputs": [],
      "source": [
        "# Fit the model on training data\n",
        "# TODO\n",
        "knn_model = NearestNeighbor(k=1)\n",
        "knn_model.fit(X_train_knn, Y_train_knn)"
      ]
    },
    {
      "cell_type": "code",
      "source": [
        "def accuracy_calc(predictions, y_true):\n",
        "  m = len(predictions)\n",
        "  correct = 0\n",
        "  for idx in range(m):\n",
        "    if predictions[idx][0] == y_true[idx][0] and predictions[idx][1] == y_true[idx][1]:\n",
        "      correct += 1\n",
        "  return correct / m"
      ],
      "metadata": {
        "id": "DNTyWrvOWB76"
      },
      "execution_count": null,
      "outputs": []
    },
    {
      "cell_type": "code",
      "execution_count": null,
      "metadata": {
        "id": "iEVfj3ZwMZ4P"
      },
      "outputs": [],
      "source": [
        "# Calculate the accuracy on training data\n",
        "# TODO\n",
        "training_predictions = knn_model.predict(X_train_knn)\n",
        "# print(training_predictions)\n",
        "# training_predictions.head()\n"
      ]
    },
    {
      "cell_type": "code",
      "source": [
        "print(accuracy_calc(training_predictions.to_numpy(), Y_train_knn.to_numpy()) * 100)"
      ],
      "metadata": {
        "colab": {
          "base_uri": "https://localhost:8080/"
        },
        "id": "dbhyspMgnl5o",
        "outputId": "0bc9a2cf-e1cf-41dd-a955-d208d76d859f"
      },
      "execution_count": null,
      "outputs": [
        {
          "output_type": "stream",
          "name": "stdout",
          "text": [
            "99.24419250861398\n"
          ]
        }
      ]
    },
    {
      "cell_type": "code",
      "execution_count": null,
      "metadata": {
        "id": "-2T-eAZ3MZ4P"
      },
      "outputs": [],
      "source": [
        "# Calculate the accuracy on test data\n",
        "# TODO\n",
        "test_predictions = knn_model.predict(X_test_knn)"
      ]
    },
    {
      "cell_type": "code",
      "source": [
        "print(accuracy_calc(test_predictions.to_numpy(), Y_test_knn.to_numpy()) * 100)"
      ],
      "metadata": {
        "colab": {
          "base_uri": "https://localhost:8080/"
        },
        "id": "wKYihTsin-8F",
        "outputId": "3b68bc6c-5cb5-4e28-d70b-b15d1cbd0532"
      },
      "execution_count": null,
      "outputs": [
        {
          "output_type": "stream",
          "name": "stdout",
          "text": [
            "52.411647032673926\n"
          ]
        }
      ]
    },
    {
      "cell_type": "markdown",
      "metadata": {
        "id": "4GpPp11XMZ4P"
      },
      "source": [
        "**QUESTION**: What do you think about this approach? Is it a good idea to use KNN for this problem? Why (or why not)? If the patterns in our datatset (passengers' history) get more complicated, will our model be robust to it in comparison to other models?\n",
        "\n",
        "Your Answer: ..."
      ]
    },
    {
      "cell_type": "markdown",
      "source": [
        "No because this type of problem has numerous features which are not that easy to handle and KNN's approach is simple for this type of problem, And as we see it has overfitting problem and train data is nearly 100 accurate but test data has not got a satisfactory result"
      ],
      "metadata": {
        "id": "vvp5d_WwBLVm"
      }
    },
    {
      "cell_type": "markdown",
      "metadata": {
        "id": "_Uy16pTRMZ4P"
      },
      "source": [
        "# Second Approach: Using XGBoost"
      ]
    },
    {
      "cell_type": "markdown",
      "metadata": {
        "id": "zhZges_aMZ4P"
      },
      "source": [
        "In this part, we are going to use XGBoost to predict the next destination of the passenger. You can use `xgboost` library to implement this model. To learn more about XGBoost, please refer to [this](https://en.wikipedia.org/wiki/XGBoost) link. It should be familiar to you, as you saw decision trees in the class.\n",
        "\n",
        "For this part, you can use the same data (that you did all the processes on) from the previous part. Or, if you need, you can reload the dataset and do new preprocessings on it."
      ]
    },
    {
      "cell_type": "markdown",
      "metadata": {
        "id": "Hr9Wx1b0MZ4Q"
      },
      "source": [
        "You can see the overview of how XGBoost works in the image below:\n",
        "\n",
        "<dev style=\"text-align: center\">\n",
        "<img src=\"./Images/XGBoost.png\" />\n",
        "</dev>"
      ]
    },
    {
      "cell_type": "markdown",
      "metadata": {
        "id": "rOwh8Kv4MZ4Q"
      },
      "source": [
        "Although, this is for more information and you **do not** need to implement `XGBoost` from scratch. You can use the library that we mentioned above."
      ]
    },
    {
      "cell_type": "code",
      "execution_count": null,
      "metadata": {
        "colab": {
          "base_uri": "https://localhost:8080/"
        },
        "id": "LaIy1UFBMZ4Q",
        "outputId": "e387be5b-c50f-47b5-a243-1d4f4be23dfb"
      },
      "outputs": [
        {
          "output_type": "stream",
          "name": "stdout",
          "text": [
            "Requirement already satisfied: xgboost in /usr/local/lib/python3.10/dist-packages (2.0.3)\n",
            "Requirement already satisfied: numpy in /usr/local/lib/python3.10/dist-packages (from xgboost) (1.23.5)\n",
            "Requirement already satisfied: scipy in /usr/local/lib/python3.10/dist-packages (from xgboost) (1.11.4)\n"
          ]
        }
      ],
      "source": [
        "%pip install xgboost"
      ]
    },
    {
      "cell_type": "code",
      "execution_count": null,
      "metadata": {
        "id": "ZL36g-TQMZ4Q"
      },
      "outputs": [],
      "source": [
        "import xgboost as xgb\n",
        "\n",
        "# Defining the model\n",
        "# TODO: You can change the signature of functions and also add any function you need\n",
        "class Encoder():\n",
        "    def __init__(self):\n",
        "        self.cnt = 0\n",
        "        self.tran = {}\n",
        "        self.inv_tran = {}\n",
        "        pass\n",
        "\n",
        "    def fit(self, y):\n",
        "        Y_ = y.to_numpy()\n",
        "        for idx in range(len(Y_)):\n",
        "          if (Y_[idx][0], Y_[idx][1]) not in self.tran:\n",
        "            self.tran[(Y_[idx][0], Y_[idx][1])] = self.cnt\n",
        "            self.inv_tran[self.cnt] = Y_[idx]\n",
        "            self.cnt += 1\n",
        "        return self.transform(Y_)\n",
        "        pass\n",
        "\n",
        "    def transform(self, y):\n",
        "        y_out = [self.tran[(y[idx][0], y[idx][1])] for idx in range(len(y))]\n",
        "        return y_out\n",
        "        pass\n",
        "\n",
        "    def inverse_transform(self, enc):\n",
        "        y_out = []\n",
        "        for idx in range(len(enc)):\n",
        "          y_out.append(self.inv_tran[enc[idx]])\n",
        "        return np.array(y_out)\n",
        "        pass\n"
      ]
    },
    {
      "cell_type": "code",
      "execution_count": null,
      "metadata": {
        "id": "-l5bSZ17MZ4Q"
      },
      "outputs": [],
      "source": [
        "# TODO: fit the Encoder on training data\n",
        "encoder = Encoder()\n",
        "Y_xgb = encoder.fit(Y_train_knn)\n",
        "X_xgb = np.array(X_train_knn.to_numpy(), dtype=np.float64)\n",
        "\n"
      ]
    },
    {
      "cell_type": "code",
      "execution_count": null,
      "metadata": {
        "id": "QsNa-QC6MZ4Q",
        "outputId": "7bec791f-ee5c-4727-e387-29111cc5e65b",
        "colab": {
          "base_uri": "https://localhost:8080/",
          "height": 248
        }
      },
      "outputs": [
        {
          "output_type": "execute_result",
          "data": {
            "text/plain": [
              "XGBClassifier(base_score=None, booster=None, callbacks=None,\n",
              "              colsample_bylevel=None, colsample_bynode=None,\n",
              "              colsample_bytree=None, device=None, early_stopping_rounds=None,\n",
              "              enable_categorical=False, eval_metric=None, feature_types=None,\n",
              "              gamma=None, grow_policy=None, importance_type=None,\n",
              "              interaction_constraints=None, learning_rate=None, max_bin=None,\n",
              "              max_cat_threshold=None, max_cat_to_onehot=None,\n",
              "              max_delta_step=None, max_depth=None, max_leaves=None,\n",
              "              min_child_weight=None, missing=nan, monotone_constraints=None,\n",
              "              multi_strategy=None, n_estimators=None, n_jobs=None,\n",
              "              num_parallel_tree=None, objective='multi:softprob', ...)"
            ],
            "text/html": [
              "<style>#sk-container-id-2 {color: black;background-color: white;}#sk-container-id-2 pre{padding: 0;}#sk-container-id-2 div.sk-toggleable {background-color: white;}#sk-container-id-2 label.sk-toggleable__label {cursor: pointer;display: block;width: 100%;margin-bottom: 0;padding: 0.3em;box-sizing: border-box;text-align: center;}#sk-container-id-2 label.sk-toggleable__label-arrow:before {content: \"▸\";float: left;margin-right: 0.25em;color: #696969;}#sk-container-id-2 label.sk-toggleable__label-arrow:hover:before {color: black;}#sk-container-id-2 div.sk-estimator:hover label.sk-toggleable__label-arrow:before {color: black;}#sk-container-id-2 div.sk-toggleable__content {max-height: 0;max-width: 0;overflow: hidden;text-align: left;background-color: #f0f8ff;}#sk-container-id-2 div.sk-toggleable__content pre {margin: 0.2em;color: black;border-radius: 0.25em;background-color: #f0f8ff;}#sk-container-id-2 input.sk-toggleable__control:checked~div.sk-toggleable__content {max-height: 200px;max-width: 100%;overflow: auto;}#sk-container-id-2 input.sk-toggleable__control:checked~label.sk-toggleable__label-arrow:before {content: \"▾\";}#sk-container-id-2 div.sk-estimator input.sk-toggleable__control:checked~label.sk-toggleable__label {background-color: #d4ebff;}#sk-container-id-2 div.sk-label input.sk-toggleable__control:checked~label.sk-toggleable__label {background-color: #d4ebff;}#sk-container-id-2 input.sk-hidden--visually {border: 0;clip: rect(1px 1px 1px 1px);clip: rect(1px, 1px, 1px, 1px);height: 1px;margin: -1px;overflow: hidden;padding: 0;position: absolute;width: 1px;}#sk-container-id-2 div.sk-estimator {font-family: monospace;background-color: #f0f8ff;border: 1px dotted black;border-radius: 0.25em;box-sizing: border-box;margin-bottom: 0.5em;}#sk-container-id-2 div.sk-estimator:hover {background-color: #d4ebff;}#sk-container-id-2 div.sk-parallel-item::after {content: \"\";width: 100%;border-bottom: 1px solid gray;flex-grow: 1;}#sk-container-id-2 div.sk-label:hover label.sk-toggleable__label {background-color: #d4ebff;}#sk-container-id-2 div.sk-serial::before {content: \"\";position: absolute;border-left: 1px solid gray;box-sizing: border-box;top: 0;bottom: 0;left: 50%;z-index: 0;}#sk-container-id-2 div.sk-serial {display: flex;flex-direction: column;align-items: center;background-color: white;padding-right: 0.2em;padding-left: 0.2em;position: relative;}#sk-container-id-2 div.sk-item {position: relative;z-index: 1;}#sk-container-id-2 div.sk-parallel {display: flex;align-items: stretch;justify-content: center;background-color: white;position: relative;}#sk-container-id-2 div.sk-item::before, #sk-container-id-2 div.sk-parallel-item::before {content: \"\";position: absolute;border-left: 1px solid gray;box-sizing: border-box;top: 0;bottom: 0;left: 50%;z-index: -1;}#sk-container-id-2 div.sk-parallel-item {display: flex;flex-direction: column;z-index: 1;position: relative;background-color: white;}#sk-container-id-2 div.sk-parallel-item:first-child::after {align-self: flex-end;width: 50%;}#sk-container-id-2 div.sk-parallel-item:last-child::after {align-self: flex-start;width: 50%;}#sk-container-id-2 div.sk-parallel-item:only-child::after {width: 0;}#sk-container-id-2 div.sk-dashed-wrapped {border: 1px dashed gray;margin: 0 0.4em 0.5em 0.4em;box-sizing: border-box;padding-bottom: 0.4em;background-color: white;}#sk-container-id-2 div.sk-label label {font-family: monospace;font-weight: bold;display: inline-block;line-height: 1.2em;}#sk-container-id-2 div.sk-label-container {text-align: center;}#sk-container-id-2 div.sk-container {/* jupyter's `normalize.less` sets `[hidden] { display: none; }` but bootstrap.min.css set `[hidden] { display: none !important; }` so we also need the `!important` here to be able to override the default hidden behavior on the sphinx rendered scikit-learn.org. See: https://github.com/scikit-learn/scikit-learn/issues/21755 */display: inline-block !important;position: relative;}#sk-container-id-2 div.sk-text-repr-fallback {display: none;}</style><div id=\"sk-container-id-2\" class=\"sk-top-container\"><div class=\"sk-text-repr-fallback\"><pre>XGBClassifier(base_score=None, booster=None, callbacks=None,\n",
              "              colsample_bylevel=None, colsample_bynode=None,\n",
              "              colsample_bytree=None, device=None, early_stopping_rounds=None,\n",
              "              enable_categorical=False, eval_metric=None, feature_types=None,\n",
              "              gamma=None, grow_policy=None, importance_type=None,\n",
              "              interaction_constraints=None, learning_rate=None, max_bin=None,\n",
              "              max_cat_threshold=None, max_cat_to_onehot=None,\n",
              "              max_delta_step=None, max_depth=None, max_leaves=None,\n",
              "              min_child_weight=None, missing=nan, monotone_constraints=None,\n",
              "              multi_strategy=None, n_estimators=None, n_jobs=None,\n",
              "              num_parallel_tree=None, objective=&#x27;multi:softprob&#x27;, ...)</pre><b>In a Jupyter environment, please rerun this cell to show the HTML representation or trust the notebook. <br />On GitHub, the HTML representation is unable to render, please try loading this page with nbviewer.org.</b></div><div class=\"sk-container\" hidden><div class=\"sk-item\"><div class=\"sk-estimator sk-toggleable\"><input class=\"sk-toggleable__control sk-hidden--visually\" id=\"sk-estimator-id-2\" type=\"checkbox\" checked><label for=\"sk-estimator-id-2\" class=\"sk-toggleable__label sk-toggleable__label-arrow\">XGBClassifier</label><div class=\"sk-toggleable__content\"><pre>XGBClassifier(base_score=None, booster=None, callbacks=None,\n",
              "              colsample_bylevel=None, colsample_bynode=None,\n",
              "              colsample_bytree=None, device=None, early_stopping_rounds=None,\n",
              "              enable_categorical=False, eval_metric=None, feature_types=None,\n",
              "              gamma=None, grow_policy=None, importance_type=None,\n",
              "              interaction_constraints=None, learning_rate=None, max_bin=None,\n",
              "              max_cat_threshold=None, max_cat_to_onehot=None,\n",
              "              max_delta_step=None, max_depth=None, max_leaves=None,\n",
              "              min_child_weight=None, missing=nan, monotone_constraints=None,\n",
              "              multi_strategy=None, n_estimators=None, n_jobs=None,\n",
              "              num_parallel_tree=None, objective=&#x27;multi:softprob&#x27;, ...)</pre></div></div></div></div></div>"
            ]
          },
          "metadata": {},
          "execution_count": 26
        }
      ],
      "source": [
        "# TODO: transform the training and test data\n",
        "# and fit the model on training data\n",
        "classifier = xgb.XGBClassifier()\n",
        "classifier.fit(X_xgb, Y_xgb)"
      ]
    },
    {
      "cell_type": "code",
      "execution_count": null,
      "metadata": {
        "id": "60xA7Ck2MZ4Q",
        "outputId": "127bbe3c-2a29-4fe9-c1ab-af0ed6067019",
        "colab": {
          "base_uri": "https://localhost:8080/"
        }
      },
      "outputs": [
        {
          "output_type": "stream",
          "name": "stdout",
          "text": [
            "0.9867177948204957\n"
          ]
        }
      ],
      "source": [
        "# TODO: print out train-data accuracy\n",
        "train_predictions = encoder.inverse_transform(classifier.predict(X_xgb))\n",
        "train_predictions = train_predictions.round(3)\n",
        "print(accuracy_calc(train_predictions, Y_train_knn.to_numpy()))"
      ]
    },
    {
      "cell_type": "code",
      "execution_count": null,
      "metadata": {
        "id": "6oa7j6q7MZ4Q",
        "outputId": "7c7985ba-7da3-41ac-d407-00262d01c93d",
        "colab": {
          "base_uri": "https://localhost:8080/"
        }
      },
      "outputs": [
        {
          "output_type": "stream",
          "name": "stdout",
          "text": [
            "0.7477217159368749\n"
          ]
        }
      ],
      "source": [
        "# TODO: print out test-data accuracy\n",
        "test_predictions = encoder.inverse_transform(classifier.predict(np.array(X_test_knn.to_numpy(), dtype=np.float64)\n",
        "))\n",
        "test_predictions = test_predictions.round(3)\n",
        "print(accuracy_calc(test_predictions, Y_test_knn.to_numpy()))"
      ]
    },
    {
      "cell_type": "markdown",
      "metadata": {
        "id": "xn8FgBBJMZ4R"
      },
      "source": [
        "**QUESTION**: What do you think about this approach? Is it a good idea to use XGBoost for this problem? Why (or why not)? If the patterns in our datatset (passengers' history) get more complicated, will our model be robust to it in comparison to other models?\n",
        "\n",
        "Your Answer: ..."
      ]
    },
    {
      "cell_type": "markdown",
      "source": [
        "It's a better option when compared to knn as we see the accuracy in the test data has increased but still there's a significant gap between 74 and 98, which shows maybe this model is not that capable for this line of problem especially if our dataset and its patterns and column and the relation between them gets more complicated and complex"
      ],
      "metadata": {
        "id": "mid2BwtCTO4o"
      }
    },
    {
      "cell_type": "markdown",
      "metadata": {
        "id": "Ipikr4E0MZ4R"
      },
      "source": [
        "**Question**: Please explain the problem of overfitting in XGBoost. How can you solve it? Provide a brief explanation.\n",
        "\n",
        "Your Answer: ..."
      ]
    },
    {
      "cell_type": "markdown",
      "source": [
        "As we see we are encountering an overfitting problem cause the accuracy for train data is near 100 but for test is much less. When working with desicion trees and encountering overfitting, one option is to prune the tree using statistical methods like p-values, etc or force a depth (height) limit on your tree.Also regularization may help."
      ],
      "metadata": {
        "id": "0oLOtQO9T583"
      }
    },
    {
      "cell_type": "markdown",
      "metadata": {
        "id": "vuhipKeTMZ4R"
      },
      "source": [
        "# Third Approach: Classifier Using Neural Networks"
      ]
    },
    {
      "cell_type": "markdown",
      "metadata": {
        "id": "pAnUWbfUMZ4R"
      },
      "source": [
        "In this approach, we are going to use a classifier using neural networks. You can think of this approach and how to model the problem as a classification problem in many ways! So, we are not going to restrict your creativity. Just a hint: You can consider each of the unique destinations (in whole dataset) as a class and then train a classifier to classify the destinations."
      ]
    },
    {
      "cell_type": "markdown",
      "metadata": {
        "id": "fL8B4xrKMZ4U"
      },
      "source": [
        "## Data for Neural Network"
      ]
    },
    {
      "cell_type": "markdown",
      "metadata": {
        "id": "TDzp7Cb9MZ4U"
      },
      "source": [
        "Let's prepare the data for our neural network. Again, you should extract required features from the dataset and then split the dataset into train-test-val sets if necessary. For your ease, we prepared another version of `output.json` that helps you to extract features for this part, easier. So, please load `Data/trip_data.json` and use it for training set and validation set. You should use `Data/trip_data_test.json` for testing your model."
      ]
    },
    {
      "cell_type": "code",
      "execution_count": null,
      "metadata": {
        "id": "HD1iLmvtMZ4U",
        "outputId": "61229155-cde3-422d-d990-06d7f21936f9",
        "colab": {
          "base_uri": "https://localhost:8080/",
          "height": 206
        }
      },
      "outputs": [
        {
          "output_type": "execute_result",
          "data": {
            "text/plain": [
              "   user_id  Day                          origin  \\\n",
              "0        0    0        [work, [35.625, 51.375]]   \n",
              "1        0    0    [restaurant, [36.0, 51.085]]   \n",
              "2        0    0         [home, [35.68, 51.445]]   \n",
              "3        0    0  [restaurant, [35.745, 51.465]]   \n",
              "4        0    1        [work, [35.625, 51.375]]   \n",
              "\n",
              "                      destination start_time  end_time  price  \n",
              "0    [restaurant, [36.0, 51.085]]   13:07:00  14:43:00  43.99  \n",
              "1        [work, [35.625, 51.375]]   15:13:00  16:49:00  36.66  \n",
              "2  [restaurant, [35.745, 51.465]]   20:41:00  20:54:00  15.08  \n",
              "3         [home, [35.68, 51.445]]   21:24:00  21:37:00  10.00  \n",
              "4         [home, [35.68, 51.445]]   23:38:00  23:58:00  19.48  "
            ],
            "text/html": [
              "\n",
              "  <div id=\"df-81fa01b9-68c0-431d-9902-5d4f9e4065da\" class=\"colab-df-container\">\n",
              "    <div>\n",
              "<style scoped>\n",
              "    .dataframe tbody tr th:only-of-type {\n",
              "        vertical-align: middle;\n",
              "    }\n",
              "\n",
              "    .dataframe tbody tr th {\n",
              "        vertical-align: top;\n",
              "    }\n",
              "\n",
              "    .dataframe thead th {\n",
              "        text-align: right;\n",
              "    }\n",
              "</style>\n",
              "<table border=\"1\" class=\"dataframe\">\n",
              "  <thead>\n",
              "    <tr style=\"text-align: right;\">\n",
              "      <th></th>\n",
              "      <th>user_id</th>\n",
              "      <th>Day</th>\n",
              "      <th>origin</th>\n",
              "      <th>destination</th>\n",
              "      <th>start_time</th>\n",
              "      <th>end_time</th>\n",
              "      <th>price</th>\n",
              "    </tr>\n",
              "  </thead>\n",
              "  <tbody>\n",
              "    <tr>\n",
              "      <th>0</th>\n",
              "      <td>0</td>\n",
              "      <td>0</td>\n",
              "      <td>[work, [35.625, 51.375]]</td>\n",
              "      <td>[restaurant, [36.0, 51.085]]</td>\n",
              "      <td>13:07:00</td>\n",
              "      <td>14:43:00</td>\n",
              "      <td>43.99</td>\n",
              "    </tr>\n",
              "    <tr>\n",
              "      <th>1</th>\n",
              "      <td>0</td>\n",
              "      <td>0</td>\n",
              "      <td>[restaurant, [36.0, 51.085]]</td>\n",
              "      <td>[work, [35.625, 51.375]]</td>\n",
              "      <td>15:13:00</td>\n",
              "      <td>16:49:00</td>\n",
              "      <td>36.66</td>\n",
              "    </tr>\n",
              "    <tr>\n",
              "      <th>2</th>\n",
              "      <td>0</td>\n",
              "      <td>0</td>\n",
              "      <td>[home, [35.68, 51.445]]</td>\n",
              "      <td>[restaurant, [35.745, 51.465]]</td>\n",
              "      <td>20:41:00</td>\n",
              "      <td>20:54:00</td>\n",
              "      <td>15.08</td>\n",
              "    </tr>\n",
              "    <tr>\n",
              "      <th>3</th>\n",
              "      <td>0</td>\n",
              "      <td>0</td>\n",
              "      <td>[restaurant, [35.745, 51.465]]</td>\n",
              "      <td>[home, [35.68, 51.445]]</td>\n",
              "      <td>21:24:00</td>\n",
              "      <td>21:37:00</td>\n",
              "      <td>10.00</td>\n",
              "    </tr>\n",
              "    <tr>\n",
              "      <th>4</th>\n",
              "      <td>0</td>\n",
              "      <td>1</td>\n",
              "      <td>[work, [35.625, 51.375]]</td>\n",
              "      <td>[home, [35.68, 51.445]]</td>\n",
              "      <td>23:38:00</td>\n",
              "      <td>23:58:00</td>\n",
              "      <td>19.48</td>\n",
              "    </tr>\n",
              "  </tbody>\n",
              "</table>\n",
              "</div>\n",
              "    <div class=\"colab-df-buttons\">\n",
              "\n",
              "  <div class=\"colab-df-container\">\n",
              "    <button class=\"colab-df-convert\" onclick=\"convertToInteractive('df-81fa01b9-68c0-431d-9902-5d4f9e4065da')\"\n",
              "            title=\"Convert this dataframe to an interactive table.\"\n",
              "            style=\"display:none;\">\n",
              "\n",
              "  <svg xmlns=\"http://www.w3.org/2000/svg\" height=\"24px\" viewBox=\"0 -960 960 960\">\n",
              "    <path d=\"M120-120v-720h720v720H120Zm60-500h600v-160H180v160Zm220 220h160v-160H400v160Zm0 220h160v-160H400v160ZM180-400h160v-160H180v160Zm440 0h160v-160H620v160ZM180-180h160v-160H180v160Zm440 0h160v-160H620v160Z\"/>\n",
              "  </svg>\n",
              "    </button>\n",
              "\n",
              "  <style>\n",
              "    .colab-df-container {\n",
              "      display:flex;\n",
              "      gap: 12px;\n",
              "    }\n",
              "\n",
              "    .colab-df-convert {\n",
              "      background-color: #E8F0FE;\n",
              "      border: none;\n",
              "      border-radius: 50%;\n",
              "      cursor: pointer;\n",
              "      display: none;\n",
              "      fill: #1967D2;\n",
              "      height: 32px;\n",
              "      padding: 0 0 0 0;\n",
              "      width: 32px;\n",
              "    }\n",
              "\n",
              "    .colab-df-convert:hover {\n",
              "      background-color: #E2EBFA;\n",
              "      box-shadow: 0px 1px 2px rgba(60, 64, 67, 0.3), 0px 1px 3px 1px rgba(60, 64, 67, 0.15);\n",
              "      fill: #174EA6;\n",
              "    }\n",
              "\n",
              "    .colab-df-buttons div {\n",
              "      margin-bottom: 4px;\n",
              "    }\n",
              "\n",
              "    [theme=dark] .colab-df-convert {\n",
              "      background-color: #3B4455;\n",
              "      fill: #D2E3FC;\n",
              "    }\n",
              "\n",
              "    [theme=dark] .colab-df-convert:hover {\n",
              "      background-color: #434B5C;\n",
              "      box-shadow: 0px 1px 3px 1px rgba(0, 0, 0, 0.15);\n",
              "      filter: drop-shadow(0px 1px 2px rgba(0, 0, 0, 0.3));\n",
              "      fill: #FFFFFF;\n",
              "    }\n",
              "  </style>\n",
              "\n",
              "    <script>\n",
              "      const buttonEl =\n",
              "        document.querySelector('#df-81fa01b9-68c0-431d-9902-5d4f9e4065da button.colab-df-convert');\n",
              "      buttonEl.style.display =\n",
              "        google.colab.kernel.accessAllowed ? 'block' : 'none';\n",
              "\n",
              "      async function convertToInteractive(key) {\n",
              "        const element = document.querySelector('#df-81fa01b9-68c0-431d-9902-5d4f9e4065da');\n",
              "        const dataTable =\n",
              "          await google.colab.kernel.invokeFunction('convertToInteractive',\n",
              "                                                    [key], {});\n",
              "        if (!dataTable) return;\n",
              "\n",
              "        const docLinkHtml = 'Like what you see? Visit the ' +\n",
              "          '<a target=\"_blank\" href=https://colab.research.google.com/notebooks/data_table.ipynb>data table notebook</a>'\n",
              "          + ' to learn more about interactive tables.';\n",
              "        element.innerHTML = '';\n",
              "        dataTable['output_type'] = 'display_data';\n",
              "        await google.colab.output.renderOutput(dataTable, element);\n",
              "        const docLink = document.createElement('div');\n",
              "        docLink.innerHTML = docLinkHtml;\n",
              "        element.appendChild(docLink);\n",
              "      }\n",
              "    </script>\n",
              "  </div>\n",
              "\n",
              "\n",
              "<div id=\"df-c5ba8c63-764f-4de5-bfc6-b6dbaaf6c0ad\">\n",
              "  <button class=\"colab-df-quickchart\" onclick=\"quickchart('df-c5ba8c63-764f-4de5-bfc6-b6dbaaf6c0ad')\"\n",
              "            title=\"Suggest charts\"\n",
              "            style=\"display:none;\">\n",
              "\n",
              "<svg xmlns=\"http://www.w3.org/2000/svg\" height=\"24px\"viewBox=\"0 0 24 24\"\n",
              "     width=\"24px\">\n",
              "    <g>\n",
              "        <path d=\"M19 3H5c-1.1 0-2 .9-2 2v14c0 1.1.9 2 2 2h14c1.1 0 2-.9 2-2V5c0-1.1-.9-2-2-2zM9 17H7v-7h2v7zm4 0h-2V7h2v10zm4 0h-2v-4h2v4z\"/>\n",
              "    </g>\n",
              "</svg>\n",
              "  </button>\n",
              "\n",
              "<style>\n",
              "  .colab-df-quickchart {\n",
              "      --bg-color: #E8F0FE;\n",
              "      --fill-color: #1967D2;\n",
              "      --hover-bg-color: #E2EBFA;\n",
              "      --hover-fill-color: #174EA6;\n",
              "      --disabled-fill-color: #AAA;\n",
              "      --disabled-bg-color: #DDD;\n",
              "  }\n",
              "\n",
              "  [theme=dark] .colab-df-quickchart {\n",
              "      --bg-color: #3B4455;\n",
              "      --fill-color: #D2E3FC;\n",
              "      --hover-bg-color: #434B5C;\n",
              "      --hover-fill-color: #FFFFFF;\n",
              "      --disabled-bg-color: #3B4455;\n",
              "      --disabled-fill-color: #666;\n",
              "  }\n",
              "\n",
              "  .colab-df-quickchart {\n",
              "    background-color: var(--bg-color);\n",
              "    border: none;\n",
              "    border-radius: 50%;\n",
              "    cursor: pointer;\n",
              "    display: none;\n",
              "    fill: var(--fill-color);\n",
              "    height: 32px;\n",
              "    padding: 0;\n",
              "    width: 32px;\n",
              "  }\n",
              "\n",
              "  .colab-df-quickchart:hover {\n",
              "    background-color: var(--hover-bg-color);\n",
              "    box-shadow: 0 1px 2px rgba(60, 64, 67, 0.3), 0 1px 3px 1px rgba(60, 64, 67, 0.15);\n",
              "    fill: var(--button-hover-fill-color);\n",
              "  }\n",
              "\n",
              "  .colab-df-quickchart-complete:disabled,\n",
              "  .colab-df-quickchart-complete:disabled:hover {\n",
              "    background-color: var(--disabled-bg-color);\n",
              "    fill: var(--disabled-fill-color);\n",
              "    box-shadow: none;\n",
              "  }\n",
              "\n",
              "  .colab-df-spinner {\n",
              "    border: 2px solid var(--fill-color);\n",
              "    border-color: transparent;\n",
              "    border-bottom-color: var(--fill-color);\n",
              "    animation:\n",
              "      spin 1s steps(1) infinite;\n",
              "  }\n",
              "\n",
              "  @keyframes spin {\n",
              "    0% {\n",
              "      border-color: transparent;\n",
              "      border-bottom-color: var(--fill-color);\n",
              "      border-left-color: var(--fill-color);\n",
              "    }\n",
              "    20% {\n",
              "      border-color: transparent;\n",
              "      border-left-color: var(--fill-color);\n",
              "      border-top-color: var(--fill-color);\n",
              "    }\n",
              "    30% {\n",
              "      border-color: transparent;\n",
              "      border-left-color: var(--fill-color);\n",
              "      border-top-color: var(--fill-color);\n",
              "      border-right-color: var(--fill-color);\n",
              "    }\n",
              "    40% {\n",
              "      border-color: transparent;\n",
              "      border-right-color: var(--fill-color);\n",
              "      border-top-color: var(--fill-color);\n",
              "    }\n",
              "    60% {\n",
              "      border-color: transparent;\n",
              "      border-right-color: var(--fill-color);\n",
              "    }\n",
              "    80% {\n",
              "      border-color: transparent;\n",
              "      border-right-color: var(--fill-color);\n",
              "      border-bottom-color: var(--fill-color);\n",
              "    }\n",
              "    90% {\n",
              "      border-color: transparent;\n",
              "      border-bottom-color: var(--fill-color);\n",
              "    }\n",
              "  }\n",
              "</style>\n",
              "\n",
              "  <script>\n",
              "    async function quickchart(key) {\n",
              "      const quickchartButtonEl =\n",
              "        document.querySelector('#' + key + ' button');\n",
              "      quickchartButtonEl.disabled = true;  // To prevent multiple clicks.\n",
              "      quickchartButtonEl.classList.add('colab-df-spinner');\n",
              "      try {\n",
              "        const charts = await google.colab.kernel.invokeFunction(\n",
              "            'suggestCharts', [key], {});\n",
              "      } catch (error) {\n",
              "        console.error('Error during call to suggestCharts:', error);\n",
              "      }\n",
              "      quickchartButtonEl.classList.remove('colab-df-spinner');\n",
              "      quickchartButtonEl.classList.add('colab-df-quickchart-complete');\n",
              "    }\n",
              "    (() => {\n",
              "      let quickchartButtonEl =\n",
              "        document.querySelector('#df-c5ba8c63-764f-4de5-bfc6-b6dbaaf6c0ad button');\n",
              "      quickchartButtonEl.style.display =\n",
              "        google.colab.kernel.accessAllowed ? 'block' : 'none';\n",
              "    })();\n",
              "  </script>\n",
              "</div>\n",
              "    </div>\n",
              "  </div>\n"
            ]
          },
          "metadata": {},
          "execution_count": 31
        }
      ],
      "source": [
        "# load the training dataset\n",
        "# TODO\n",
        "with open('Data/trip_data.json', 'r') as file:\n",
        "    dataset = json.load(file)\n",
        "train_df = pd.DataFrame(dataset)\n",
        "train_df.head()"
      ]
    },
    {
      "cell_type": "code",
      "execution_count": null,
      "metadata": {
        "id": "FBl1vO6oMZ4V",
        "outputId": "e8555593-503b-4c00-fe21-a11265f2a7bc",
        "colab": {
          "base_uri": "https://localhost:8080/",
          "height": 206
        }
      },
      "outputs": [
        {
          "output_type": "execute_result",
          "data": {
            "text/plain": [
              "   user_id  Day                         origin  \\\n",
              "0       24    6        [pool, [35.65, 51.225]]   \n",
              "1       46    2  [university, [35.625, 51.25]]   \n",
              "2       27    5        [pool, [35.65, 51.225]]   \n",
              "3        7    4       [work, [35.875, 51.375]]   \n",
              "4       27    3       [work, [35.625, 51.375]]   \n",
              "\n",
              "                      destination start_time  end_time  price  \n",
              "0          [home, [35.64, 51.27]]   11:58:00  12:12:00  10.00  \n",
              "1   [restaurant, [35.69, 51.295]]   21:58:00  22:18:00  11.84  \n",
              "2  [restaurant, [35.865, 51.045]]   20:05:00  20:58:00  23.36  \n",
              "3         [home, [35.89, 51.315]]   17:39:00  18:17:00  13.74  \n",
              "4   [restaurant, [35.65, 51.385]]   13:16:00  13:19:00  15.08  "
            ],
            "text/html": [
              "\n",
              "  <div id=\"df-54e38948-9c2b-4f40-8acc-9ded75c76f03\" class=\"colab-df-container\">\n",
              "    <div>\n",
              "<style scoped>\n",
              "    .dataframe tbody tr th:only-of-type {\n",
              "        vertical-align: middle;\n",
              "    }\n",
              "\n",
              "    .dataframe tbody tr th {\n",
              "        vertical-align: top;\n",
              "    }\n",
              "\n",
              "    .dataframe thead th {\n",
              "        text-align: right;\n",
              "    }\n",
              "</style>\n",
              "<table border=\"1\" class=\"dataframe\">\n",
              "  <thead>\n",
              "    <tr style=\"text-align: right;\">\n",
              "      <th></th>\n",
              "      <th>user_id</th>\n",
              "      <th>Day</th>\n",
              "      <th>origin</th>\n",
              "      <th>destination</th>\n",
              "      <th>start_time</th>\n",
              "      <th>end_time</th>\n",
              "      <th>price</th>\n",
              "    </tr>\n",
              "  </thead>\n",
              "  <tbody>\n",
              "    <tr>\n",
              "      <th>0</th>\n",
              "      <td>24</td>\n",
              "      <td>6</td>\n",
              "      <td>[pool, [35.65, 51.225]]</td>\n",
              "      <td>[home, [35.64, 51.27]]</td>\n",
              "      <td>11:58:00</td>\n",
              "      <td>12:12:00</td>\n",
              "      <td>10.00</td>\n",
              "    </tr>\n",
              "    <tr>\n",
              "      <th>1</th>\n",
              "      <td>46</td>\n",
              "      <td>2</td>\n",
              "      <td>[university, [35.625, 51.25]]</td>\n",
              "      <td>[restaurant, [35.69, 51.295]]</td>\n",
              "      <td>21:58:00</td>\n",
              "      <td>22:18:00</td>\n",
              "      <td>11.84</td>\n",
              "    </tr>\n",
              "    <tr>\n",
              "      <th>2</th>\n",
              "      <td>27</td>\n",
              "      <td>5</td>\n",
              "      <td>[pool, [35.65, 51.225]]</td>\n",
              "      <td>[restaurant, [35.865, 51.045]]</td>\n",
              "      <td>20:05:00</td>\n",
              "      <td>20:58:00</td>\n",
              "      <td>23.36</td>\n",
              "    </tr>\n",
              "    <tr>\n",
              "      <th>3</th>\n",
              "      <td>7</td>\n",
              "      <td>4</td>\n",
              "      <td>[work, [35.875, 51.375]]</td>\n",
              "      <td>[home, [35.89, 51.315]]</td>\n",
              "      <td>17:39:00</td>\n",
              "      <td>18:17:00</td>\n",
              "      <td>13.74</td>\n",
              "    </tr>\n",
              "    <tr>\n",
              "      <th>4</th>\n",
              "      <td>27</td>\n",
              "      <td>3</td>\n",
              "      <td>[work, [35.625, 51.375]]</td>\n",
              "      <td>[restaurant, [35.65, 51.385]]</td>\n",
              "      <td>13:16:00</td>\n",
              "      <td>13:19:00</td>\n",
              "      <td>15.08</td>\n",
              "    </tr>\n",
              "  </tbody>\n",
              "</table>\n",
              "</div>\n",
              "    <div class=\"colab-df-buttons\">\n",
              "\n",
              "  <div class=\"colab-df-container\">\n",
              "    <button class=\"colab-df-convert\" onclick=\"convertToInteractive('df-54e38948-9c2b-4f40-8acc-9ded75c76f03')\"\n",
              "            title=\"Convert this dataframe to an interactive table.\"\n",
              "            style=\"display:none;\">\n",
              "\n",
              "  <svg xmlns=\"http://www.w3.org/2000/svg\" height=\"24px\" viewBox=\"0 -960 960 960\">\n",
              "    <path d=\"M120-120v-720h720v720H120Zm60-500h600v-160H180v160Zm220 220h160v-160H400v160Zm0 220h160v-160H400v160ZM180-400h160v-160H180v160Zm440 0h160v-160H620v160ZM180-180h160v-160H180v160Zm440 0h160v-160H620v160Z\"/>\n",
              "  </svg>\n",
              "    </button>\n",
              "\n",
              "  <style>\n",
              "    .colab-df-container {\n",
              "      display:flex;\n",
              "      gap: 12px;\n",
              "    }\n",
              "\n",
              "    .colab-df-convert {\n",
              "      background-color: #E8F0FE;\n",
              "      border: none;\n",
              "      border-radius: 50%;\n",
              "      cursor: pointer;\n",
              "      display: none;\n",
              "      fill: #1967D2;\n",
              "      height: 32px;\n",
              "      padding: 0 0 0 0;\n",
              "      width: 32px;\n",
              "    }\n",
              "\n",
              "    .colab-df-convert:hover {\n",
              "      background-color: #E2EBFA;\n",
              "      box-shadow: 0px 1px 2px rgba(60, 64, 67, 0.3), 0px 1px 3px 1px rgba(60, 64, 67, 0.15);\n",
              "      fill: #174EA6;\n",
              "    }\n",
              "\n",
              "    .colab-df-buttons div {\n",
              "      margin-bottom: 4px;\n",
              "    }\n",
              "\n",
              "    [theme=dark] .colab-df-convert {\n",
              "      background-color: #3B4455;\n",
              "      fill: #D2E3FC;\n",
              "    }\n",
              "\n",
              "    [theme=dark] .colab-df-convert:hover {\n",
              "      background-color: #434B5C;\n",
              "      box-shadow: 0px 1px 3px 1px rgba(0, 0, 0, 0.15);\n",
              "      filter: drop-shadow(0px 1px 2px rgba(0, 0, 0, 0.3));\n",
              "      fill: #FFFFFF;\n",
              "    }\n",
              "  </style>\n",
              "\n",
              "    <script>\n",
              "      const buttonEl =\n",
              "        document.querySelector('#df-54e38948-9c2b-4f40-8acc-9ded75c76f03 button.colab-df-convert');\n",
              "      buttonEl.style.display =\n",
              "        google.colab.kernel.accessAllowed ? 'block' : 'none';\n",
              "\n",
              "      async function convertToInteractive(key) {\n",
              "        const element = document.querySelector('#df-54e38948-9c2b-4f40-8acc-9ded75c76f03');\n",
              "        const dataTable =\n",
              "          await google.colab.kernel.invokeFunction('convertToInteractive',\n",
              "                                                    [key], {});\n",
              "        if (!dataTable) return;\n",
              "\n",
              "        const docLinkHtml = 'Like what you see? Visit the ' +\n",
              "          '<a target=\"_blank\" href=https://colab.research.google.com/notebooks/data_table.ipynb>data table notebook</a>'\n",
              "          + ' to learn more about interactive tables.';\n",
              "        element.innerHTML = '';\n",
              "        dataTable['output_type'] = 'display_data';\n",
              "        await google.colab.output.renderOutput(dataTable, element);\n",
              "        const docLink = document.createElement('div');\n",
              "        docLink.innerHTML = docLinkHtml;\n",
              "        element.appendChild(docLink);\n",
              "      }\n",
              "    </script>\n",
              "  </div>\n",
              "\n",
              "\n",
              "<div id=\"df-79fa83b0-b267-412f-9f84-53ac0dc9bb0c\">\n",
              "  <button class=\"colab-df-quickchart\" onclick=\"quickchart('df-79fa83b0-b267-412f-9f84-53ac0dc9bb0c')\"\n",
              "            title=\"Suggest charts\"\n",
              "            style=\"display:none;\">\n",
              "\n",
              "<svg xmlns=\"http://www.w3.org/2000/svg\" height=\"24px\"viewBox=\"0 0 24 24\"\n",
              "     width=\"24px\">\n",
              "    <g>\n",
              "        <path d=\"M19 3H5c-1.1 0-2 .9-2 2v14c0 1.1.9 2 2 2h14c1.1 0 2-.9 2-2V5c0-1.1-.9-2-2-2zM9 17H7v-7h2v7zm4 0h-2V7h2v10zm4 0h-2v-4h2v4z\"/>\n",
              "    </g>\n",
              "</svg>\n",
              "  </button>\n",
              "\n",
              "<style>\n",
              "  .colab-df-quickchart {\n",
              "      --bg-color: #E8F0FE;\n",
              "      --fill-color: #1967D2;\n",
              "      --hover-bg-color: #E2EBFA;\n",
              "      --hover-fill-color: #174EA6;\n",
              "      --disabled-fill-color: #AAA;\n",
              "      --disabled-bg-color: #DDD;\n",
              "  }\n",
              "\n",
              "  [theme=dark] .colab-df-quickchart {\n",
              "      --bg-color: #3B4455;\n",
              "      --fill-color: #D2E3FC;\n",
              "      --hover-bg-color: #434B5C;\n",
              "      --hover-fill-color: #FFFFFF;\n",
              "      --disabled-bg-color: #3B4455;\n",
              "      --disabled-fill-color: #666;\n",
              "  }\n",
              "\n",
              "  .colab-df-quickchart {\n",
              "    background-color: var(--bg-color);\n",
              "    border: none;\n",
              "    border-radius: 50%;\n",
              "    cursor: pointer;\n",
              "    display: none;\n",
              "    fill: var(--fill-color);\n",
              "    height: 32px;\n",
              "    padding: 0;\n",
              "    width: 32px;\n",
              "  }\n",
              "\n",
              "  .colab-df-quickchart:hover {\n",
              "    background-color: var(--hover-bg-color);\n",
              "    box-shadow: 0 1px 2px rgba(60, 64, 67, 0.3), 0 1px 3px 1px rgba(60, 64, 67, 0.15);\n",
              "    fill: var(--button-hover-fill-color);\n",
              "  }\n",
              "\n",
              "  .colab-df-quickchart-complete:disabled,\n",
              "  .colab-df-quickchart-complete:disabled:hover {\n",
              "    background-color: var(--disabled-bg-color);\n",
              "    fill: var(--disabled-fill-color);\n",
              "    box-shadow: none;\n",
              "  }\n",
              "\n",
              "  .colab-df-spinner {\n",
              "    border: 2px solid var(--fill-color);\n",
              "    border-color: transparent;\n",
              "    border-bottom-color: var(--fill-color);\n",
              "    animation:\n",
              "      spin 1s steps(1) infinite;\n",
              "  }\n",
              "\n",
              "  @keyframes spin {\n",
              "    0% {\n",
              "      border-color: transparent;\n",
              "      border-bottom-color: var(--fill-color);\n",
              "      border-left-color: var(--fill-color);\n",
              "    }\n",
              "    20% {\n",
              "      border-color: transparent;\n",
              "      border-left-color: var(--fill-color);\n",
              "      border-top-color: var(--fill-color);\n",
              "    }\n",
              "    30% {\n",
              "      border-color: transparent;\n",
              "      border-left-color: var(--fill-color);\n",
              "      border-top-color: var(--fill-color);\n",
              "      border-right-color: var(--fill-color);\n",
              "    }\n",
              "    40% {\n",
              "      border-color: transparent;\n",
              "      border-right-color: var(--fill-color);\n",
              "      border-top-color: var(--fill-color);\n",
              "    }\n",
              "    60% {\n",
              "      border-color: transparent;\n",
              "      border-right-color: var(--fill-color);\n",
              "    }\n",
              "    80% {\n",
              "      border-color: transparent;\n",
              "      border-right-color: var(--fill-color);\n",
              "      border-bottom-color: var(--fill-color);\n",
              "    }\n",
              "    90% {\n",
              "      border-color: transparent;\n",
              "      border-bottom-color: var(--fill-color);\n",
              "    }\n",
              "  }\n",
              "</style>\n",
              "\n",
              "  <script>\n",
              "    async function quickchart(key) {\n",
              "      const quickchartButtonEl =\n",
              "        document.querySelector('#' + key + ' button');\n",
              "      quickchartButtonEl.disabled = true;  // To prevent multiple clicks.\n",
              "      quickchartButtonEl.classList.add('colab-df-spinner');\n",
              "      try {\n",
              "        const charts = await google.colab.kernel.invokeFunction(\n",
              "            'suggestCharts', [key], {});\n",
              "      } catch (error) {\n",
              "        console.error('Error during call to suggestCharts:', error);\n",
              "      }\n",
              "      quickchartButtonEl.classList.remove('colab-df-spinner');\n",
              "      quickchartButtonEl.classList.add('colab-df-quickchart-complete');\n",
              "    }\n",
              "    (() => {\n",
              "      let quickchartButtonEl =\n",
              "        document.querySelector('#df-79fa83b0-b267-412f-9f84-53ac0dc9bb0c button');\n",
              "      quickchartButtonEl.style.display =\n",
              "        google.colab.kernel.accessAllowed ? 'block' : 'none';\n",
              "    })();\n",
              "  </script>\n",
              "</div>\n",
              "    </div>\n",
              "  </div>\n"
            ]
          },
          "metadata": {},
          "execution_count": 32
        }
      ],
      "source": [
        "# load the test dataset\n",
        "# TODO\n",
        "with open('Data/trip_data_test.json', 'r') as file:\n",
        "    test_dataset = json.load(file)\n",
        "test_df = pd.DataFrame(test_dataset)\n",
        "test_df.head()"
      ]
    },
    {
      "cell_type": "code",
      "execution_count": null,
      "metadata": {
        "id": "0blROk2oMZ4V",
        "outputId": "07b9a234-f3d1-42ee-b6cf-debc284c4a9b",
        "colab": {
          "base_uri": "https://localhost:8080/",
          "height": 206
        }
      },
      "outputs": [
        {
          "output_type": "execute_result",
          "data": {
            "text/plain": [
              "   user_id  Day      origin destination          start_time  \\\n",
              "0        0    0        work  restaurant 2024-01-30 13:07:00   \n",
              "1        0    0  restaurant        work 2024-01-30 15:13:00   \n",
              "2        0    0        home  restaurant 2024-01-30 20:41:00   \n",
              "3        0    0  restaurant        home 2024-01-30 21:24:00   \n",
              "4        0    1        work        home 2024-01-30 23:38:00   \n",
              "\n",
              "             end_time  price  Origin Lat  Origin Long  Dest Lat  Dest Long  \\\n",
              "0 2024-01-30 14:43:00  43.99      35.625       51.375    36.000     51.085   \n",
              "1 2024-01-30 16:49:00  36.66      36.000       51.085    35.625     51.375   \n",
              "2 2024-01-30 20:54:00  15.08      35.680       51.445    35.745     51.465   \n",
              "3 2024-01-30 21:37:00  10.00      35.745       51.465    35.680     51.445   \n",
              "4 2024-01-30 23:58:00  19.48      35.625       51.375    35.680     51.445   \n",
              "\n",
              "   start_hour  duration  \n",
              "0          13      96.0  \n",
              "1          15      96.0  \n",
              "2          20      13.0  \n",
              "3          21      13.0  \n",
              "4          23      20.0  "
            ],
            "text/html": [
              "\n",
              "  <div id=\"df-ebc8b4f6-80f9-4c36-b3a9-efcb51ad65a8\" class=\"colab-df-container\">\n",
              "    <div>\n",
              "<style scoped>\n",
              "    .dataframe tbody tr th:only-of-type {\n",
              "        vertical-align: middle;\n",
              "    }\n",
              "\n",
              "    .dataframe tbody tr th {\n",
              "        vertical-align: top;\n",
              "    }\n",
              "\n",
              "    .dataframe thead th {\n",
              "        text-align: right;\n",
              "    }\n",
              "</style>\n",
              "<table border=\"1\" class=\"dataframe\">\n",
              "  <thead>\n",
              "    <tr style=\"text-align: right;\">\n",
              "      <th></th>\n",
              "      <th>user_id</th>\n",
              "      <th>Day</th>\n",
              "      <th>origin</th>\n",
              "      <th>destination</th>\n",
              "      <th>start_time</th>\n",
              "      <th>end_time</th>\n",
              "      <th>price</th>\n",
              "      <th>Origin Lat</th>\n",
              "      <th>Origin Long</th>\n",
              "      <th>Dest Lat</th>\n",
              "      <th>Dest Long</th>\n",
              "      <th>start_hour</th>\n",
              "      <th>duration</th>\n",
              "    </tr>\n",
              "  </thead>\n",
              "  <tbody>\n",
              "    <tr>\n",
              "      <th>0</th>\n",
              "      <td>0</td>\n",
              "      <td>0</td>\n",
              "      <td>work</td>\n",
              "      <td>restaurant</td>\n",
              "      <td>2024-01-30 13:07:00</td>\n",
              "      <td>2024-01-30 14:43:00</td>\n",
              "      <td>43.99</td>\n",
              "      <td>35.625</td>\n",
              "      <td>51.375</td>\n",
              "      <td>36.000</td>\n",
              "      <td>51.085</td>\n",
              "      <td>13</td>\n",
              "      <td>96.0</td>\n",
              "    </tr>\n",
              "    <tr>\n",
              "      <th>1</th>\n",
              "      <td>0</td>\n",
              "      <td>0</td>\n",
              "      <td>restaurant</td>\n",
              "      <td>work</td>\n",
              "      <td>2024-01-30 15:13:00</td>\n",
              "      <td>2024-01-30 16:49:00</td>\n",
              "      <td>36.66</td>\n",
              "      <td>36.000</td>\n",
              "      <td>51.085</td>\n",
              "      <td>35.625</td>\n",
              "      <td>51.375</td>\n",
              "      <td>15</td>\n",
              "      <td>96.0</td>\n",
              "    </tr>\n",
              "    <tr>\n",
              "      <th>2</th>\n",
              "      <td>0</td>\n",
              "      <td>0</td>\n",
              "      <td>home</td>\n",
              "      <td>restaurant</td>\n",
              "      <td>2024-01-30 20:41:00</td>\n",
              "      <td>2024-01-30 20:54:00</td>\n",
              "      <td>15.08</td>\n",
              "      <td>35.680</td>\n",
              "      <td>51.445</td>\n",
              "      <td>35.745</td>\n",
              "      <td>51.465</td>\n",
              "      <td>20</td>\n",
              "      <td>13.0</td>\n",
              "    </tr>\n",
              "    <tr>\n",
              "      <th>3</th>\n",
              "      <td>0</td>\n",
              "      <td>0</td>\n",
              "      <td>restaurant</td>\n",
              "      <td>home</td>\n",
              "      <td>2024-01-30 21:24:00</td>\n",
              "      <td>2024-01-30 21:37:00</td>\n",
              "      <td>10.00</td>\n",
              "      <td>35.745</td>\n",
              "      <td>51.465</td>\n",
              "      <td>35.680</td>\n",
              "      <td>51.445</td>\n",
              "      <td>21</td>\n",
              "      <td>13.0</td>\n",
              "    </tr>\n",
              "    <tr>\n",
              "      <th>4</th>\n",
              "      <td>0</td>\n",
              "      <td>1</td>\n",
              "      <td>work</td>\n",
              "      <td>home</td>\n",
              "      <td>2024-01-30 23:38:00</td>\n",
              "      <td>2024-01-30 23:58:00</td>\n",
              "      <td>19.48</td>\n",
              "      <td>35.625</td>\n",
              "      <td>51.375</td>\n",
              "      <td>35.680</td>\n",
              "      <td>51.445</td>\n",
              "      <td>23</td>\n",
              "      <td>20.0</td>\n",
              "    </tr>\n",
              "  </tbody>\n",
              "</table>\n",
              "</div>\n",
              "    <div class=\"colab-df-buttons\">\n",
              "\n",
              "  <div class=\"colab-df-container\">\n",
              "    <button class=\"colab-df-convert\" onclick=\"convertToInteractive('df-ebc8b4f6-80f9-4c36-b3a9-efcb51ad65a8')\"\n",
              "            title=\"Convert this dataframe to an interactive table.\"\n",
              "            style=\"display:none;\">\n",
              "\n",
              "  <svg xmlns=\"http://www.w3.org/2000/svg\" height=\"24px\" viewBox=\"0 -960 960 960\">\n",
              "    <path d=\"M120-120v-720h720v720H120Zm60-500h600v-160H180v160Zm220 220h160v-160H400v160Zm0 220h160v-160H400v160ZM180-400h160v-160H180v160Zm440 0h160v-160H620v160ZM180-180h160v-160H180v160Zm440 0h160v-160H620v160Z\"/>\n",
              "  </svg>\n",
              "    </button>\n",
              "\n",
              "  <style>\n",
              "    .colab-df-container {\n",
              "      display:flex;\n",
              "      gap: 12px;\n",
              "    }\n",
              "\n",
              "    .colab-df-convert {\n",
              "      background-color: #E8F0FE;\n",
              "      border: none;\n",
              "      border-radius: 50%;\n",
              "      cursor: pointer;\n",
              "      display: none;\n",
              "      fill: #1967D2;\n",
              "      height: 32px;\n",
              "      padding: 0 0 0 0;\n",
              "      width: 32px;\n",
              "    }\n",
              "\n",
              "    .colab-df-convert:hover {\n",
              "      background-color: #E2EBFA;\n",
              "      box-shadow: 0px 1px 2px rgba(60, 64, 67, 0.3), 0px 1px 3px 1px rgba(60, 64, 67, 0.15);\n",
              "      fill: #174EA6;\n",
              "    }\n",
              "\n",
              "    .colab-df-buttons div {\n",
              "      margin-bottom: 4px;\n",
              "    }\n",
              "\n",
              "    [theme=dark] .colab-df-convert {\n",
              "      background-color: #3B4455;\n",
              "      fill: #D2E3FC;\n",
              "    }\n",
              "\n",
              "    [theme=dark] .colab-df-convert:hover {\n",
              "      background-color: #434B5C;\n",
              "      box-shadow: 0px 1px 3px 1px rgba(0, 0, 0, 0.15);\n",
              "      filter: drop-shadow(0px 1px 2px rgba(0, 0, 0, 0.3));\n",
              "      fill: #FFFFFF;\n",
              "    }\n",
              "  </style>\n",
              "\n",
              "    <script>\n",
              "      const buttonEl =\n",
              "        document.querySelector('#df-ebc8b4f6-80f9-4c36-b3a9-efcb51ad65a8 button.colab-df-convert');\n",
              "      buttonEl.style.display =\n",
              "        google.colab.kernel.accessAllowed ? 'block' : 'none';\n",
              "\n",
              "      async function convertToInteractive(key) {\n",
              "        const element = document.querySelector('#df-ebc8b4f6-80f9-4c36-b3a9-efcb51ad65a8');\n",
              "        const dataTable =\n",
              "          await google.colab.kernel.invokeFunction('convertToInteractive',\n",
              "                                                    [key], {});\n",
              "        if (!dataTable) return;\n",
              "\n",
              "        const docLinkHtml = 'Like what you see? Visit the ' +\n",
              "          '<a target=\"_blank\" href=https://colab.research.google.com/notebooks/data_table.ipynb>data table notebook</a>'\n",
              "          + ' to learn more about interactive tables.';\n",
              "        element.innerHTML = '';\n",
              "        dataTable['output_type'] = 'display_data';\n",
              "        await google.colab.output.renderOutput(dataTable, element);\n",
              "        const docLink = document.createElement('div');\n",
              "        docLink.innerHTML = docLinkHtml;\n",
              "        element.appendChild(docLink);\n",
              "      }\n",
              "    </script>\n",
              "  </div>\n",
              "\n",
              "\n",
              "<div id=\"df-dc22c594-344a-4b1e-8c81-835198dfe8af\">\n",
              "  <button class=\"colab-df-quickchart\" onclick=\"quickchart('df-dc22c594-344a-4b1e-8c81-835198dfe8af')\"\n",
              "            title=\"Suggest charts\"\n",
              "            style=\"display:none;\">\n",
              "\n",
              "<svg xmlns=\"http://www.w3.org/2000/svg\" height=\"24px\"viewBox=\"0 0 24 24\"\n",
              "     width=\"24px\">\n",
              "    <g>\n",
              "        <path d=\"M19 3H5c-1.1 0-2 .9-2 2v14c0 1.1.9 2 2 2h14c1.1 0 2-.9 2-2V5c0-1.1-.9-2-2-2zM9 17H7v-7h2v7zm4 0h-2V7h2v10zm4 0h-2v-4h2v4z\"/>\n",
              "    </g>\n",
              "</svg>\n",
              "  </button>\n",
              "\n",
              "<style>\n",
              "  .colab-df-quickchart {\n",
              "      --bg-color: #E8F0FE;\n",
              "      --fill-color: #1967D2;\n",
              "      --hover-bg-color: #E2EBFA;\n",
              "      --hover-fill-color: #174EA6;\n",
              "      --disabled-fill-color: #AAA;\n",
              "      --disabled-bg-color: #DDD;\n",
              "  }\n",
              "\n",
              "  [theme=dark] .colab-df-quickchart {\n",
              "      --bg-color: #3B4455;\n",
              "      --fill-color: #D2E3FC;\n",
              "      --hover-bg-color: #434B5C;\n",
              "      --hover-fill-color: #FFFFFF;\n",
              "      --disabled-bg-color: #3B4455;\n",
              "      --disabled-fill-color: #666;\n",
              "  }\n",
              "\n",
              "  .colab-df-quickchart {\n",
              "    background-color: var(--bg-color);\n",
              "    border: none;\n",
              "    border-radius: 50%;\n",
              "    cursor: pointer;\n",
              "    display: none;\n",
              "    fill: var(--fill-color);\n",
              "    height: 32px;\n",
              "    padding: 0;\n",
              "    width: 32px;\n",
              "  }\n",
              "\n",
              "  .colab-df-quickchart:hover {\n",
              "    background-color: var(--hover-bg-color);\n",
              "    box-shadow: 0 1px 2px rgba(60, 64, 67, 0.3), 0 1px 3px 1px rgba(60, 64, 67, 0.15);\n",
              "    fill: var(--button-hover-fill-color);\n",
              "  }\n",
              "\n",
              "  .colab-df-quickchart-complete:disabled,\n",
              "  .colab-df-quickchart-complete:disabled:hover {\n",
              "    background-color: var(--disabled-bg-color);\n",
              "    fill: var(--disabled-fill-color);\n",
              "    box-shadow: none;\n",
              "  }\n",
              "\n",
              "  .colab-df-spinner {\n",
              "    border: 2px solid var(--fill-color);\n",
              "    border-color: transparent;\n",
              "    border-bottom-color: var(--fill-color);\n",
              "    animation:\n",
              "      spin 1s steps(1) infinite;\n",
              "  }\n",
              "\n",
              "  @keyframes spin {\n",
              "    0% {\n",
              "      border-color: transparent;\n",
              "      border-bottom-color: var(--fill-color);\n",
              "      border-left-color: var(--fill-color);\n",
              "    }\n",
              "    20% {\n",
              "      border-color: transparent;\n",
              "      border-left-color: var(--fill-color);\n",
              "      border-top-color: var(--fill-color);\n",
              "    }\n",
              "    30% {\n",
              "      border-color: transparent;\n",
              "      border-left-color: var(--fill-color);\n",
              "      border-top-color: var(--fill-color);\n",
              "      border-right-color: var(--fill-color);\n",
              "    }\n",
              "    40% {\n",
              "      border-color: transparent;\n",
              "      border-right-color: var(--fill-color);\n",
              "      border-top-color: var(--fill-color);\n",
              "    }\n",
              "    60% {\n",
              "      border-color: transparent;\n",
              "      border-right-color: var(--fill-color);\n",
              "    }\n",
              "    80% {\n",
              "      border-color: transparent;\n",
              "      border-right-color: var(--fill-color);\n",
              "      border-bottom-color: var(--fill-color);\n",
              "    }\n",
              "    90% {\n",
              "      border-color: transparent;\n",
              "      border-bottom-color: var(--fill-color);\n",
              "    }\n",
              "  }\n",
              "</style>\n",
              "\n",
              "  <script>\n",
              "    async function quickchart(key) {\n",
              "      const quickchartButtonEl =\n",
              "        document.querySelector('#' + key + ' button');\n",
              "      quickchartButtonEl.disabled = true;  // To prevent multiple clicks.\n",
              "      quickchartButtonEl.classList.add('colab-df-spinner');\n",
              "      try {\n",
              "        const charts = await google.colab.kernel.invokeFunction(\n",
              "            'suggestCharts', [key], {});\n",
              "      } catch (error) {\n",
              "        console.error('Error during call to suggestCharts:', error);\n",
              "      }\n",
              "      quickchartButtonEl.classList.remove('colab-df-spinner');\n",
              "      quickchartButtonEl.classList.add('colab-df-quickchart-complete');\n",
              "    }\n",
              "    (() => {\n",
              "      let quickchartButtonEl =\n",
              "        document.querySelector('#df-dc22c594-344a-4b1e-8c81-835198dfe8af button');\n",
              "      quickchartButtonEl.style.display =\n",
              "        google.colab.kernel.accessAllowed ? 'block' : 'none';\n",
              "    })();\n",
              "  </script>\n",
              "</div>\n",
              "    </div>\n",
              "  </div>\n"
            ]
          },
          "metadata": {},
          "execution_count": 33
        }
      ],
      "source": [
        "# Extract features and do preprocessing if needed\n",
        "# TODO\n",
        "train_df['start_time'] = pd.to_datetime(train_df['start_time'])\n",
        "train_df['end_time'] = pd.to_datetime(train_df['end_time'])\n",
        "\n",
        "datatrain = train_df[['user_id', 'Day']].copy()\n",
        "datatrain['origin'] = train_df['origin'].apply(lambda x: x[0])\n",
        "datatrain['destination'] = train_df['destination'].apply(lambda x: x[0])\n",
        "datatrain[['start_time', 'end_time', 'price']] = train_df[['start_time', 'end_time', 'price']]\n",
        "datatrain['Origin Lat'] = train_df['origin'].apply(lambda x: x[1][0])\n",
        "datatrain['Origin Long'] = train_df['origin'].apply(lambda x: x[1][1])\n",
        "datatrain['Dest Lat'] = train_df['destination'].apply(lambda x: x[1][0])\n",
        "datatrain['Dest Long'] = train_df['destination'].apply(lambda x: x[1][1])\n",
        "datatrain['start_hour'] = train_df['start_time'].dt.hour\n",
        "datatrain['duration'] = (train_df['end_time'] - train_df['start_time']).dt.total_seconds() // 60\n",
        "\n",
        "\n",
        "\n",
        "datatrain.head()"
      ]
    },
    {
      "cell_type": "code",
      "execution_count": null,
      "metadata": {
        "id": "eYfV85IMMZ4V",
        "outputId": "a97004d8-22db-4163-d0c7-e31df6fe9e07",
        "colab": {
          "base_uri": "https://localhost:8080/",
          "height": 206
        }
      },
      "outputs": [
        {
          "output_type": "execute_result",
          "data": {
            "text/plain": [
              "   user_id  Day      origin destination          start_time  \\\n",
              "0       24    6        pool        home 2024-01-30 11:58:00   \n",
              "1       46    2  university  restaurant 2024-01-30 21:58:00   \n",
              "2       27    5        pool  restaurant 2024-01-30 20:05:00   \n",
              "3        7    4        work        home 2024-01-30 17:39:00   \n",
              "4       27    3        work  restaurant 2024-01-30 13:16:00   \n",
              "\n",
              "             end_time  price  Origin Lat  Origin Long  Dest Lat  Dest Long  \\\n",
              "0 2024-01-30 12:12:00  10.00      35.650       51.225    35.640     51.270   \n",
              "1 2024-01-30 22:18:00  11.84      35.625       51.250    35.690     51.295   \n",
              "2 2024-01-30 20:58:00  23.36      35.650       51.225    35.865     51.045   \n",
              "3 2024-01-30 18:17:00  13.74      35.875       51.375    35.890     51.315   \n",
              "4 2024-01-30 13:19:00  15.08      35.625       51.375    35.650     51.385   \n",
              "\n",
              "   start_hour  duration  \n",
              "0          11      14.0  \n",
              "1          21      20.0  \n",
              "2          20      53.0  \n",
              "3          17      38.0  \n",
              "4          13       3.0  "
            ],
            "text/html": [
              "\n",
              "  <div id=\"df-19f6ec3d-223f-4693-9fcd-a2edacef1796\" class=\"colab-df-container\">\n",
              "    <div>\n",
              "<style scoped>\n",
              "    .dataframe tbody tr th:only-of-type {\n",
              "        vertical-align: middle;\n",
              "    }\n",
              "\n",
              "    .dataframe tbody tr th {\n",
              "        vertical-align: top;\n",
              "    }\n",
              "\n",
              "    .dataframe thead th {\n",
              "        text-align: right;\n",
              "    }\n",
              "</style>\n",
              "<table border=\"1\" class=\"dataframe\">\n",
              "  <thead>\n",
              "    <tr style=\"text-align: right;\">\n",
              "      <th></th>\n",
              "      <th>user_id</th>\n",
              "      <th>Day</th>\n",
              "      <th>origin</th>\n",
              "      <th>destination</th>\n",
              "      <th>start_time</th>\n",
              "      <th>end_time</th>\n",
              "      <th>price</th>\n",
              "      <th>Origin Lat</th>\n",
              "      <th>Origin Long</th>\n",
              "      <th>Dest Lat</th>\n",
              "      <th>Dest Long</th>\n",
              "      <th>start_hour</th>\n",
              "      <th>duration</th>\n",
              "    </tr>\n",
              "  </thead>\n",
              "  <tbody>\n",
              "    <tr>\n",
              "      <th>0</th>\n",
              "      <td>24</td>\n",
              "      <td>6</td>\n",
              "      <td>pool</td>\n",
              "      <td>home</td>\n",
              "      <td>2024-01-30 11:58:00</td>\n",
              "      <td>2024-01-30 12:12:00</td>\n",
              "      <td>10.00</td>\n",
              "      <td>35.650</td>\n",
              "      <td>51.225</td>\n",
              "      <td>35.640</td>\n",
              "      <td>51.270</td>\n",
              "      <td>11</td>\n",
              "      <td>14.0</td>\n",
              "    </tr>\n",
              "    <tr>\n",
              "      <th>1</th>\n",
              "      <td>46</td>\n",
              "      <td>2</td>\n",
              "      <td>university</td>\n",
              "      <td>restaurant</td>\n",
              "      <td>2024-01-30 21:58:00</td>\n",
              "      <td>2024-01-30 22:18:00</td>\n",
              "      <td>11.84</td>\n",
              "      <td>35.625</td>\n",
              "      <td>51.250</td>\n",
              "      <td>35.690</td>\n",
              "      <td>51.295</td>\n",
              "      <td>21</td>\n",
              "      <td>20.0</td>\n",
              "    </tr>\n",
              "    <tr>\n",
              "      <th>2</th>\n",
              "      <td>27</td>\n",
              "      <td>5</td>\n",
              "      <td>pool</td>\n",
              "      <td>restaurant</td>\n",
              "      <td>2024-01-30 20:05:00</td>\n",
              "      <td>2024-01-30 20:58:00</td>\n",
              "      <td>23.36</td>\n",
              "      <td>35.650</td>\n",
              "      <td>51.225</td>\n",
              "      <td>35.865</td>\n",
              "      <td>51.045</td>\n",
              "      <td>20</td>\n",
              "      <td>53.0</td>\n",
              "    </tr>\n",
              "    <tr>\n",
              "      <th>3</th>\n",
              "      <td>7</td>\n",
              "      <td>4</td>\n",
              "      <td>work</td>\n",
              "      <td>home</td>\n",
              "      <td>2024-01-30 17:39:00</td>\n",
              "      <td>2024-01-30 18:17:00</td>\n",
              "      <td>13.74</td>\n",
              "      <td>35.875</td>\n",
              "      <td>51.375</td>\n",
              "      <td>35.890</td>\n",
              "      <td>51.315</td>\n",
              "      <td>17</td>\n",
              "      <td>38.0</td>\n",
              "    </tr>\n",
              "    <tr>\n",
              "      <th>4</th>\n",
              "      <td>27</td>\n",
              "      <td>3</td>\n",
              "      <td>work</td>\n",
              "      <td>restaurant</td>\n",
              "      <td>2024-01-30 13:16:00</td>\n",
              "      <td>2024-01-30 13:19:00</td>\n",
              "      <td>15.08</td>\n",
              "      <td>35.625</td>\n",
              "      <td>51.375</td>\n",
              "      <td>35.650</td>\n",
              "      <td>51.385</td>\n",
              "      <td>13</td>\n",
              "      <td>3.0</td>\n",
              "    </tr>\n",
              "  </tbody>\n",
              "</table>\n",
              "</div>\n",
              "    <div class=\"colab-df-buttons\">\n",
              "\n",
              "  <div class=\"colab-df-container\">\n",
              "    <button class=\"colab-df-convert\" onclick=\"convertToInteractive('df-19f6ec3d-223f-4693-9fcd-a2edacef1796')\"\n",
              "            title=\"Convert this dataframe to an interactive table.\"\n",
              "            style=\"display:none;\">\n",
              "\n",
              "  <svg xmlns=\"http://www.w3.org/2000/svg\" height=\"24px\" viewBox=\"0 -960 960 960\">\n",
              "    <path d=\"M120-120v-720h720v720H120Zm60-500h600v-160H180v160Zm220 220h160v-160H400v160Zm0 220h160v-160H400v160ZM180-400h160v-160H180v160Zm440 0h160v-160H620v160ZM180-180h160v-160H180v160Zm440 0h160v-160H620v160Z\"/>\n",
              "  </svg>\n",
              "    </button>\n",
              "\n",
              "  <style>\n",
              "    .colab-df-container {\n",
              "      display:flex;\n",
              "      gap: 12px;\n",
              "    }\n",
              "\n",
              "    .colab-df-convert {\n",
              "      background-color: #E8F0FE;\n",
              "      border: none;\n",
              "      border-radius: 50%;\n",
              "      cursor: pointer;\n",
              "      display: none;\n",
              "      fill: #1967D2;\n",
              "      height: 32px;\n",
              "      padding: 0 0 0 0;\n",
              "      width: 32px;\n",
              "    }\n",
              "\n",
              "    .colab-df-convert:hover {\n",
              "      background-color: #E2EBFA;\n",
              "      box-shadow: 0px 1px 2px rgba(60, 64, 67, 0.3), 0px 1px 3px 1px rgba(60, 64, 67, 0.15);\n",
              "      fill: #174EA6;\n",
              "    }\n",
              "\n",
              "    .colab-df-buttons div {\n",
              "      margin-bottom: 4px;\n",
              "    }\n",
              "\n",
              "    [theme=dark] .colab-df-convert {\n",
              "      background-color: #3B4455;\n",
              "      fill: #D2E3FC;\n",
              "    }\n",
              "\n",
              "    [theme=dark] .colab-df-convert:hover {\n",
              "      background-color: #434B5C;\n",
              "      box-shadow: 0px 1px 3px 1px rgba(0, 0, 0, 0.15);\n",
              "      filter: drop-shadow(0px 1px 2px rgba(0, 0, 0, 0.3));\n",
              "      fill: #FFFFFF;\n",
              "    }\n",
              "  </style>\n",
              "\n",
              "    <script>\n",
              "      const buttonEl =\n",
              "        document.querySelector('#df-19f6ec3d-223f-4693-9fcd-a2edacef1796 button.colab-df-convert');\n",
              "      buttonEl.style.display =\n",
              "        google.colab.kernel.accessAllowed ? 'block' : 'none';\n",
              "\n",
              "      async function convertToInteractive(key) {\n",
              "        const element = document.querySelector('#df-19f6ec3d-223f-4693-9fcd-a2edacef1796');\n",
              "        const dataTable =\n",
              "          await google.colab.kernel.invokeFunction('convertToInteractive',\n",
              "                                                    [key], {});\n",
              "        if (!dataTable) return;\n",
              "\n",
              "        const docLinkHtml = 'Like what you see? Visit the ' +\n",
              "          '<a target=\"_blank\" href=https://colab.research.google.com/notebooks/data_table.ipynb>data table notebook</a>'\n",
              "          + ' to learn more about interactive tables.';\n",
              "        element.innerHTML = '';\n",
              "        dataTable['output_type'] = 'display_data';\n",
              "        await google.colab.output.renderOutput(dataTable, element);\n",
              "        const docLink = document.createElement('div');\n",
              "        docLink.innerHTML = docLinkHtml;\n",
              "        element.appendChild(docLink);\n",
              "      }\n",
              "    </script>\n",
              "  </div>\n",
              "\n",
              "\n",
              "<div id=\"df-40a5f8ce-d022-4edf-b565-a841be672170\">\n",
              "  <button class=\"colab-df-quickchart\" onclick=\"quickchart('df-40a5f8ce-d022-4edf-b565-a841be672170')\"\n",
              "            title=\"Suggest charts\"\n",
              "            style=\"display:none;\">\n",
              "\n",
              "<svg xmlns=\"http://www.w3.org/2000/svg\" height=\"24px\"viewBox=\"0 0 24 24\"\n",
              "     width=\"24px\">\n",
              "    <g>\n",
              "        <path d=\"M19 3H5c-1.1 0-2 .9-2 2v14c0 1.1.9 2 2 2h14c1.1 0 2-.9 2-2V5c0-1.1-.9-2-2-2zM9 17H7v-7h2v7zm4 0h-2V7h2v10zm4 0h-2v-4h2v4z\"/>\n",
              "    </g>\n",
              "</svg>\n",
              "  </button>\n",
              "\n",
              "<style>\n",
              "  .colab-df-quickchart {\n",
              "      --bg-color: #E8F0FE;\n",
              "      --fill-color: #1967D2;\n",
              "      --hover-bg-color: #E2EBFA;\n",
              "      --hover-fill-color: #174EA6;\n",
              "      --disabled-fill-color: #AAA;\n",
              "      --disabled-bg-color: #DDD;\n",
              "  }\n",
              "\n",
              "  [theme=dark] .colab-df-quickchart {\n",
              "      --bg-color: #3B4455;\n",
              "      --fill-color: #D2E3FC;\n",
              "      --hover-bg-color: #434B5C;\n",
              "      --hover-fill-color: #FFFFFF;\n",
              "      --disabled-bg-color: #3B4455;\n",
              "      --disabled-fill-color: #666;\n",
              "  }\n",
              "\n",
              "  .colab-df-quickchart {\n",
              "    background-color: var(--bg-color);\n",
              "    border: none;\n",
              "    border-radius: 50%;\n",
              "    cursor: pointer;\n",
              "    display: none;\n",
              "    fill: var(--fill-color);\n",
              "    height: 32px;\n",
              "    padding: 0;\n",
              "    width: 32px;\n",
              "  }\n",
              "\n",
              "  .colab-df-quickchart:hover {\n",
              "    background-color: var(--hover-bg-color);\n",
              "    box-shadow: 0 1px 2px rgba(60, 64, 67, 0.3), 0 1px 3px 1px rgba(60, 64, 67, 0.15);\n",
              "    fill: var(--button-hover-fill-color);\n",
              "  }\n",
              "\n",
              "  .colab-df-quickchart-complete:disabled,\n",
              "  .colab-df-quickchart-complete:disabled:hover {\n",
              "    background-color: var(--disabled-bg-color);\n",
              "    fill: var(--disabled-fill-color);\n",
              "    box-shadow: none;\n",
              "  }\n",
              "\n",
              "  .colab-df-spinner {\n",
              "    border: 2px solid var(--fill-color);\n",
              "    border-color: transparent;\n",
              "    border-bottom-color: var(--fill-color);\n",
              "    animation:\n",
              "      spin 1s steps(1) infinite;\n",
              "  }\n",
              "\n",
              "  @keyframes spin {\n",
              "    0% {\n",
              "      border-color: transparent;\n",
              "      border-bottom-color: var(--fill-color);\n",
              "      border-left-color: var(--fill-color);\n",
              "    }\n",
              "    20% {\n",
              "      border-color: transparent;\n",
              "      border-left-color: var(--fill-color);\n",
              "      border-top-color: var(--fill-color);\n",
              "    }\n",
              "    30% {\n",
              "      border-color: transparent;\n",
              "      border-left-color: var(--fill-color);\n",
              "      border-top-color: var(--fill-color);\n",
              "      border-right-color: var(--fill-color);\n",
              "    }\n",
              "    40% {\n",
              "      border-color: transparent;\n",
              "      border-right-color: var(--fill-color);\n",
              "      border-top-color: var(--fill-color);\n",
              "    }\n",
              "    60% {\n",
              "      border-color: transparent;\n",
              "      border-right-color: var(--fill-color);\n",
              "    }\n",
              "    80% {\n",
              "      border-color: transparent;\n",
              "      border-right-color: var(--fill-color);\n",
              "      border-bottom-color: var(--fill-color);\n",
              "    }\n",
              "    90% {\n",
              "      border-color: transparent;\n",
              "      border-bottom-color: var(--fill-color);\n",
              "    }\n",
              "  }\n",
              "</style>\n",
              "\n",
              "  <script>\n",
              "    async function quickchart(key) {\n",
              "      const quickchartButtonEl =\n",
              "        document.querySelector('#' + key + ' button');\n",
              "      quickchartButtonEl.disabled = true;  // To prevent multiple clicks.\n",
              "      quickchartButtonEl.classList.add('colab-df-spinner');\n",
              "      try {\n",
              "        const charts = await google.colab.kernel.invokeFunction(\n",
              "            'suggestCharts', [key], {});\n",
              "      } catch (error) {\n",
              "        console.error('Error during call to suggestCharts:', error);\n",
              "      }\n",
              "      quickchartButtonEl.classList.remove('colab-df-spinner');\n",
              "      quickchartButtonEl.classList.add('colab-df-quickchart-complete');\n",
              "    }\n",
              "    (() => {\n",
              "      let quickchartButtonEl =\n",
              "        document.querySelector('#df-40a5f8ce-d022-4edf-b565-a841be672170 button');\n",
              "      quickchartButtonEl.style.display =\n",
              "        google.colab.kernel.accessAllowed ? 'block' : 'none';\n",
              "    })();\n",
              "  </script>\n",
              "</div>\n",
              "    </div>\n",
              "  </div>\n"
            ]
          },
          "metadata": {},
          "execution_count": 34
        }
      ],
      "source": [
        "# Extract features and do preprocessing if needed\n",
        "# TODO\n",
        "test_df['start_time'] = pd.to_datetime(test_df['start_time'])\n",
        "test_df['end_time'] = pd.to_datetime(test_df['end_time'])\n",
        "\n",
        "datatest = test_df[['user_id', 'Day']].copy()\n",
        "datatest['origin'] = test_df['origin'].apply(lambda x: x[0])\n",
        "datatest['destination'] = test_df['destination'].apply(lambda x: x[0])\n",
        "datatest[['start_time', 'end_time', 'price']] = test_df[['start_time', 'end_time', 'price']]\n",
        "datatest['Origin Lat'] = test_df['origin'].apply(lambda x: x[1][0])\n",
        "datatest['Origin Long'] = test_df['origin'].apply(lambda x: x[1][1])\n",
        "datatest['Dest Lat'] = test_df['destination'].apply(lambda x: x[1][0])\n",
        "datatest['Dest Long'] = test_df['destination'].apply(lambda x: x[1][1])\n",
        "datatest['start_hour'] = test_df['start_time'].dt.hour\n",
        "datatest['duration'] = (test_df['end_time'] - test_df['start_time']).dt.total_seconds() // 60\n",
        "\n",
        "\n",
        "\n",
        "datatest.head()"
      ]
    },
    {
      "cell_type": "code",
      "execution_count": null,
      "metadata": {
        "id": "-AG58x5RMZ4V",
        "outputId": "9d8d7bca-c286-4396-d065-e82bad853be8",
        "colab": {
          "base_uri": "https://localhost:8080/"
        }
      },
      "outputs": [
        {
          "output_type": "stream",
          "name": "stdout",
          "text": [
            "Column: user_id\n",
            "Unique values:\n",
            "0, 1, 2, 3, 4, 5, 6, 7, 8, 9, 10, 11, 12, 13, 14, 15, 16, 17, 18, 19, 20, 21, 22, 23, 24, 25, 26, 27, 28, 29, 30, 31, 32, 33, 34, 35, 36, 37, 38, 39, 40, 41, 42, 43, 44, 45, 46, 47, 48, 49, 50, 51, 52, 53, 54, 55, 56, 57, 58, 59\n",
            "========================================\n",
            "\n",
            "Column: Day\n",
            "Unique values:\n",
            "0, 1, 2, 3, 4, 6, 5\n",
            "========================================\n",
            "\n",
            "Column: origin\n",
            "Unique values:\n",
            "work, restaurant, home, park, university, gym, pool\n",
            "========================================\n",
            "\n",
            "Column: destination\n",
            "Unique values:\n",
            "restaurant, work, home, park, university, gym, pool\n",
            "========================================\n",
            "\n",
            "Column: start_time\n",
            "Unique values:\n",
            "2024-01-30T13:07:00.000000000, 2024-01-30T15:13:00.000000000, 2024-01-30T20:41:00.000000000, 2024-01-30T21:24:00.000000000, 2024-01-30T23:38:00.000000000, 2024-01-30T07:59:00.000000000, 2024-01-30T21:19:00.000000000, 2024-01-30T07:55:00.000000000, 2024-01-30T14:11:00.000000000, 2024-01-30T20:08:00.000000000, 2024-01-30T21:03:00.000000000, 2024-01-30T07:00:00.000000000, 2024-01-30T13:50:00.000000000, 2024-01-30T14:23:00.000000000, 2024-01-30T21:40:00.000000000, 2024-01-30T22:28:00.000000000, 2024-01-30T20:28:00.000000000, 2024-01-30T22:01:00.000000000, 2024-01-30T12:05:00.000000000, 2024-01-30T12:54:00.000000000, 2024-01-30T17:29:00.000000000, 2024-01-30T13:44:00.000000000, 2024-01-30T14:59:00.000000000, 2024-01-30T17:36:00.000000000, 2024-01-30T07:49:00.000000000, 2024-01-30T20:40:00.000000000, 2024-01-30T22:21:00.000000000, 2024-01-30T17:33:00.000000000, 2024-01-30T21:51:00.000000000, 2024-01-30T07:54:00.000000000, 2024-01-30T13:35:00.000000000, 2024-01-30T16:30:00.000000000, 2024-01-30T22:35:00.000000000, 2024-01-30T08:19:00.000000000, 2024-01-30T11:24:00.000000000, 2024-01-30T08:56:00.000000000, 2024-01-30T12:17:00.000000000, 2024-01-30T07:06:00.000000000, 2024-01-30T07:42:00.000000000, 2024-01-30T13:15:00.000000000, 2024-01-30T13:53:00.000000000, 2024-01-30T21:20:00.000000000, 2024-01-30T07:51:00.000000000, 2024-01-30T12:37:00.000000000, 2024-01-30T13:40:00.000000000, 2024-01-30T17:32:00.000000000, 2024-01-30T20:46:00.000000000, 2024-01-30T21:38:00.000000000, 2024-01-30T22:07:00.000000000, 2024-01-30T16:26:00.000000000, 2024-01-30T20:20:00.000000000, 2024-01-30T21:25:00.000000000, 2024-01-30T08:05:00.000000000, 2024-01-30T09:55:00.000000000, 2024-01-30T12:22:00.000000000, 2024-01-30T14:30:00.000000000, 2024-01-30T21:01:00.000000000, 2024-01-30T22:26:00.000000000, 2024-01-30T07:36:00.000000000, 2024-01-30T13:22:00.000000000, 2024-01-30T16:09:00.000000000, 2024-01-30T21:28:00.000000000, 2024-01-30T22:24:00.000000000, 2024-01-30T07:22:00.000000000, 2024-01-30T17:38:00.000000000, 2024-01-30T07:48:00.000000000, 2024-01-30T17:34:00.000000000, 2024-01-30T07:04:00.000000000, 2024-01-30T21:07:00.000000000, 2024-01-30T22:15:00.000000000, 2024-01-30T20:15:00.000000000, 2024-01-30T08:04:00.000000000, 2024-01-30T20:16:00.000000000, 2024-01-30T21:46:00.000000000, 2024-01-30T07:29:00.000000000, 2024-01-30T21:09:00.000000000, 2024-01-30T07:32:00.000000000, 2024-01-30T13:04:00.000000000, 2024-01-30T21:04:00.000000000, 2024-01-30T07:28:00.000000000, 2024-01-30T16:45:00.000000000, 2024-01-30T20:23:00.000000000, 2024-01-30T21:27:00.000000000, 2024-01-30T12:21:00.000000000, 2024-01-30T14:07:00.000000000, 2024-01-30T16:19:00.000000000, 2024-01-30T13:12:00.000000000, 2024-01-30T14:24:00.000000000, 2024-01-30T23:31:00.000000000, 2024-01-30T20:53:00.000000000, 2024-01-30T21:48:00.000000000, 2024-01-30T08:28:00.000000000, 2024-01-30T14:15:00.000000000, 2024-01-30T15:57:00.000000000, 2024-01-30T16:51:00.000000000, 2024-01-30T23:06:00.000000000, 2024-01-30T16:52:00.000000000, 2024-01-30T21:22:00.000000000, 2024-01-30T07:53:00.000000000, 2024-01-30T14:21:00.000000000, 2024-01-30T16:53:00.000000000, 2024-01-30T12:45:00.000000000, 2024-01-30T14:18:00.000000000, 2024-01-30T17:04:00.000000000, 2024-01-30T07:24:00.000000000, 2024-01-30T16:22:00.000000000, 2024-01-30T11:02:00.000000000, 2024-01-30T21:52:00.000000000, 2024-01-30T22:49:00.000000000, 2024-01-30T20:51:00.000000000, 2024-01-30T07:31:00.000000000, 2024-01-30T12:46:00.000000000, 2024-01-30T17:42:00.000000000, 2024-01-30T21:45:00.000000000, 2024-01-30T07:17:00.000000000, 2024-01-30T16:01:00.000000000, 2024-01-30T07:08:00.000000000, 2024-01-30T17:25:00.000000000, 2024-01-30T07:47:00.000000000, 2024-01-30T13:45:00.000000000, 2024-01-30T16:28:00.000000000, 2024-01-30T21:32:00.000000000, 2024-01-30T09:29:00.000000000, 2024-01-30T11:04:00.000000000, 2024-01-30T21:41:00.000000000, 2024-01-30T07:27:00.000000000, 2024-01-30T16:20:00.000000000, 2024-01-30T16:37:00.000000000, 2024-01-30T21:53:00.000000000, 2024-01-30T22:31:00.000000000, 2024-01-30T07:41:00.000000000, 2024-01-30T13:41:00.000000000, 2024-01-30T16:10:00.000000000, 2024-01-30T12:09:00.000000000, 2024-01-30T17:59:00.000000000, 2024-01-30T13:32:00.000000000, 2024-01-30T14:27:00.000000000, 2024-01-30T15:02:00.000000000, 2024-01-30T21:36:00.000000000, 2024-01-30T22:55:00.000000000, 2024-01-30T22:27:00.000000000, 2024-01-30T20:45:00.000000000, 2024-01-30T22:20:00.000000000, 2024-01-30T07:11:00.000000000, 2024-01-30T12:44:00.000000000, 2024-01-30T16:36:00.000000000, 2024-01-30T12:13:00.000000000, 2024-01-30T21:21:00.000000000, 2024-01-30T22:03:00.000000000, 2024-01-30T07:26:00.000000000, 2024-01-30T17:41:00.000000000, 2024-01-30T20:34:00.000000000, 2024-01-30T16:54:00.000000000, 2024-01-30T07:10:00.000000000, 2024-01-30T15:01:00.000000000, 2024-01-30T20:30:00.000000000, 2024-01-30T21:43:00.000000000, 2024-01-30T09:44:00.000000000, 2024-01-30T07:40:00.000000000, 2024-01-30T12:30:00.000000000, 2024-01-30T16:48:00.000000000, 2024-01-30T07:33:00.000000000, 2024-01-30T07:07:00.000000000, 2024-01-30T16:29:00.000000000, 2024-01-30T07:02:00.000000000, 2024-01-30T12:59:00.000000000, 2024-01-30T13:54:00.000000000, 2024-01-30T12:53:00.000000000, 2024-01-30T15:03:00.000000000, 2024-01-30T08:15:00.000000000, 2024-01-30T11:15:00.000000000, 2024-01-30T15:04:00.000000000, 2024-01-30T07:15:00.000000000, 2024-01-30T12:35:00.000000000, 2024-01-30T21:26:00.000000000, 2024-01-30T07:58:00.000000000, 2024-01-30T21:05:00.000000000, 2024-01-30T22:08:00.000000000, 2024-01-30T16:55:00.000000000, 2024-01-30T21:58:00.000000000, 2024-01-30T21:35:00.000000000, 2024-01-30T08:31:00.000000000, 2024-01-30T14:50:00.000000000, 2024-01-30T07:52:00.000000000, 2024-01-30T16:00:00.000000000, 2024-01-30T21:42:00.000000000, 2024-01-30T07:34:00.000000000, 2024-01-30T17:24:00.000000000, 2024-01-30T20:05:00.000000000, 2024-01-30T07:57:00.000000000, 2024-01-30T16:59:00.000000000, 2024-01-30T20:19:00.000000000, 2024-01-30T08:50:00.000000000, 2024-01-30T12:03:00.000000000, 2024-01-30T14:38:00.000000000, 2024-01-30T15:30:00.000000000, 2024-01-30T21:31:00.000000000, 2024-01-30T22:59:00.000000000, 2024-01-30T09:51:00.000000000, 2024-01-30T20:00:00.000000000, 2024-01-30T20:42:00.000000000, 2024-01-30T12:38:00.000000000, 2024-01-30T13:26:00.000000000, 2024-01-30T22:37:00.000000000, 2024-01-30T07:23:00.000000000, 2024-01-30T16:08:00.000000000, 2024-01-30T22:34:00.000000000, 2024-01-30T07:19:00.000000000, 2024-01-30T14:32:00.000000000, 2024-01-30T17:23:00.000000000, 2024-01-30T20:43:00.000000000, 2024-01-30T11:07:00.000000000, 2024-01-30T20:33:00.000000000, 2024-01-30T21:33:00.000000000, 2024-01-30T16:33:00.000000000, 2024-01-30T21:14:00.000000000, 2024-01-30T12:36:00.000000000, 2024-01-30T14:19:00.000000000, 2024-01-30T21:37:00.000000000, 2024-01-30T07:43:00.000000000, 2024-01-30T17:26:00.000000000, 2024-01-30T20:50:00.000000000, 2024-01-30T13:05:00.000000000, 2024-01-30T17:06:00.000000000, 2024-01-30T15:45:00.000000000, 2024-01-30T20:52:00.000000000, 2024-01-30T22:17:00.000000000, 2024-01-30T09:18:00.000000000, 2024-01-30T11:08:00.000000000, 2024-01-30T07:44:00.000000000, 2024-01-30T22:39:00.000000000, 2024-01-30T16:50:00.000000000, 2024-01-30T20:31:00.000000000, 2024-01-30T07:50:00.000000000, 2024-01-30T14:40:00.000000000, 2024-01-30T16:56:00.000000000, 2024-01-30T17:40:00.000000000, 2024-01-30T16:24:00.000000000, 2024-01-30T12:47:00.000000000, 2024-01-30T13:48:00.000000000, 2024-01-30T16:31:00.000000000, 2024-01-30T12:48:00.000000000, 2024-01-30T22:14:00.000000000, 2024-01-30T07:05:00.000000000, 2024-01-30T12:19:00.000000000, 2024-01-30T17:39:00.000000000, 2024-01-30T13:10:00.000000000, 2024-01-30T14:16:00.000000000, 2024-01-30T17:17:00.000000000, 2024-01-30T17:49:00.000000000, 2024-01-30T20:36:00.000000000, 2024-01-30T21:55:00.000000000, 2024-01-30T14:37:00.000000000, 2024-01-30T15:29:00.000000000, 2024-01-30T08:25:00.000000000, 2024-01-30T21:06:00.000000000, 2024-01-30T10:23:00.000000000, 2024-01-30T13:37:00.000000000, 2024-01-30T18:12:00.000000000, 2024-01-30T14:43:00.000000000, 2024-01-30T23:42:00.000000000, 2024-01-30T13:56:00.000000000, 2024-01-30T11:17:00.000000000, 2024-01-30T12:25:00.000000000, 2024-01-30T20:11:00.000000000, 2024-01-30T07:21:00.000000000, 2024-01-30T10:50:00.000000000, 2024-01-30T18:24:00.000000000, 2024-01-30T21:44:00.000000000, 2024-01-30T08:09:00.000000000, 2024-01-30T14:44:00.000000000, 2024-01-30T20:03:00.000000000, 2024-01-30T08:06:00.000000000, 2024-01-30T10:10:00.000000000, 2024-01-30T10:19:00.000000000, 2024-01-30T14:09:00.000000000, 2024-01-30T19:12:00.000000000, 2024-01-30T21:30:00.000000000, 2024-01-30T08:57:00.000000000, 2024-01-30T12:23:00.000000000, 2024-01-30T20:35:00.000000000, 2024-01-30T07:30:00.000000000, 2024-01-30T11:41:00.000000000, 2024-01-30T08:35:00.000000000, 2024-01-30T12:24:00.000000000, 2024-01-30T13:03:00.000000000, 2024-01-30T13:55:00.000000000, 2024-01-30T08:17:00.000000000, 2024-01-30T11:53:00.000000000, 2024-01-30T13:27:00.000000000, 2024-01-30T08:41:00.000000000, 2024-01-30T14:41:00.000000000, 2024-01-30T10:12:00.000000000, 2024-01-30T22:16:00.000000000, 2024-01-30T08:54:00.000000000, 2024-01-30T15:46:00.000000000, 2024-01-30T08:29:00.000000000, 2024-01-30T20:32:00.000000000, 2024-01-30T14:49:00.000000000, 2024-01-30T14:08:00.000000000, 2024-01-30T22:19:00.000000000, 2024-01-30T18:19:00.000000000, 2024-01-30T08:22:00.000000000, 2024-01-30T14:46:00.000000000, 2024-01-30T20:07:00.000000000, 2024-01-30T11:38:00.000000000, 2024-01-30T07:46:00.000000000, 2024-01-30T10:11:00.000000000, 2024-01-30T14:17:00.000000000, 2024-01-30T19:41:00.000000000, 2024-01-30T21:54:00.000000000, 2024-01-30T07:39:00.000000000, 2024-01-30T15:00:00.000000000, 2024-01-30T14:05:00.000000000, 2024-01-30T11:12:00.000000000, 2024-01-30T20:49:00.000000000, 2024-01-30T07:35:00.000000000, 2024-01-30T15:53:00.000000000, 2024-01-30T18:03:00.000000000, 2024-01-30T21:18:00.000000000, 2024-01-30T08:13:00.000000000, 2024-01-30T15:24:00.000000000, 2024-01-30T12:12:00.000000000, 2024-01-30T15:05:00.000000000, 2024-01-30T19:35:00.000000000, 2024-01-30T18:43:00.000000000, 2024-01-30T14:06:00.000000000, 2024-01-30T12:02:00.000000000, 2024-01-30T13:33:00.000000000, 2024-01-30T15:28:00.000000000, 2024-01-30T07:18:00.000000000, 2024-01-30T15:52:00.000000000, 2024-01-30T20:47:00.000000000, 2024-01-30T11:10:00.000000000, 2024-01-30T20:12:00.000000000, 2024-01-30T09:57:00.000000000, 2024-01-30T14:39:00.000000000, 2024-01-30T19:51:00.000000000, 2024-01-30T21:50:00.000000000, 2024-01-30T14:53:00.000000000, 2024-01-30T12:49:00.000000000, 2024-01-30T20:57:00.000000000, 2024-01-30T13:09:00.000000000, 2024-01-30T09:26:00.000000000, 2024-01-30T19:01:00.000000000, 2024-01-30T07:16:00.000000000, 2024-01-30T20:56:00.000000000, 2024-01-30T10:16:00.000000000, 2024-01-30T13:36:00.000000000, 2024-01-30T18:44:00.000000000, 2024-01-30T22:41:00.000000000, 2024-01-30T08:48:00.000000000, 2024-01-30T12:16:00.000000000, 2024-01-30T12:52:00.000000000, 2024-01-30T11:23:00.000000000, 2024-01-30T12:55:00.000000000, 2024-01-30T12:20:00.000000000, 2024-01-30T13:13:00.000000000, 2024-01-30T12:11:00.000000000, 2024-01-30T12:50:00.000000000, 2024-01-30T13:47:00.000000000, 2024-01-30T18:23:00.000000000, 2024-01-30T11:49:00.000000000, 2024-01-30T13:06:00.000000000, 2024-01-30T10:47:00.000000000, 2024-01-30T13:08:00.000000000, 2024-01-30T07:13:00.000000000, 2024-01-30T12:58:00.000000000, 2024-01-30T11:45:00.000000000, 2024-01-30T12:41:00.000000000, 2024-01-30T18:11:00.000000000, 2024-01-30T22:46:00.000000000, 2024-01-30T09:31:00.000000000, 2024-01-30T14:12:00.000000000, 2024-01-30T14:14:00.000000000, 2024-01-30T12:51:00.000000000, 2024-01-30T13:38:00.000000000, 2024-01-30T08:20:00.000000000, 2024-01-30T09:20:00.000000000, 2024-01-30T19:07:00.000000000, 2024-01-30T21:11:00.000000000, 2024-01-30T12:43:00.000000000, 2024-01-30T18:35:00.000000000, 2024-01-30T08:49:00.000000000, 2024-01-30T14:13:00.000000000, 2024-01-30T08:58:00.000000000, 2024-01-30T12:34:00.000000000, 2024-01-30T15:36:00.000000000, 2024-01-30T18:38:00.000000000, 2024-01-30T19:03:00.000000000, 2024-01-30T21:10:00.000000000, 2024-01-30T13:01:00.000000000, 2024-01-30T17:21:00.000000000, 2024-01-30T08:39:00.000000000, 2024-01-30T11:16:00.000000000, 2024-01-30T12:33:00.000000000, 2024-01-30T15:42:00.000000000, 2024-01-30T10:21:00.000000000, 2024-01-30T11:13:00.000000000, 2024-01-30T12:14:00.000000000, 2024-01-30T11:11:00.000000000, 2024-01-30T15:47:00.000000000, 2024-01-30T17:54:00.000000000, 2024-01-30T08:14:00.000000000, 2024-01-30T19:25:00.000000000, 2024-01-30T13:25:00.000000000, 2024-01-30T18:56:00.000000000, 2024-01-30T08:18:00.000000000, 2024-01-30T12:00:00.000000000, 2024-01-30T07:38:00.000000000, 2024-01-30T11:03:00.000000000, 2024-01-30T17:03:00.000000000, 2024-01-30T15:21:00.000000000, 2024-01-30T12:27:00.000000000, 2024-01-30T21:47:00.000000000, 2024-01-30T10:26:00.000000000, 2024-01-30T13:00:00.000000000, 2024-01-30T12:04:00.000000000, 2024-01-30T17:51:00.000000000, 2024-01-30T11:29:00.000000000, 2024-01-30T12:01:00.000000000, 2024-01-30T13:02:00.000000000, 2024-01-30T09:13:00.000000000, 2024-01-30T09:04:00.000000000, 2024-01-30T12:06:00.000000000, 2024-01-30T11:50:00.000000000, 2024-01-30T18:36:00.000000000, 2024-01-30T11:05:00.000000000, 2024-01-30T09:23:00.000000000, 2024-01-30T19:40:00.000000000, 2024-01-30T08:53:00.000000000, 2024-01-30T15:55:00.000000000, 2024-01-30T11:27:00.000000000, 2024-01-30T12:07:00.000000000, 2024-01-30T18:33:00.000000000, 2024-01-30T13:23:00.000000000, 2024-01-30T12:31:00.000000000, 2024-01-30T20:38:00.000000000, 2024-01-30T10:48:00.000000000, 2024-01-30T19:48:00.000000000, 2024-01-30T08:21:00.000000000, 2024-01-30T08:42:00.000000000, 2024-01-30T10:09:00.000000000, 2024-01-30T13:42:00.000000000, 2024-01-30T13:31:00.000000000, 2024-01-30T20:13:00.000000000, 2024-01-30T07:20:00.000000000, 2024-01-30T07:45:00.000000000, 2024-01-30T09:40:00.000000000, 2024-01-30T13:51:00.000000000, 2024-01-30T12:26:00.000000000, 2024-01-30T08:08:00.000000000, 2024-01-30T12:08:00.000000000, 2024-01-30T14:00:00.000000000, 2024-01-30T09:58:00.000000000, 2024-01-30T10:33:00.000000000, 2024-01-30T13:28:00.000000000, 2024-01-30T12:42:00.000000000, 2024-01-30T13:17:00.000000000, 2024-01-30T20:17:00.000000000, 2024-01-30T11:01:00.000000000, 2024-01-30T11:43:00.000000000, 2024-01-30T18:57:00.000000000, 2024-01-30T09:09:00.000000000, 2024-01-30T18:10:00.000000000, 2024-01-30T11:34:00.000000000, 2024-01-30T06:37:00.000000000, 2024-01-30T13:11:00.000000000, 2024-01-30T06:35:00.000000000, 2024-01-30T13:18:00.000000000, 2024-01-30T13:34:00.000000000, 2024-01-30T13:57:00.000000000, 2024-01-30T16:06:00.000000000, 2024-01-30T17:44:00.000000000, 2024-01-30T20:04:00.000000000, 2024-01-30T06:30:00.000000000, 2024-01-30T16:46:00.000000000, 2024-01-30T08:11:00.000000000, 2024-01-30T11:26:00.000000000, 2024-01-30T15:06:00.000000000, 2024-01-30T22:10:00.000000000, 2024-01-30T23:41:00.000000000, 2024-01-30T17:07:00.000000000, 2024-01-30T14:22:00.000000000, 2024-01-30T21:16:00.000000000, 2024-01-30T06:42:00.000000000, 2024-01-30T23:33:00.000000000, 2024-01-30T13:29:00.000000000, 2024-01-30T17:30:00.000000000, 2024-01-30T22:22:00.000000000, 2024-01-30T14:57:00.000000000, 2024-01-30T16:15:00.000000000, 2024-01-30T08:01:00.000000000, 2024-01-30T15:27:00.000000000, 2024-01-30T06:44:00.000000000, 2024-01-30T13:59:00.000000000, 2024-01-30T23:39:00.000000000, 2024-01-30T06:22:00.000000000, 2024-01-30T17:12:00.000000000, 2024-01-30T06:56:00.000000000, 2024-01-30T13:19:00.000000000, 2024-01-30T16:05:00.000000000, 2024-01-30T14:33:00.000000000, 2024-01-30T06:20:00.000000000, 2024-01-30T16:44:00.000000000, 2024-01-30T07:56:00.000000000, 2024-01-30T22:25:00.000000000, 2024-01-30T06:40:00.000000000, 2024-01-30T13:20:00.000000000, 2024-01-30T17:50:00.000000000, 2024-01-30T08:43:00.000000000, 2024-01-30T14:01:00.000000000, 2024-01-30T14:45:00.000000000, 2024-01-30T06:00:00.000000000, 2024-01-30T06:26:00.000000000, 2024-01-30T17:58:00.000000000, 2024-01-30T13:43:00.000000000, 2024-01-30T17:57:00.000000000, 2024-01-30T20:14:00.000000000, 2024-01-30T17:47:00.000000000, 2024-01-30T13:30:00.000000000, 2024-01-30T17:05:00.000000000, 2024-01-30T08:59:00.000000000, 2024-01-30T12:29:00.000000000, 2024-01-30T21:29:00.000000000, 2024-01-30T08:32:00.000000000, 2024-01-30T07:37:00.000000000, 2024-01-30T06:27:00.000000000, 2024-01-30T16:41:00.000000000, 2024-01-30T06:05:00.000000000, 2024-01-30T12:57:00.000000000, 2024-01-30T09:56:00.000000000, 2024-01-30T16:11:00.000000000, 2024-01-30T20:21:00.000000000, 2024-01-30T14:35:00.000000000, 2024-01-30T17:45:00.000000000, 2024-01-30T14:20:00.000000000, 2024-01-30T15:56:00.000000000, 2024-01-30T08:40:00.000000000, 2024-01-30T22:42:00.000000000, 2024-01-30T14:51:00.000000000, 2024-01-30T21:13:00.000000000, 2024-01-30T22:50:00.000000000, 2024-01-30T06:51:00.000000000, 2024-01-30T17:02:00.000000000, 2024-01-30T09:01:00.000000000, 2024-01-30T11:59:00.000000000, 2024-01-30T14:52:00.000000000, 2024-01-30T22:36:00.000000000, 2024-01-30T06:48:00.000000000, 2024-01-30T06:45:00.000000000, 2024-01-30T06:01:00.000000000, 2024-01-30T16:03:00.000000000, 2024-01-30T06:03:00.000000000, 2024-01-30T23:14:00.000000000, 2024-01-30T21:15:00.000000000, 2024-01-30T06:39:00.000000000, 2024-01-30T13:39:00.000000000, 2024-01-30T13:52:00.000000000, 2024-01-30T07:12:00.000000000, 2024-01-30T13:58:00.000000000, 2024-01-30T16:04:00.000000000, 2024-01-30T16:35:00.000000000, 2024-01-30T07:14:00.000000000, 2024-01-30T20:09:00.000000000, 2024-01-30T15:18:00.000000000, 2024-01-30T16:12:00.000000000, 2024-01-30T06:21:00.000000000, 2024-01-30T15:41:00.000000000, 2024-01-30T23:35:00.000000000, 2024-01-30T17:11:00.000000000, 2024-01-30T22:23:00.000000000, 2024-01-30T23:00:00.000000000, 2024-01-30T06:50:00.000000000, 2024-01-30T06:49:00.000000000, 2024-01-30T17:14:00.000000000, 2024-01-30T15:39:00.000000000, 2024-01-30T16:32:00.000000000, 2024-01-30T06:25:00.000000000, 2024-01-30T23:32:00.000000000, 2024-01-30T12:18:00.000000000, 2024-01-30T17:22:00.000000000, 2024-01-30T20:24:00.000000000, 2024-01-30T08:23:00.000000000, 2024-01-30T11:00:00.000000000, 2024-01-30T16:16:00.000000000, 2024-01-30T14:36:00.000000000, 2024-01-30T23:37:00.000000000, 2024-01-30T15:43:00.000000000, 2024-01-30T14:58:00.000000000, 2024-01-30T11:28:00.000000000, 2024-01-30T19:59:00.000000000, 2024-01-30T14:26:00.000000000, 2024-01-30T11:46:00.000000000, 2024-01-30T11:42:00.000000000, 2024-01-30T21:57:00.000000000, 2024-01-30T08:24:00.000000000, 2024-01-30T23:34:00.000000000, 2024-01-30T11:58:00.000000000, 2024-01-30T18:25:00.000000000, 2024-01-30T08:55:00.000000000, 2024-01-30T11:25:00.000000000, 2024-01-30T08:30:00.000000000, 2024-01-30T11:09:00.000000000, 2024-01-30T11:19:00.000000000, 2024-01-30T08:51:00.000000000, 2024-01-30T11:30:00.000000000, 2024-01-30T11:18:00.000000000, 2024-01-30T10:05:00.000000000, 2024-01-30T13:46:00.000000000, 2024-01-30T08:12:00.000000000, 2024-01-30T11:48:00.000000000, 2024-01-30T11:14:00.000000000, 2024-01-30T11:21:00.000000000, 2024-01-30T11:40:00.000000000, 2024-01-30T09:37:00.000000000, 2024-01-30T21:34:00.000000000, 2024-01-30T11:52:00.000000000, 2024-01-30T19:43:00.000000000, 2024-01-30T19:30:00.000000000, 2024-01-30T15:58:00.000000000, 2024-01-30T08:10:00.000000000, 2024-01-30T12:32:00.000000000, 2024-01-30T10:17:00.000000000, 2024-01-30T18:42:00.000000000, 2024-01-30T20:26:00.000000000, 2024-01-30T11:56:00.000000000, 2024-01-30T20:39:00.000000000, 2024-01-30T22:56:00.000000000, 2024-01-30T20:06:00.000000000, 2024-01-30T15:40:00.000000000, 2024-01-30T11:57:00.000000000, 2024-01-30T08:27:00.000000000, 2024-01-30T14:03:00.000000000, 2024-01-30T12:10:00.000000000, 2024-01-30T11:36:00.000000000, 2024-01-30T18:28:00.000000000, 2024-01-30T06:59:00.000000000, 2024-01-30T06:29:00.000000000, 2024-01-30T20:22:00.000000000, 2024-01-30T06:41:00.000000000, 2024-01-30T22:47:00.000000000, 2024-01-30T12:40:00.000000000, 2024-01-30T18:37:00.000000000, 2024-01-30T06:09:00.000000000, 2024-01-30T13:14:00.000000000, 2024-01-30T21:56:00.000000000, 2024-01-30T07:25:00.000000000, 2024-01-30T20:29:00.000000000, 2024-01-30T10:59:00.000000000, 2024-01-30T18:29:00.000000000, 2024-01-30T07:03:00.000000000, 2024-01-30T20:44:00.000000000, 2024-01-30T06:19:00.000000000, 2024-01-30T06:32:00.000000000, 2024-01-30T11:37:00.000000000, 2024-01-30T21:02:00.000000000, 2024-01-30T09:22:00.000000000, 2024-01-30T21:59:00.000000000, 2024-01-30T06:46:00.000000000, 2024-01-30T21:12:00.000000000, 2024-01-30T14:54:00.000000000, 2024-01-30T18:15:00.000000000, 2024-01-30T17:43:00.000000000, 2024-01-30T20:27:00.000000000, 2024-01-30T11:31:00.000000000, 2024-01-30T15:19:00.000000000, 2024-01-30T18:54:00.000000000, 2024-01-30T11:39:00.000000000, 2024-01-30T21:00:00.000000000, 2024-01-30T06:17:00.000000000, 2024-01-30T12:56:00.000000000, 2024-01-30T20:58:00.000000000, 2024-01-30T20:59:00.000000000, 2024-01-30T06:18:00.000000000, 2024-01-30T21:08:00.000000000, 2024-01-30T06:53:00.000000000, 2024-01-30T14:04:00.000000000, 2024-01-30T11:06:00.000000000, 2024-01-30T21:39:00.000000000, 2024-01-30T18:48:00.000000000, 2024-01-30T21:17:00.000000000, 2024-01-30T06:47:00.000000000, 2024-01-30T11:20:00.000000000, 2024-01-30T16:58:00.000000000, 2024-01-30T10:27:00.000000000, 2024-01-30T11:22:00.000000000, 2024-01-30T18:00:00.000000000, 2024-01-30T09:38:00.000000000, 2024-01-30T19:38:00.000000000, 2024-01-30T06:13:00.000000000, 2024-01-30T06:43:00.000000000, 2024-01-30T15:16:00.000000000, 2024-01-30T06:23:00.000000000, 2024-01-30T06:16:00.000000000, 2024-01-30T17:48:00.000000000, 2024-01-30T06:38:00.000000000, 2024-01-30T13:49:00.000000000, 2024-01-30T16:13:00.000000000, 2024-01-30T17:28:00.000000000, 2024-01-30T16:49:00.000000000, 2024-01-30T22:09:00.000000000, 2024-01-30T22:29:00.000000000, 2024-01-30T22:40:00.000000000, 2024-01-30T06:10:00.000000000, 2024-01-30T16:34:00.000000000, 2024-01-30T14:55:00.000000000, 2024-01-30T13:16:00.000000000, 2024-01-30T17:15:00.000000000, 2024-01-30T20:55:00.000000000, 2024-01-30T14:31:00.000000000, 2024-01-30T16:25:00.000000000, 2024-01-30T14:48:00.000000000, 2024-01-30T06:15:00.000000000, 2024-01-30T17:46:00.000000000, 2024-01-30T06:31:00.000000000, 2024-01-30T16:21:00.000000000, 2024-01-30T06:02:00.000000000, 2024-01-30T16:42:00.000000000, 2024-01-30T22:32:00.000000000, 2024-01-30T15:17:00.000000000, 2024-01-30T17:55:00.000000000, 2024-01-30T06:14:00.000000000, 2024-01-30T16:43:00.000000000, 2024-01-30T17:16:00.000000000, 2024-01-30T08:45:00.000000000, 2024-01-30T20:10:00.000000000, 2024-01-30T22:02:00.000000000, 2024-01-30T16:57:00.000000000, 2024-01-30T22:00:00.000000000, 2024-01-30T09:00:00.000000000, 2024-01-30T12:15:00.000000000, 2024-01-30T20:37:00.000000000, 2024-01-30T07:09:00.000000000, 2024-01-30T09:10:00.000000000, 2024-01-30T08:47:00.000000000, 2024-01-30T17:35:00.000000000, 2024-01-30T20:18:00.000000000, 2024-01-30T06:52:00.000000000, 2024-01-30T16:14:00.000000000, 2024-01-30T06:04:00.000000000, 2024-01-30T07:01:00.000000000, 2024-01-30T16:07:00.000000000, 2024-01-30T14:28:00.000000000, 2024-01-30T22:04:00.000000000, 2024-01-30T09:17:00.000000000, 2024-01-30T14:10:00.000000000, 2024-01-30T17:19:00.000000000, 2024-01-30T17:08:00.000000000, 2024-01-30T14:02:00.000000000, 2024-01-30T15:22:00.000000000, 2024-01-30T22:18:00.000000000, 2024-01-30T15:50:00.000000000, 2024-01-30T17:37:00.000000000, 2024-01-30T17:27:00.000000000, 2024-01-30T16:40:00.000000000, 2024-01-30T23:36:00.000000000, 2024-01-30T17:10:00.000000000, 2024-01-30T08:34:00.000000000, 2024-01-30T17:01:00.000000000, 2024-01-30T17:09:00.000000000, 2024-01-30T09:24:00.000000000, 2024-01-30T11:54:00.000000000, 2024-01-30T16:23:00.000000000, 2024-01-30T17:56:00.000000000, 2024-01-30T23:44:00.000000000, 2024-01-30T16:18:00.000000000, 2024-01-30T23:07:00.000000000, 2024-01-30T23:30:00.000000000, 2024-01-30T08:16:00.000000000, 2024-01-30T09:28:00.000000000, 2024-01-30T21:49:00.000000000, 2024-01-30T23:18:00.000000000, 2024-01-30T23:43:00.000000000, 2024-01-30T23:16:00.000000000, 2024-01-30T09:34:00.000000000, 2024-01-30T09:14:00.000000000, 2024-01-30T22:38:00.000000000, 2024-01-30T08:02:00.000000000, 2024-01-30T15:35:00.000000000, 2024-01-30T09:54:00.000000000, 2024-01-30T12:28:00.000000000, 2024-01-30T13:21:00.000000000, 2024-01-30T16:39:00.000000000, 2024-01-30T23:05:00.000000000, 2024-01-30T16:17:00.000000000, 2024-01-30T22:45:00.000000000, 2024-01-30T23:21:00.000000000, 2024-01-30T22:30:00.000000000, 2024-01-30T14:25:00.000000000, 2024-01-30T22:05:00.000000000, 2024-01-30T23:17:00.000000000, 2024-01-30T15:26:00.000000000, 2024-01-30T23:46:00.000000000, 2024-01-30T17:00:00.000000000, 2024-01-30T16:27:00.000000000, 2024-01-30T23:40:00.000000000, 2024-01-30T14:34:00.000000000, 2024-01-30T08:37:00.000000000, 2024-01-30T15:49:00.000000000, 2024-01-30T13:24:00.000000000, 2024-01-30T12:39:00.000000000, 2024-01-30T17:13:00.000000000, 2024-01-30T09:33:00.000000000, 2024-01-30T20:54:00.000000000, 2024-01-30T17:18:00.000000000, 2024-01-30T09:02:00.000000000, 2024-01-30T22:13:00.000000000, 2024-01-30T15:54:00.000000000, 2024-01-30T20:25:00.000000000, 2024-01-30T09:47:00.000000000, 2024-01-30T15:12:00.000000000, 2024-01-30T22:12:00.000000000, 2024-01-30T16:02:00.000000000, 2024-01-30T17:31:00.000000000, 2024-01-30T17:20:00.000000000, 2024-01-30T06:07:00.000000000, 2024-01-30T20:02:00.000000000, 2024-01-30T15:09:00.000000000, 2024-01-30T06:12:00.000000000, 2024-01-30T09:32:00.000000000, 2024-01-30T11:47:00.000000000, 2024-01-30T06:57:00.000000000, 2024-01-30T16:47:00.000000000, 2024-01-30T09:07:00.000000000, 2024-01-30T08:07:00.000000000, 2024-01-30T17:53:00.000000000, 2024-01-30T09:05:00.000000000, 2024-01-30T06:28:00.000000000, 2024-01-30T06:58:00.000000000, 2024-01-30T17:52:00.000000000, 2024-01-30T22:58:00.000000000, 2024-01-30T06:06:00.000000000, 2024-01-30T11:33:00.000000000, 2024-01-30T09:53:00.000000000, 2024-01-30T06:08:00.000000000, 2024-01-30T06:36:00.000000000, 2024-01-30T15:07:00.000000000, 2024-01-30T06:55:00.000000000, 2024-01-30T06:34:00.000000000, 2024-01-30T22:43:00.000000000, 2024-01-30T09:06:00.000000000, 2024-01-30T09:21:00.000000000, 2024-01-30T22:57:00.000000000, 2024-01-30T14:56:00.000000000, 2024-01-30T08:38:00.000000000, 2024-01-30T06:33:00.000000000, 2024-01-30T15:37:00.000000000, 2024-01-30T06:54:00.000000000, 2024-01-30T09:49:00.000000000, 2024-01-30T09:50:00.000000000, 2024-01-30T09:42:00.000000000, 2024-01-30T22:11:00.000000000, 2024-01-30T08:26:00.000000000, 2024-01-30T14:42:00.000000000, 2024-01-30T09:15:00.000000000, 2024-01-30T08:33:00.000000000, 2024-01-30T15:48:00.000000000, 2024-01-30T23:27:00.000000000, 2024-01-30T19:53:00.000000000, 2024-01-30T08:44:00.000000000, 2024-01-30T10:42:00.000000000, 2024-01-30T15:20:00.000000000, 2024-01-30T10:08:00.000000000, 2024-01-30T10:01:00.000000000, 2024-01-30T20:48:00.000000000, 2024-01-30T10:43:00.000000000, 2024-01-30T19:34:00.000000000, 2024-01-30T14:29:00.000000000, 2024-01-30T21:23:00.000000000, 2024-01-30T18:41:00.000000000, 2024-01-30T10:52:00.000000000, 2024-01-30T14:47:00.000000000, 2024-01-30T20:01:00.000000000, 2024-01-30T15:25:00.000000000, 2024-01-30T15:38:00.000000000, 2024-01-30T09:03:00.000000000, 2024-01-30T06:24:00.000000000, 2024-01-30T11:44:00.000000000, 2024-01-30T11:35:00.000000000, 2024-01-30T23:09:00.000000000, 2024-01-30T16:38:00.000000000, 2024-01-30T23:48:00.000000000, 2024-01-30T15:32:00.000000000, 2024-01-30T09:25:00.000000000, 2024-01-30T06:11:00.000000000, 2024-01-30T15:23:00.000000000, 2024-01-30T15:08:00.000000000, 2024-01-30T08:03:00.000000000, 2024-01-30T15:34:00.000000000, 2024-01-30T15:10:00.000000000, 2024-01-30T09:08:00.000000000, 2024-01-30T23:03:00.000000000, 2024-01-30T11:55:00.000000000, 2024-01-30T09:11:00.000000000, 2024-01-30T23:47:00.000000000, 2024-01-30T08:00:00.000000000, 2024-01-30T23:50:00.000000000, 2024-01-30T15:15:00.000000000, 2024-01-30T09:41:00.000000000, 2024-01-30T15:31:00.000000000, 2024-01-30T15:59:00.000000000, 2024-01-30T08:52:00.000000000, 2024-01-30T09:52:00.000000000, 2024-01-30T11:51:00.000000000, 2024-01-30T23:45:00.000000000, 2024-01-30T10:37:00.000000000, 2024-01-30T10:28:00.000000000, 2024-01-30T18:21:00.000000000, 2024-01-30T19:44:00.000000000, 2024-01-30T19:21:00.000000000, 2024-01-30T22:48:00.000000000, 2024-01-30T19:10:00.000000000, 2024-01-30T18:13:00.000000000, 2024-01-30T18:26:00.000000000, 2024-01-30T09:12:00.000000000, 2024-01-30T10:30:00.000000000, 2024-01-30T19:00:00.000000000, 2024-01-30T19:58:00.000000000, 2024-01-30T22:33:00.000000000, 2024-01-30T09:35:00.000000000, 2024-01-30T10:51:00.000000000, 2024-01-30T19:29:00.000000000, 2024-01-30T09:59:00.000000000, 2024-01-30T15:14:00.000000000, 2024-01-30T09:48:00.000000000, 2024-01-30T09:16:00.000000000, 2024-01-30T18:51:00.000000000, 2024-01-30T23:53:00.000000000, 2024-01-30T18:55:00.000000000, 2024-01-30T19:47:00.000000000, 2024-01-30T18:53:00.000000000, 2024-01-30T10:02:00.000000000, 2024-01-30T19:15:00.000000000, 2024-01-30T09:30:00.000000000, 2024-01-30T09:36:00.000000000, 2024-01-30T23:49:00.000000000, 2024-01-30T10:13:00.000000000, 2024-01-30T19:19:00.000000000, 2024-01-30T10:22:00.000000000, 2024-01-30T19:13:00.000000000, 2024-01-30T18:08:00.000000000, 2024-01-30T19:54:00.000000000, 2024-01-30T18:39:00.000000000, 2024-01-30T15:51:00.000000000, 2024-01-30T10:15:00.000000000, 2024-01-30T10:54:00.000000000, 2024-01-30T19:09:00.000000000, 2024-01-30T08:36:00.000000000, 2024-01-30T18:18:00.000000000, 2024-01-30T09:45:00.000000000, 2024-01-30T10:29:00.000000000, 2024-01-30T15:11:00.000000000, 2024-01-30T11:32:00.000000000, 2024-01-30T22:53:00.000000000, 2024-01-30T23:24:00.000000000, 2024-01-30T22:54:00.000000000, 2024-01-30T09:43:00.000000000, 2024-01-30T22:52:00.000000000, 2024-01-30T22:44:00.000000000, 2024-01-30T19:37:00.000000000, 2024-01-30T10:38:00.000000000, 2024-01-30T18:47:00.000000000, 2024-01-30T10:44:00.000000000, 2024-01-30T08:46:00.000000000, 2024-01-30T10:55:00.000000000, 2024-01-30T10:40:00.000000000, 2024-01-30T09:39:00.000000000, 2024-01-30T09:27:00.000000000, 2024-01-30T18:01:00.000000000, 2024-01-30T09:19:00.000000000, 2024-01-30T10:03:00.000000000, 2024-01-30T19:56:00.000000000, 2024-01-30T10:04:00.000000000, 2024-01-30T18:32:00.000000000, 2024-01-30T18:07:00.000000000, 2024-01-30T19:55:00.000000000, 2024-01-30T23:51:00.000000000, 2024-01-30T19:27:00.000000000, 2024-01-30T19:32:00.000000000, 2024-01-30T22:06:00.000000000, 2024-01-30T22:51:00.000000000, 2024-01-30T23:04:00.000000000, 2024-01-30T23:10:00.000000000, 2024-01-30T10:39:00.000000000, 2024-01-30T10:25:00.000000000, 2024-01-30T19:33:00.000000000, 2024-01-30T18:46:00.000000000, 2024-01-30T19:46:00.000000000, 2024-01-30T18:30:00.000000000, 2024-01-30T18:31:00.000000000, 2024-01-30T18:58:00.000000000, 2024-01-30T23:02:00.000000000, 2024-01-30T23:01:00.000000000, 2024-01-30T23:08:00.000000000, 2024-01-30T23:52:00.000000000, 2024-01-30T10:49:00.000000000, 2024-01-30T19:23:00.000000000, 2024-01-30T19:42:00.000000000, 2024-01-30T19:26:00.000000000, 2024-01-30T18:06:00.000000000, 2024-01-30T23:56:00.000000000, 2024-01-30T10:06:00.000000000, 2024-01-30T19:08:00.000000000, 2024-01-30T15:33:00.000000000, 2024-01-30T23:29:00.000000000, 2024-01-30T23:13:00.000000000, 2024-01-30T09:46:00.000000000, 2024-01-30T23:15:00.000000000, 2024-01-30T23:54:00.000000000, 2024-01-30T23:57:00.000000000, 2024-01-30T19:57:00.000000000, 2024-01-30T18:16:00.000000000, 2024-01-30T18:04:00.000000000, 2024-01-30T18:45:00.000000000, 2024-01-30T18:27:00.000000000, 2024-01-30T10:24:00.000000000, 2024-01-30T19:45:00.000000000, 2024-01-30T18:05:00.000000000, 2024-01-30T18:22:00.000000000, 2024-01-30T18:50:00.000000000, 2024-01-30T18:59:00.000000000, 2024-01-30T15:44:00.000000000, 2024-01-30T10:32:00.000000000, 2024-01-30T19:05:00.000000000, 2024-01-30T18:17:00.000000000, 2024-01-30T19:14:00.000000000, 2024-01-30T18:14:00.000000000, 2024-01-30T18:34:00.000000000, 2024-01-30T10:14:00.000000000, 2024-01-30T10:00:00.000000000, 2024-01-30T23:12:00.000000000, 2024-01-30T19:04:00.000000000, 2024-01-30T19:31:00.000000000, 2024-01-30T19:36:00.000000000, 2024-01-30T23:11:00.000000000\n",
            "========================================\n",
            "\n",
            "Column: end_time\n",
            "Unique values:\n",
            "2024-01-30T14:43:00.000000000, 2024-01-30T16:49:00.000000000, 2024-01-30T20:54:00.000000000, 2024-01-30T21:37:00.000000000, 2024-01-30T23:58:00.000000000, 2024-01-30T08:19:00.000000000, 2024-01-30T21:49:00.000000000, 2024-01-30T08:09:00.000000000, 2024-01-30T14:49:00.000000000, 2024-01-30T20:33:00.000000000, 2024-01-30T21:25:00.000000000, 2024-01-30T07:20:00.000000000, 2024-01-30T13:53:00.000000000, 2024-01-30T14:29:00.000000000, 2024-01-30T21:58:00.000000000, 2024-01-30T22:50:00.000000000, 2024-01-30T21:31:00.000000000, 2024-01-30T23:04:00.000000000, 2024-01-30T12:24:00.000000000, 2024-01-30T13:14:00.000000000, 2024-01-30T18:01:00.000000000, 2024-01-30T15:39:00.000000000, 2024-01-30T18:09:00.000000000, 2024-01-30T09:37:00.000000000, 2024-01-30T21:51:00.000000000, 2024-01-30T23:44:00.000000000, 2024-01-30T18:08:00.000000000, 2024-01-30T22:46:00.000000000, 2024-01-30T08:50:00.000000000, 2024-01-30T14:07:00.000000000, 2024-01-30T17:00:00.000000000, 2024-01-30T22:05:00.000000000, 2024-01-30T23:54:00.000000000, 2024-01-30T09:01:00.000000000, 2024-01-30T12:01:00.000000000, 2024-01-30T09:32:00.000000000, 2024-01-30T12:49:00.000000000, 2024-01-30T07:28:00.000000000, 2024-01-30T07:56:00.000000000, 2024-01-30T13:23:00.000000000, 2024-01-30T14:01:00.000000000, 2024-01-30T21:34:00.000000000, 2024-01-30T08:05:00.000000000, 2024-01-30T13:10:00.000000000, 2024-01-30T14:18:00.000000000, 2024-01-30T17:50:00.000000000, 2024-01-30T21:08:00.000000000, 2024-01-30T21:56:00.000000000, 2024-01-30T22:21:00.000000000, 2024-01-30T08:13:00.000000000, 2024-01-30T16:59:00.000000000, 2024-01-30T20:55:00.000000000, 2024-01-30T21:54:00.000000000, 2024-01-30T08:41:00.000000000, 2024-01-30T10:36:00.000000000, 2024-01-30T12:55:00.000000000, 2024-01-30T15:24:00.000000000, 2024-01-30T23:22:00.000000000, 2024-01-30T07:55:00.000000000, 2024-01-30T13:54:00.000000000, 2024-01-30T16:23:00.000000000, 2024-01-30T22:48:00.000000000, 2024-01-30T07:39:00.000000000, 2024-01-30T17:51:00.000000000, 2024-01-30T08:03:00.000000000, 2024-01-30T18:11:00.000000000, 2024-01-30T18:10:00.000000000, 2024-01-30T21:45:00.000000000, 2024-01-30T22:52:00.000000000, 2024-01-30T20:47:00.000000000, 2024-01-30T13:01:00.000000000, 2024-01-30T21:16:00.000000000, 2024-01-30T22:47:00.000000000, 2024-01-30T07:49:00.000000000, 2024-01-30T21:36:00.000000000, 2024-01-30T07:45:00.000000000, 2024-01-30T13:29:00.000000000, 2024-01-30T20:34:00.000000000, 2024-01-30T21:18:00.000000000, 2024-01-30T07:41:00.000000000, 2024-01-30T17:02:00.000000000, 2024-01-30T20:57:00.000000000, 2024-01-30T22:02:00.000000000, 2024-01-30T13:37:00.000000000, 2024-01-30T15:20:00.000000000, 2024-01-30T16:37:00.000000000, 2024-01-30T22:03:00.000000000, 2024-01-30T07:48:00.000000000, 2024-01-30T15:13:00.000000000, 2024-01-30T23:50:00.000000000, 2024-01-30T22:14:00.000000000, 2024-01-30T09:06:00.000000000, 2024-01-30T15:27:00.000000000, 2024-01-30T17:07:00.000000000, 2024-01-30T17:27:00.000000000, 2024-01-30T23:42:00.000000000, 2024-01-30T08:02:00.000000000, 2024-01-30T17:26:00.000000000, 2024-01-30T08:12:00.000000000, 2024-01-30T13:51:00.000000000, 2024-01-30T14:27:00.000000000, 2024-01-30T17:24:00.000000000, 2024-01-30T21:22:00.000000000, 2024-01-30T13:48:00.000000000, 2024-01-30T15:19:00.000000000, 2024-01-30T16:54:00.000000000, 2024-01-30T11:42:00.000000000, 2024-01-30T22:19:00.000000000, 2024-01-30T23:15:00.000000000, 2024-01-30T22:41:00.000000000, 2024-01-30T07:50:00.000000000, 2024-01-30T13:15:00.000000000, 2024-01-30T18:15:00.000000000, 2024-01-30T07:36:00.000000000, 2024-01-30T16:32:00.000000000, 2024-01-30T07:21:00.000000000, 2024-01-30T15:14:00.000000000, 2024-01-30T17:58:00.000000000, 2024-01-30T08:01:00.000000000, 2024-01-30T14:17:00.000000000, 2024-01-30T07:58:00.000000000, 2024-01-30T22:22:00.000000000, 2024-01-30T10:09:00.000000000, 2024-01-30T11:39:00.000000000, 2024-01-30T23:01:00.000000000, 2024-01-30T08:37:00.000000000, 2024-01-30T08:07:00.000000000, 2024-01-30T22:01:00.000000000, 2024-01-30T22:40:00.000000000, 2024-01-30T13:46:00.000000000, 2024-01-30T16:44:00.000000000, 2024-01-30T20:31:00.000000000, 2024-01-30T21:13:00.000000000, 2024-01-30T13:17:00.000000000, 2024-01-30T18:17:00.000000000, 2024-01-30T13:57:00.000000000, 2024-01-30T14:50:00.000000000, 2024-01-30T16:50:00.000000000, 2024-01-30T22:11:00.000000000, 2024-01-30T17:01:00.000000000, 2024-01-30T21:50:00.000000000, 2024-01-30T23:30:00.000000000, 2024-01-30T23:56:00.000000000, 2024-01-30T12:58:00.000000000, 2024-01-30T17:13:00.000000000, 2024-01-30T12:47:00.000000000, 2024-01-30T07:24:00.000000000, 2024-01-30T21:33:00.000000000, 2024-01-30T22:25:00.000000000, 2024-01-30T17:54:00.000000000, 2024-01-30T21:47:00.000000000, 2024-01-30T08:21:00.000000000, 2024-01-30T17:29:00.000000000, 2024-01-30T07:30:00.000000000, 2024-01-30T14:31:00.000000000, 2024-01-30T15:41:00.000000000, 2024-01-30T18:05:00.000000000, 2024-01-30T22:26:00.000000000, 2024-01-30T10:19:00.000000000, 2024-01-30T13:36:00.000000000, 2024-01-30T17:20:00.000000000, 2024-01-30T17:11:00.000000000, 2024-01-30T07:26:00.000000000, 2024-01-30T22:44:00.000000000, 2024-01-30T07:19:00.000000000, 2024-01-30T13:24:00.000000000, 2024-01-30T14:33:00.000000000, 2024-01-30T08:49:00.000000000, 2024-01-30T11:55:00.000000000, 2024-01-30T12:44:00.000000000, 2024-01-30T22:31:00.000000000, 2024-01-30T08:43:00.000000000, 2024-01-30T21:38:00.000000000, 2024-01-30T22:36:00.000000000, 2024-01-30T08:08:00.000000000, 2024-01-30T17:34:00.000000000, 2024-01-30T09:09:00.000000000, 2024-01-30T13:25:00.000000000, 2024-01-30T15:31:00.000000000, 2024-01-30T16:43:00.000000000, 2024-01-30T08:11:00.000000000, 2024-01-30T22:07:00.000000000, 2024-01-30T22:18:00.000000000, 2024-01-30T17:42:00.000000000, 2024-01-30T21:35:00.000000000, 2024-01-30T08:15:00.000000000, 2024-01-30T17:30:00.000000000, 2024-01-30T07:33:00.000000000, 2024-01-30T21:10:00.000000000, 2024-01-30T12:36:00.000000000, 2024-01-30T15:00:00.000000000, 2024-01-30T15:51:00.000000000, 2024-01-30T22:29:00.000000000, 2024-01-30T23:53:00.000000000, 2024-01-30T10:26:00.000000000, 2024-01-30T20:12:00.000000000, 2024-01-30T20:51:00.000000000, 2024-01-30T07:46:00.000000000, 2024-01-30T12:56:00.000000000, 2024-01-30T13:44:00.000000000, 2024-01-30T23:26:00.000000000, 2024-01-30T07:38:00.000000000, 2024-01-30T16:41:00.000000000, 2024-01-30T22:04:00.000000000, 2024-01-30T07:35:00.000000000, 2024-01-30T20:56:00.000000000, 2024-01-30T21:48:00.000000000, 2024-01-30T07:47:00.000000000, 2024-01-30T11:47:00.000000000, 2024-01-30T21:03:00.000000000, 2024-01-30T07:22:00.000000000, 2024-01-30T17:05:00.000000000, 2024-01-30T13:49:00.000000000, 2024-01-30T18:13:00.000000000, 2024-01-30T22:51:00.000000000, 2024-01-30T08:45:00.000000000, 2024-01-30T16:52:00.000000000, 2024-01-30T07:17:00.000000000, 2024-01-30T18:03:00.000000000, 2024-01-30T21:06:00.000000000, 2024-01-30T12:35:00.000000000, 2024-01-30T21:23:00.000000000, 2024-01-30T16:16:00.000000000, 2024-01-30T23:14:00.000000000, 2024-01-30T09:56:00.000000000, 2024-01-30T11:50:00.000000000, 2024-01-30T22:09:00.000000000, 2024-01-30T22:56:00.000000000, 2024-01-30T08:06:00.000000000, 2024-01-30T17:25:00.000000000, 2024-01-30T21:26:00.000000000, 2024-01-30T17:32:00.000000000, 2024-01-30T23:45:00.000000000, 2024-01-30T09:53:00.000000000, 2024-01-30T13:18:00.000000000, 2024-01-30T14:21:00.000000000, 2024-01-30T13:20:00.000000000, 2024-01-30T21:44:00.000000000, 2024-01-30T12:37:00.000000000, 2024-01-30T14:52:00.000000000, 2024-01-30T17:35:00.000000000, 2024-01-30T18:20:00.000000000, 2024-01-30T21:12:00.000000000, 2024-01-30T22:15:00.000000000, 2024-01-30T16:21:00.000000000, 2024-01-30T21:57:00.000000000, 2024-01-30T22:35:00.000000000, 2024-01-30T07:37:00.000000000, 2024-01-30T15:03:00.000000000, 2024-01-30T07:59:00.000000000, 2024-01-30T15:57:00.000000000, 2024-01-30T09:04:00.000000000, 2024-01-30T21:19:00.000000000, 2024-01-30T11:16:00.000000000, 2024-01-30T14:42:00.000000000, 2024-01-30T18:26:00.000000000, 2024-01-30T22:17:00.000000000, 2024-01-30T15:46:00.000000000, 2024-01-30T09:23:00.000000000, 2024-01-30T15:29:00.000000000, 2024-01-30T20:46:00.000000000, 2024-01-30T13:26:00.000000000, 2024-01-30T14:16:00.000000000, 2024-01-30T20:53:00.000000000, 2024-01-30T21:15:00.000000000, 2024-01-30T08:32:00.000000000, 2024-01-30T12:19:00.000000000, 2024-01-30T19:12:00.000000000, 2024-01-30T08:38:00.000000000, 2024-01-30T15:10:00.000000000, 2024-01-30T20:44:00.000000000, 2024-01-30T09:16:00.000000000, 2024-01-30T15:37:00.000000000, 2024-01-30T22:06:00.000000000, 2024-01-30T11:09:00.000000000, 2024-01-30T14:32:00.000000000, 2024-01-30T11:20:00.000000000, 2024-01-30T15:08:00.000000000, 2024-01-30T09:29:00.000000000, 2024-01-30T13:07:00.000000000, 2024-01-30T21:39:00.000000000, 2024-01-30T11:11:00.000000000, 2024-01-30T12:08:00.000000000, 2024-01-30T12:43:00.000000000, 2024-01-30T14:09:00.000000000, 2024-01-30T11:21:00.000000000, 2024-01-30T14:56:00.000000000, 2024-01-30T08:20:00.000000000, 2024-01-30T12:57:00.000000000, 2024-01-30T08:55:00.000000000, 2024-01-30T23:51:00.000000000, 2024-01-30T11:12:00.000000000, 2024-01-30T23:17:00.000000000, 2024-01-30T09:21:00.000000000, 2024-01-30T16:19:00.000000000, 2024-01-30T22:42:00.000000000, 2024-01-30T10:01:00.000000000, 2024-01-30T08:23:00.000000000, 2024-01-30T15:15:00.000000000, 2024-01-30T14:40:00.000000000, 2024-01-30T23:38:00.000000000, 2024-01-30T18:24:00.000000000, 2024-01-30T15:21:00.000000000, 2024-01-30T12:23:00.000000000, 2024-01-30T13:11:00.000000000, 2024-01-30T16:27:00.000000000, 2024-01-30T19:52:00.000000000, 2024-01-30T15:32:00.000000000, 2024-01-30T08:16:00.000000000, 2024-01-30T20:29:00.000000000, 2024-01-30T14:35:00.000000000, 2024-01-30T08:28:00.000000000, 2024-01-30T21:53:00.000000000, 2024-01-30T12:18:00.000000000, 2024-01-30T21:04:00.000000000, 2024-01-30T07:54:00.000000000, 2024-01-30T07:31:00.000000000, 2024-01-30T16:25:00.000000000, 2024-01-30T18:19:00.000000000, 2024-01-30T21:52:00.000000000, 2024-01-30T08:46:00.000000000, 2024-01-30T15:54:00.000000000, 2024-01-30T15:34:00.000000000, 2024-01-30T19:56:00.000000000, 2024-01-30T18:57:00.000000000, 2024-01-30T09:50:00.000000000, 2024-01-30T13:03:00.000000000, 2024-01-30T16:00:00.000000000, 2024-01-30T21:59:00.000000000, 2024-01-30T16:24:00.000000000, 2024-01-30T21:29:00.000000000, 2024-01-30T12:00:00.000000000, 2024-01-30T13:42:00.000000000, 2024-01-30T20:41:00.000000000, 2024-01-30T15:44:00.000000000, 2024-01-30T20:37:00.000000000, 2024-01-30T22:34:00.000000000, 2024-01-30T09:26:00.000000000, 2024-01-30T08:18:00.000000000, 2024-01-30T12:51:00.000000000, 2024-01-30T14:10:00.000000000, 2024-01-30T10:33:00.000000000, 2024-01-30T15:47:00.000000000, 2024-01-30T19:47:00.000000000, 2024-01-30T22:30:00.000000000, 2024-01-30T07:51:00.000000000, 2024-01-30T21:11:00.000000000, 2024-01-30T08:17:00.000000000, 2024-01-30T14:46:00.000000000, 2024-01-30T11:17:00.000000000, 2024-01-30T18:59:00.000000000, 2024-01-30T22:58:00.000000000, 2024-01-30T09:15:00.000000000, 2024-01-30T12:22:00.000000000, 2024-01-30T13:19:00.000000000, 2024-01-30T12:25:00.000000000, 2024-01-30T14:03:00.000000000, 2024-01-30T14:00:00.000000000, 2024-01-30T14:02:00.000000000, 2024-01-30T16:01:00.000000000, 2024-01-30T20:48:00.000000000, 2024-01-30T08:40:00.000000000, 2024-01-30T21:40:00.000000000, 2024-01-30T12:41:00.000000000, 2024-01-30T14:19:00.000000000, 2024-01-30T13:45:00.000000000, 2024-01-30T13:05:00.000000000, 2024-01-30T14:14:00.000000000, 2024-01-30T11:08:00.000000000, 2024-01-30T13:32:00.000000000, 2024-01-30T14:39:00.000000000, 2024-01-30T12:02:00.000000000, 2024-01-30T18:14:00.000000000, 2024-01-30T23:10:00.000000000, 2024-01-30T10:04:00.000000000, 2024-01-30T07:40:00.000000000, 2024-01-30T13:47:00.000000000, 2024-01-30T17:59:00.000000000, 2024-01-30T13:08:00.000000000, 2024-01-30T08:51:00.000000000, 2024-01-30T21:05:00.000000000, 2024-01-30T15:45:00.000000000, 2024-01-30T20:13:00.000000000, 2024-01-30T12:40:00.000000000, 2024-01-30T13:16:00.000000000, 2024-01-30T19:06:00.000000000, 2024-01-30T09:25:00.000000000, 2024-01-30T14:45:00.000000000, 2024-01-30T09:27:00.000000000, 2024-01-30T16:09:00.000000000, 2024-01-30T19:04:00.000000000, 2024-01-30T19:45:00.000000000, 2024-01-30T08:59:00.000000000, 2024-01-30T14:47:00.000000000, 2024-01-30T21:14:00.000000000, 2024-01-30T12:31:00.000000000, 2024-01-30T17:57:00.000000000, 2024-01-30T09:03:00.000000000, 2024-01-30T12:03:00.000000000, 2024-01-30T16:08:00.000000000, 2024-01-30T13:12:00.000000000, 2024-01-30T11:27:00.000000000, 2024-01-30T14:30:00.000000000, 2024-01-30T22:45:00.000000000, 2024-01-30T11:44:00.000000000, 2024-01-30T11:54:00.000000000, 2024-01-30T16:20:00.000000000, 2024-01-30T13:38:00.000000000, 2024-01-30T08:26:00.000000000, 2024-01-30T16:11:00.000000000, 2024-01-30T21:42:00.000000000, 2024-01-30T19:31:00.000000000, 2024-01-30T08:34:00.000000000, 2024-01-30T11:46:00.000000000, 2024-01-30T13:13:00.000000000, 2024-01-30T08:48:00.000000000, 2024-01-30T13:39:00.000000000, 2024-01-30T13:22:00.000000000, 2024-01-30T17:41:00.000000000, 2024-01-30T15:50:00.000000000, 2024-01-30T10:58:00.000000000, 2024-01-30T13:35:00.000000000, 2024-01-30T22:28:00.000000000, 2024-01-30T14:08:00.000000000, 2024-01-30T12:07:00.000000000, 2024-01-30T13:56:00.000000000, 2024-01-30T12:32:00.000000000, 2024-01-30T09:41:00.000000000, 2024-01-30T20:06:00.000000000, 2024-01-30T08:30:00.000000000, 2024-01-30T12:39:00.000000000, 2024-01-30T12:29:00.000000000, 2024-01-30T09:40:00.000000000, 2024-01-30T20:25:00.000000000, 2024-01-30T12:14:00.000000000, 2024-01-30T11:49:00.000000000, 2024-01-30T13:06:00.000000000, 2024-01-30T12:45:00.000000000, 2024-01-30T18:46:00.000000000, 2024-01-30T08:44:00.000000000, 2024-01-30T12:53:00.000000000, 2024-01-30T11:07:00.000000000, 2024-01-30T20:02:00.000000000, 2024-01-30T22:37:00.000000000, 2024-01-30T08:47:00.000000000, 2024-01-30T17:18:00.000000000, 2024-01-30T09:08:00.000000000, 2024-01-30T13:02:00.000000000, 2024-01-30T13:43:00.000000000, 2024-01-30T23:47:00.000000000, 2024-01-30T14:41:00.000000000, 2024-01-30T20:35:00.000000000, 2024-01-30T23:43:00.000000000, 2024-01-30T20:30:00.000000000, 2024-01-30T14:36:00.000000000, 2024-01-30T14:51:00.000000000, 2024-01-30T10:12:00.000000000, 2024-01-30T13:21:00.000000000, 2024-01-30T14:38:00.000000000, 2024-01-30T08:00:00.000000000, 2024-01-30T13:30:00.000000000, 2024-01-30T14:59:00.000000000, 2024-01-30T12:52:00.000000000, 2024-01-30T11:05:00.000000000, 2024-01-30T14:13:00.000000000, 2024-01-30T11:10:00.000000000, 2024-01-30T16:51:00.000000000, 2024-01-30T07:42:00.000000000, 2024-01-30T13:58:00.000000000, 2024-01-30T11:13:00.000000000, 2024-01-30T11:57:00.000000000, 2024-01-30T19:09:00.000000000, 2024-01-30T09:42:00.000000000, 2024-01-30T18:55:00.000000000, 2024-01-30T22:16:00.000000000, 2024-01-30T06:57:00.000000000, 2024-01-30T12:28:00.000000000, 2024-01-30T06:54:00.000000000, 2024-01-30T10:23:00.000000000, 2024-01-30T21:21:00.000000000, 2024-01-30T22:39:00.000000000, 2024-01-30T14:15:00.000000000, 2024-01-30T21:28:00.000000000, 2024-01-30T23:19:00.000000000, 2024-01-30T06:46:00.000000000, 2024-01-30T17:31:00.000000000, 2024-01-30T17:17:00.000000000, 2024-01-30T09:05:00.000000000, 2024-01-30T12:13:00.000000000, 2024-01-30T15:33:00.000000000, 2024-01-30T23:57:00.000000000, 2024-01-30T14:55:00.000000000, 2024-01-30T08:10:00.000000000, 2024-01-30T13:52:00.000000000, 2024-01-30T07:04:00.000000000, 2024-01-30T12:59:00.000000000, 2024-01-30T09:02:00.000000000, 2024-01-30T22:13:00.000000000, 2024-01-30T08:52:00.000000000, 2024-01-30T13:27:00.000000000, 2024-01-30T14:57:00.000000000, 2024-01-30T15:48:00.000000000, 2024-01-30T07:05:00.000000000, 2024-01-30T17:48:00.000000000, 2024-01-30T06:44:00.000000000, 2024-01-30T17:46:00.000000000, 2024-01-30T07:11:00.000000000, 2024-01-30T13:28:00.000000000, 2024-01-30T08:53:00.000000000, 2024-01-30T15:35:00.000000000, 2024-01-30T23:18:00.000000000, 2024-01-30T22:10:00.000000000, 2024-01-30T14:44:00.000000000, 2024-01-30T06:40:00.000000000, 2024-01-30T17:23:00.000000000, 2024-01-30T21:55:00.000000000, 2024-01-30T06:59:00.000000000, 2024-01-30T09:34:00.000000000, 2024-01-30T12:15:00.000000000, 2024-01-30T15:02:00.000000000, 2024-01-30T06:22:00.000000000, 2024-01-30T15:07:00.000000000, 2024-01-30T06:42:00.000000000, 2024-01-30T18:30:00.000000000, 2024-01-30T06:19:00.000000000, 2024-01-30T17:09:00.000000000, 2024-01-30T16:36:00.000000000, 2024-01-30T18:25:00.000000000, 2024-01-30T06:43:00.000000000, 2024-01-30T14:11:00.000000000, 2024-01-30T09:49:00.000000000, 2024-01-30T20:59:00.000000000, 2024-01-30T09:19:00.000000000, 2024-01-30T06:47:00.000000000, 2024-01-30T16:58:00.000000000, 2024-01-30T06:23:00.000000000, 2024-01-30T15:36:00.000000000, 2024-01-30T17:21:00.000000000, 2024-01-30T16:48:00.000000000, 2024-01-30T10:46:00.000000000, 2024-01-30T15:11:00.000000000, 2024-01-30T15:55:00.000000000, 2024-01-30T18:27:00.000000000, 2024-01-30T15:26:00.000000000, 2024-01-30T16:17:00.000000000, 2024-01-30T09:35:00.000000000, 2024-01-30T07:03:00.000000000, 2024-01-30T22:20:00.000000000, 2024-01-30T23:59:00.000000000, 2024-01-30T16:10:00.000000000, 2024-01-30T07:13:00.000000000, 2024-01-30T13:04:00.000000000, 2024-01-30T17:39:00.000000000, 2024-01-30T21:32:00.000000000, 2024-01-30T09:54:00.000000000, 2024-01-30T15:04:00.000000000, 2024-01-30T23:11:00.000000000, 2024-01-30T07:00:00.000000000, 2024-01-30T17:55:00.000000000, 2024-01-30T06:18:00.000000000, 2024-01-30T17:45:00.000000000, 2024-01-30T16:39:00.000000000, 2024-01-30T06:20:00.000000000, 2024-01-30T09:38:00.000000000, 2024-01-30T23:55:00.000000000, 2024-01-30T13:09:00.000000000, 2024-01-30T14:05:00.000000000, 2024-01-30T23:33:00.000000000, 2024-01-30T07:18:00.000000000, 2024-01-30T15:40:00.000000000, 2024-01-30T16:42:00.000000000, 2024-01-30T07:53:00.000000000, 2024-01-30T15:22:00.000000000, 2024-01-30T09:48:00.000000000, 2024-01-30T17:53:00.000000000, 2024-01-30T20:40:00.000000000, 2024-01-30T23:39:00.000000000, 2024-01-30T08:14:00.000000000, 2024-01-30T16:29:00.000000000, 2024-01-30T18:06:00.000000000, 2024-01-30T22:33:00.000000000, 2024-01-30T23:46:00.000000000, 2024-01-30T14:54:00.000000000, 2024-01-30T18:12:00.000000000, 2024-01-30T07:07:00.000000000, 2024-01-30T15:09:00.000000000, 2024-01-30T10:06:00.000000000, 2024-01-30T07:34:00.000000000, 2024-01-30T12:11:00.000000000, 2024-01-30T12:48:00.000000000, 2024-01-30T20:26:00.000000000, 2024-01-30T09:18:00.000000000, 2024-01-30T16:55:00.000000000, 2024-01-30T14:06:00.000000000, 2024-01-30T13:41:00.000000000, 2024-01-30T23:28:00.000000000, 2024-01-30T08:04:00.000000000, 2024-01-30T18:02:00.000000000, 2024-01-30T09:12:00.000000000, 2024-01-30T16:03:00.000000000, 2024-01-30T11:59:00.000000000, 2024-01-30T10:05:00.000000000, 2024-01-30T13:33:00.000000000, 2024-01-30T22:59:00.000000000, 2024-01-30T19:58:00.000000000, 2024-01-30T16:02:00.000000000, 2024-01-30T23:06:00.000000000, 2024-01-30T23:52:00.000000000, 2024-01-30T13:50:00.000000000, 2024-01-30T19:13:00.000000000, 2024-01-30T23:37:00.000000000, 2024-01-30T10:00:00.000000000, 2024-01-30T11:36:00.000000000, 2024-01-30T22:32:00.000000000, 2024-01-30T15:30:00.000000000, 2024-01-30T13:34:00.000000000, 2024-01-30T09:33:00.000000000, 2024-01-30T11:48:00.000000000, 2024-01-30T16:46:00.000000000, 2024-01-30T11:37:00.000000000, 2024-01-30T08:27:00.000000000, 2024-01-30T11:56:00.000000000, 2024-01-30T15:53:00.000000000, 2024-01-30T14:23:00.000000000, 2024-01-30T20:49:00.000000000, 2024-01-30T09:39:00.000000000, 2024-01-30T14:48:00.000000000, 2024-01-30T09:13:00.000000000, 2024-01-30T11:18:00.000000000, 2024-01-30T12:42:00.000000000, 2024-01-30T11:53:00.000000000, 2024-01-30T09:36:00.000000000, 2024-01-30T18:56:00.000000000, 2024-01-30T10:40:00.000000000, 2024-01-30T22:08:00.000000000, 2024-01-30T09:57:00.000000000, 2024-01-30T20:21:00.000000000, 2024-01-30T12:33:00.000000000, 2024-01-30T12:50:00.000000000, 2024-01-30T11:06:00.000000000, 2024-01-30T20:00:00.000000000, 2024-01-30T08:39:00.000000000, 2024-01-30T12:27:00.000000000, 2024-01-30T13:59:00.000000000, 2024-01-30T07:27:00.000000000, 2024-01-30T20:15:00.000000000, 2024-01-30T09:11:00.000000000, 2024-01-30T12:20:00.000000000, 2024-01-30T08:29:00.000000000, 2024-01-30T14:12:00.000000000, 2024-01-30T18:53:00.000000000, 2024-01-30T12:30:00.000000000, 2024-01-30T23:12:00.000000000, 2024-01-30T09:17:00.000000000, 2024-01-30T21:24:00.000000000, 2024-01-30T11:43:00.000000000, 2024-01-30T13:55:00.000000000, 2024-01-30T16:07:00.000000000, 2024-01-30T07:16:00.000000000, 2024-01-30T21:01:00.000000000, 2024-01-30T07:14:00.000000000, 2024-01-30T13:31:00.000000000, 2024-01-30T23:48:00.000000000, 2024-01-30T08:22:00.000000000, 2024-01-30T12:10:00.000000000, 2024-01-30T20:01:00.000000000, 2024-01-30T06:29:00.000000000, 2024-01-30T20:23:00.000000000, 2024-01-30T19:49:00.000000000, 2024-01-30T06:45:00.000000000, 2024-01-30T15:25:00.000000000, 2024-01-30T11:22:00.000000000, 2024-01-30T16:47:00.000000000, 2024-01-30T07:52:00.000000000, 2024-01-30T06:56:00.000000000, 2024-01-30T15:38:00.000000000, 2024-01-30T19:00:00.000000000, 2024-01-30T20:45:00.000000000, 2024-01-30T20:58:00.000000000, 2024-01-30T16:06:00.000000000, 2024-01-30T07:15:00.000000000, 2024-01-30T12:17:00.000000000, 2024-01-30T16:34:00.000000000, 2024-01-30T21:46:00.000000000, 2024-01-30T06:26:00.000000000, 2024-01-30T21:27:00.000000000, 2024-01-30T07:43:00.000000000, 2024-01-30T22:55:00.000000000, 2024-01-30T07:06:00.000000000, 2024-01-30T12:06:00.000000000, 2024-01-30T17:40:00.000000000, 2024-01-30T22:38:00.000000000, 2024-01-30T22:53:00.000000000, 2024-01-30T13:00:00.000000000, 2024-01-30T22:12:00.000000000, 2024-01-30T19:24:00.000000000, 2024-01-30T18:31:00.000000000, 2024-01-30T11:40:00.000000000, 2024-01-30T12:21:00.000000000, 2024-01-30T23:00:00.000000000, 2024-01-30T19:01:00.000000000, 2024-01-30T23:02:00.000000000, 2024-01-30T06:39:00.000000000, 2024-01-30T22:24:00.000000000, 2024-01-30T11:41:00.000000000, 2024-01-30T19:14:00.000000000, 2024-01-30T07:32:00.000000000, 2024-01-30T19:59:00.000000000, 2024-01-30T11:58:00.000000000, 2024-01-30T06:58:00.000000000, 2024-01-30T07:01:00.000000000, 2024-01-30T12:38:00.000000000, 2024-01-30T08:33:00.000000000, 2024-01-30T21:07:00.000000000, 2024-01-30T19:26:00.000000000, 2024-01-30T06:37:00.000000000, 2024-01-30T18:42:00.000000000, 2024-01-30T19:27:00.000000000, 2024-01-30T22:00:00.000000000, 2024-01-30T07:12:00.000000000, 2024-01-30T18:29:00.000000000, 2024-01-30T14:25:00.000000000, 2024-01-30T17:28:00.000000000, 2024-01-30T15:18:00.000000000, 2024-01-30T17:19:00.000000000, 2024-01-30T18:00:00.000000000, 2024-01-30T19:18:00.000000000, 2024-01-30T21:09:00.000000000, 2024-01-30T19:25:00.000000000, 2024-01-30T06:53:00.000000000, 2024-01-30T10:50:00.000000000, 2024-01-30T10:25:00.000000000, 2024-01-30T20:50:00.000000000, 2024-01-30T17:44:00.000000000, 2024-01-30T22:43:00.000000000, 2024-01-30T06:55:00.000000000, 2024-01-30T17:08:00.000000000, 2024-01-30T23:16:00.000000000, 2024-01-30T06:34:00.000000000, 2024-01-30T23:13:00.000000000, 2024-01-30T18:52:00.000000000, 2024-01-30T20:38:00.000000000, 2024-01-30T06:31:00.000000000, 2024-01-30T12:46:00.000000000, 2024-01-30T06:38:00.000000000, 2024-01-30T14:22:00.000000000, 2024-01-30T18:22:00.000000000, 2024-01-30T17:33:00.000000000, 2024-01-30T10:59:00.000000000, 2024-01-30T16:57:00.000000000, 2024-01-30T08:54:00.000000000, 2024-01-30T18:43:00.000000000, 2024-01-30T18:40:00.000000000, 2024-01-30T08:25:00.000000000, 2024-01-30T15:28:00.000000000, 2024-01-30T19:28:00.000000000, 2024-01-30T06:30:00.000000000, 2024-01-30T14:04:00.000000000, 2024-01-30T18:50:00.000000000, 2024-01-30T17:14:00.000000000, 2024-01-30T06:32:00.000000000, 2024-01-30T07:29:00.000000000, 2024-01-30T16:40:00.000000000, 2024-01-30T16:04:00.000000000, 2024-01-30T20:39:00.000000000, 2024-01-30T06:33:00.000000000, 2024-01-30T06:36:00.000000000, 2024-01-30T06:48:00.000000000, 2024-01-30T23:35:00.000000000, 2024-01-30T16:22:00.000000000, 2024-01-30T23:31:00.000000000, 2024-01-30T07:08:00.000000000, 2024-01-30T19:23:00.000000000, 2024-01-30T17:52:00.000000000, 2024-01-30T23:03:00.000000000, 2024-01-30T06:50:00.000000000, 2024-01-30T15:17:00.000000000, 2024-01-30T18:39:00.000000000, 2024-01-30T21:20:00.000000000, 2024-01-30T21:30:00.000000000, 2024-01-30T06:35:00.000000000, 2024-01-30T23:49:00.000000000, 2024-01-30T15:05:00.000000000, 2024-01-30T23:32:00.000000000, 2024-01-30T18:44:00.000000000, 2024-01-30T09:46:00.000000000, 2024-01-30T10:32:00.000000000, 2024-01-30T19:40:00.000000000, 2024-01-30T14:20:00.000000000, 2024-01-30T06:27:00.000000000, 2024-01-30T18:33:00.000000000, 2024-01-30T10:45:00.000000000, 2024-01-30T15:42:00.000000000, 2024-01-30T17:16:00.000000000, 2024-01-30T18:18:00.000000000, 2024-01-30T20:22:00.000000000, 2024-01-30T18:41:00.000000000, 2024-01-30T15:01:00.000000000, 2024-01-30T17:06:00.000000000, 2024-01-30T09:59:00.000000000, 2024-01-30T17:43:00.000000000, 2024-01-30T17:49:00.000000000, 2024-01-30T08:58:00.000000000, 2024-01-30T19:03:00.000000000, 2024-01-30T17:38:00.000000000, 2024-01-30T16:15:00.000000000, 2024-01-30T18:34:00.000000000, 2024-01-30T17:04:00.000000000, 2024-01-30T07:23:00.000000000, 2024-01-30T23:05:00.000000000, 2024-01-30T16:45:00.000000000, 2024-01-30T10:02:00.000000000, 2024-01-30T09:10:00.000000000, 2024-01-30T07:57:00.000000000, 2024-01-30T17:56:00.000000000, 2024-01-30T23:27:00.000000000, 2024-01-30T21:17:00.000000000, 2024-01-30T16:14:00.000000000, 2024-01-30T10:08:00.000000000, 2024-01-30T08:35:00.000000000, 2024-01-30T23:36:00.000000000, 2024-01-30T15:06:00.000000000, 2024-01-30T12:34:00.000000000, 2024-01-30T15:43:00.000000000, 2024-01-30T23:40:00.000000000, 2024-01-30T16:12:00.000000000, 2024-01-30T23:25:00.000000000, 2024-01-30T10:27:00.000000000, 2024-01-30T22:27:00.000000000, 2024-01-30T22:54:00.000000000, 2024-01-30T22:57:00.000000000, 2024-01-30T09:28:00.000000000, 2024-01-30T07:44:00.000000000, 2024-01-30T11:04:00.000000000, 2024-01-30T18:35:00.000000000, 2024-01-30T19:08:00.000000000, 2024-01-30T21:00:00.000000000, 2024-01-30T18:32:00.000000000, 2024-01-30T18:07:00.000000000, 2024-01-30T20:32:00.000000000, 2024-01-30T23:24:00.000000000, 2024-01-30T16:53:00.000000000, 2024-01-30T18:49:00.000000000, 2024-01-30T17:37:00.000000000, 2024-01-30T15:52:00.000000000, 2024-01-30T12:16:00.000000000, 2024-01-30T23:08:00.000000000, 2024-01-30T23:09:00.000000000, 2024-01-30T13:40:00.000000000, 2024-01-30T18:16:00.000000000, 2024-01-30T18:58:00.000000000, 2024-01-30T12:26:00.000000000, 2024-01-30T23:20:00.000000000, 2024-01-30T09:22:00.000000000, 2024-01-30T10:39:00.000000000, 2024-01-30T14:53:00.000000000, 2024-01-30T18:04:00.000000000, 2024-01-30T11:25:00.000000000, 2024-01-30T16:56:00.000000000, 2024-01-30T18:21:00.000000000, 2024-01-30T14:58:00.000000000, 2024-01-30T17:03:00.000000000, 2024-01-30T14:26:00.000000000, 2024-01-30T10:35:00.000000000, 2024-01-30T10:53:00.000000000, 2024-01-30T16:26:00.000000000, 2024-01-30T16:35:00.000000000, 2024-01-30T10:13:00.000000000, 2024-01-30T07:09:00.000000000, 2024-01-30T17:22:00.000000000, 2024-01-30T20:36:00.000000000, 2024-01-30T21:43:00.000000000, 2024-01-30T23:07:00.000000000, 2024-01-30T20:43:00.000000000, 2024-01-30T14:28:00.000000000, 2024-01-30T10:28:00.000000000, 2024-01-30T16:38:00.000000000, 2024-01-30T10:41:00.000000000, 2024-01-30T06:24:00.000000000, 2024-01-30T15:16:00.000000000, 2024-01-30T06:28:00.000000000, 2024-01-30T06:25:00.000000000, 2024-01-30T15:58:00.000000000, 2024-01-30T22:23:00.000000000, 2024-01-30T20:27:00.000000000, 2024-01-30T06:51:00.000000000, 2024-01-30T10:03:00.000000000, 2024-01-30T06:41:00.000000000, 2024-01-30T17:47:00.000000000, 2024-01-30T09:44:00.000000000, 2024-01-30T14:37:00.000000000, 2024-01-30T16:28:00.000000000, 2024-01-30T06:21:00.000000000, 2024-01-30T10:16:00.000000000, 2024-01-30T07:10:00.000000000, 2024-01-30T15:12:00.000000000, 2024-01-30T09:45:00.000000000, 2024-01-30T22:49:00.000000000, 2024-01-30T18:48:00.000000000, 2024-01-30T18:47:00.000000000, 2024-01-30T20:14:00.000000000, 2024-01-30T20:05:00.000000000, 2024-01-30T21:41:00.000000000, 2024-01-30T11:00:00.000000000, 2024-01-30T09:20:00.000000000, 2024-01-30T06:52:00.000000000, 2024-01-30T07:02:00.000000000, 2024-01-30T17:15:00.000000000, 2024-01-30T17:10:00.000000000, 2024-01-30T10:55:00.000000000, 2024-01-30T11:01:00.000000000, 2024-01-30T14:34:00.000000000, 2024-01-30T18:45:00.000000000, 2024-01-30T06:49:00.000000000, 2024-01-30T17:36:00.000000000, 2024-01-30T14:24:00.000000000, 2024-01-30T20:10:00.000000000, 2024-01-30T19:11:00.000000000, 2024-01-30T09:51:00.000000000, 2024-01-30T11:51:00.000000000, 2024-01-30T20:16:00.000000000, 2024-01-30T08:42:00.000000000, 2024-01-30T10:30:00.000000000, 2024-01-30T11:23:00.000000000, 2024-01-30T08:24:00.000000000, 2024-01-30T11:52:00.000000000, 2024-01-30T15:56:00.000000000, 2024-01-30T20:07:00.000000000, 2024-01-30T09:00:00.000000000, 2024-01-30T12:54:00.000000000, 2024-01-30T19:54:00.000000000, 2024-01-30T15:59:00.000000000, 2024-01-30T20:42:00.000000000, 2024-01-30T08:57:00.000000000, 2024-01-30T09:14:00.000000000, 2024-01-30T11:35:00.000000000, 2024-01-30T09:55:00.000000000, 2024-01-30T16:31:00.000000000, 2024-01-30T20:09:00.000000000, 2024-01-30T09:47:00.000000000, 2024-01-30T10:24:00.000000000, 2024-01-30T10:38:00.000000000, 2024-01-30T16:05:00.000000000, 2024-01-30T18:23:00.000000000, 2024-01-30T10:29:00.000000000, 2024-01-30T16:18:00.000000000, 2024-01-30T07:25:00.000000000, 2024-01-30T12:12:00.000000000, 2024-01-30T20:20:00.000000000, 2024-01-30T08:31:00.000000000, 2024-01-30T15:23:00.000000000, 2024-01-30T20:28:00.000000000, 2024-01-30T18:28:00.000000000, 2024-01-30T10:21:00.000000000, 2024-01-30T18:37:00.000000000, 2024-01-30T18:38:00.000000000, 2024-01-30T19:22:00.000000000, 2024-01-30T18:36:00.000000000, 2024-01-30T09:30:00.000000000, 2024-01-30T09:31:00.000000000, 2024-01-30T19:20:00.000000000, 2024-01-30T09:07:00.000000000, 2024-01-30T11:14:00.000000000, 2024-01-30T12:04:00.000000000, 2024-01-30T16:30:00.000000000, 2024-01-30T10:37:00.000000000, 2024-01-30T11:15:00.000000000, 2024-01-30T08:56:00.000000000, 2024-01-30T19:07:00.000000000, 2024-01-30T19:10:00.000000000, 2024-01-30T18:51:00.000000000, 2024-01-30T19:16:00.000000000, 2024-01-30T09:52:00.000000000, 2024-01-30T06:17:00.000000000, 2024-01-30T15:49:00.000000000, 2024-01-30T06:15:00.000000000, 2024-01-30T10:11:00.000000000, 2024-01-30T20:52:00.000000000, 2024-01-30T10:54:00.000000000, 2024-01-30T19:37:00.000000000, 2024-01-30T09:58:00.000000000, 2024-01-30T12:09:00.000000000, 2024-01-30T10:49:00.000000000, 2024-01-30T11:29:00.000000000, 2024-01-30T11:38:00.000000000, 2024-01-30T20:17:00.000000000, 2024-01-30T19:30:00.000000000, 2024-01-30T10:17:00.000000000, 2024-01-30T10:18:00.000000000, 2024-01-30T10:07:00.000000000, 2024-01-30T12:05:00.000000000, 2024-01-30T19:15:00.000000000, 2024-01-30T21:02:00.000000000, 2024-01-30T19:48:00.000000000, 2024-01-30T10:20:00.000000000, 2024-01-30T19:57:00.000000000, 2024-01-30T10:14:00.000000000, 2024-01-30T19:51:00.000000000, 2024-01-30T19:17:00.000000000, 2024-01-30T23:21:00.000000000, 2024-01-30T10:43:00.000000000, 2024-01-30T11:19:00.000000000, 2024-01-30T19:21:00.000000000, 2024-01-30T16:33:00.000000000, 2024-01-30T16:13:00.000000000, 2024-01-30T10:48:00.000000000, 2024-01-30T17:12:00.000000000, 2024-01-30T11:26:00.000000000, 2024-01-30T23:34:00.000000000, 2024-01-30T10:42:00.000000000, 2024-01-30T11:45:00.000000000, 2024-01-30T09:43:00.000000000, 2024-01-30T23:29:00.000000000, 2024-01-30T09:24:00.000000000, 2024-01-30T08:36:00.000000000, 2024-01-30T10:57:00.000000000, 2024-01-30T11:34:00.000000000, 2024-01-30T10:56:00.000000000, 2024-01-30T20:24:00.000000000, 2024-01-30T19:38:00.000000000, 2024-01-30T20:19:00.000000000, 2024-01-30T19:02:00.000000000, 2024-01-30T10:22:00.000000000, 2024-01-30T19:50:00.000000000, 2024-01-30T11:24:00.000000000, 2024-01-30T11:30:00.000000000, 2024-01-30T10:34:00.000000000, 2024-01-30T10:10:00.000000000, 2024-01-30T19:33:00.000000000, 2024-01-30T10:31:00.000000000, 2024-01-30T10:47:00.000000000, 2024-01-30T23:41:00.000000000, 2024-01-30T11:33:00.000000000, 2024-01-30T11:31:00.000000000, 2024-01-30T19:53:00.000000000, 2024-01-30T10:52:00.000000000, 2024-01-30T11:28:00.000000000, 2024-01-30T19:44:00.000000000, 2024-01-30T19:05:00.000000000, 2024-01-30T18:54:00.000000000, 2024-01-30T19:43:00.000000000, 2024-01-30T20:18:00.000000000, 2024-01-30T20:03:00.000000000, 2024-01-30T06:11:00.000000000, 2024-01-30T06:08:00.000000000, 2024-01-30T19:34:00.000000000, 2024-01-30T19:32:00.000000000, 2024-01-30T19:35:00.000000000, 2024-01-30T06:09:00.000000000, 2024-01-30T10:44:00.000000000, 2024-01-30T23:23:00.000000000, 2024-01-30T10:15:00.000000000, 2024-01-30T06:14:00.000000000, 2024-01-30T06:12:00.000000000, 2024-01-30T06:16:00.000000000, 2024-01-30T10:51:00.000000000, 2024-01-30T19:29:00.000000000, 2024-01-30T11:32:00.000000000, 2024-01-30T19:46:00.000000000, 2024-01-30T19:19:00.000000000, 2024-01-30T19:41:00.000000000, 2024-01-30T19:39:00.000000000, 2024-01-30T20:08:00.000000000, 2024-01-30T19:36:00.000000000, 2024-01-30T20:11:00.000000000, 2024-01-30T11:02:00.000000000, 2024-01-30T06:10:00.000000000, 2024-01-30T06:05:00.000000000, 2024-01-30T06:13:00.000000000, 2024-01-30T06:07:00.000000000, 2024-01-30T19:42:00.000000000\n",
            "========================================\n",
            "\n",
            "Column: price\n",
            "Unique values:\n",
            "43.99, 36.66, 15.08, 10.0, 19.48, 16.83, 13.24, 27.49, 21.38, 13.94, 16.49, 11.39, 14.78, 19.09, 21.43, 21.84, 16.58, 15.41, 10.81, 17.99, 20.58, 21.49, 41.28, 24.26, 28.17, 15.75, 30.4, 30.53, 20.24, 23.26, 41.64, 32.46, 15.74, 22.39, 13.49, 16.22, 20.86, 19.23, 10.98, 11.79, 20.56, 12.78, 15.16, 20.46, 11.14, 14.6, 17.8, 17.28, 23.51, 23.17, 14.44, 18.61, 30.68, 22.97, 18.76, 34.41, 22.32, 13.93, 15.3, 19.32, 15.84, 19.84, 11.88, 17.4, 15.24, 11.85, 14.04, 25.28, 31.4, 22.99, 13.4, 18.47, 12.19, 12.26, 17.46, 20.63, 11.13, 39.08, 34.17, 15.65, 17.85, 21.87, 23.95, 31.04, 28.85, 14.21, 25.1, 13.87, 12.37, 10.09, 15.59, 24.44, 30.22, 26.58, 15.49, 17.58, 20.52, 26.62, 20.3, 14.02, 24.48, 19.13, 18.29, 24.59, 17.69, 21.22, 19.45, 22.15, 15.18, 18.37, 14.95, 21.37, 25.48, 28.55, 21.61, 26.66, 34.43, 35.8, 16.38, 23.81, 15.62, 17.23, 13.74, 18.6, 18.49, 13.0, 28.43, 10.69, 13.13, 17.08, 11.89, 44.25, 13.83, 27.13, 20.16, 16.42, 20.84, 26.54, 31.22, 13.86, 18.03, 19.41, 15.56, 13.47, 15.86, 13.6, 13.29, 15.76, 17.45, 16.56, 22.91, 17.01, 18.25, 25.64, 21.68, 31.09, 21.99, 14.13, 13.67, 16.52, 13.78, 11.03, 17.62, 30.49, 37.81, 43.83, 25.88, 12.85, 19.37, 11.18, 18.19, 16.67, 32.98, 21.25, 11.77, 18.41, 13.15, 17.55, 15.87, 20.04, 10.93, 26.82, 20.36, 21.86, 27.34, 12.52, 17.51, 16.61, 32.69, 23.2, 18.68, 24.22, 21.76, 29.52, 24.86, 14.48, 13.28, 24.96, 26.79, 12.77, 15.42, 11.78, 11.82, 21.95, 18.51, 20.83, 14.38, 25.23, 10.79, 15.1, 17.3, 18.79, 10.48, 19.4, 14.86, 13.52, 24.29, 16.57, 15.45, 31.97, 13.07, 12.27, 27.14, 29.53, 31.53, 29.87, 18.99, 11.5, 16.47, 19.64, 20.09, 12.82, 23.6, 27.08, 26.95, 25.79, 17.67, 19.17, 21.59, 14.93, 23.4, 34.7, 25.5, 33.46, 12.93, 37.59, 22.09, 14.59, 31.76, 11.76, 15.63, 13.72, 27.33, 18.7, 16.64, 14.96, 13.77, 13.16, 18.94, 25.53, 23.07, 23.24, 32.3, 10.15, 19.93, 12.53, 19.46, 10.67, 15.04, 23.82, 16.9, 31.73, 35.43, 10.25, 26.31, 14.41, 27.68, 14.61, 23.72, 15.97, 25.07, 23.63, 36.33, 36.97, 17.91, 22.87, 14.87, 28.2, 32.0, 25.63, 24.63, 32.83, 21.08, 19.72, 29.57, 26.63, 18.83, 21.26, 32.8, 29.17, 15.57, 13.81, 10.3, 35.81, 28.04, 24.84, 12.34, 10.77, 23.53, 21.45, 16.37, 21.01, 31.48, 26.4, 17.37, 22.44, 31.5, 43.66, 29.28, 34.27, 13.66, 21.6, 20.17, 38.63, 32.09, 24.6, 14.83, 15.23, 12.47, 12.71, 22.85, 10.43, 23.86, 21.0, 19.33, 26.0, 32.68, 10.1, 21.66, 22.4, 22.02, 28.18, 21.29, 14.01, 28.86, 19.82, 13.84, 13.58, 13.53, 23.58, 20.99, 16.59, 23.21, 21.82, 24.72, 13.1, 22.92, 23.34, 33.27, 33.29, 32.25, 25.75, 17.16, 19.63, 17.78, 22.19, 32.22, 32.51, 14.63, 35.29, 32.07, 25.76, 21.62, 21.73, 16.27, 17.94, 10.36, 19.06, 21.75, 15.54, 26.04, 25.77, 33.14, 24.49, 30.03, 17.75, 13.14, 30.97, 29.13, 17.36, 13.61, 21.96, 25.46, 24.53, 26.43, 30.48, 37.29, 17.1, 36.26, 34.77, 20.7, 16.5, 14.52, 21.88, 11.62, 10.83, 20.29, 13.12, 23.48, 23.32, 14.18, 23.66, 17.93, 14.56, 11.34, 16.19, 16.34, 22.79, 16.77, 20.9, 16.63, 36.77, 34.2, 22.29, 15.71, 17.09, 22.8, 17.84, 27.86, 22.66, 25.7, 11.92, 24.24, 21.8, 10.99, 23.56, 24.17, 22.01, 20.79, 20.37, 22.1, 18.98, 11.68, 24.57, 27.94, 21.57, 18.48, 27.5, 17.29, 33.17, 28.0, 26.81, 26.72, 12.62, 20.59, 25.24, 20.54, 24.41, 23.12, 22.2, 15.37, 10.96, 13.36, 17.43, 22.04, 14.7, 21.53, 31.94, 11.97, 14.9, 18.21, 19.9, 30.34, 15.09, 17.38, 17.54, 14.55, 34.99, 22.76, 27.17, 20.94, 34.44, 19.95, 22.0, 13.85, 19.56, 14.74, 32.39, 14.15, 30.24, 35.39, 20.44, 23.22, 31.57, 25.98, 12.31, 21.65, 12.36, 11.51, 10.72, 16.94, 22.38, 27.02, 18.84, 14.07, 20.72, 22.42, 10.04, 21.17, 21.83, 25.89, 13.34, 20.08, 24.55, 20.6, 30.66, 12.94, 11.63, 20.22, 22.52, 22.73, 12.5, 39.74, 42.59, 17.72, 22.51, 10.85, 10.63, 15.06, 22.68, 23.94, 37.58, 25.36, 33.04, 28.1, 12.54, 21.24, 19.8, 27.58, 11.91, 22.06, 16.95, 19.03, 27.32, 10.24, 17.31, 13.2, 31.54, 25.94, 24.27, 21.27, 22.41, 34.67, 22.78, 12.25, 26.87, 15.85, 15.27, 11.99, 21.67, 18.59, 36.34, 13.5, 19.75, 18.77, 20.74, 13.21, 18.17, 19.89, 20.06, 18.39, 13.26, 31.52, 20.03, 27.8, 18.0, 10.22, 13.22, 23.9, 12.29, 34.47, 16.86, 16.8, 13.54, 32.72, 30.44, 19.83, 24.28, 12.75, 20.31, 19.21, 12.04, 13.82, 14.34, 13.96, 13.11, 19.22, 20.48, 27.31, 15.17, 19.2, 12.6, 23.23, 28.37, 17.56, 14.67, 14.54, 12.87, 19.38, 10.13, 22.35, 11.86, 14.97, 17.32, 17.89, 38.0, 30.59, 37.5, 18.07, 23.25, 20.55, 24.02, 19.51, 15.39, 10.66, 14.25, 10.57, 17.76, 14.77, 21.91, 22.24, 20.28, 15.19, 21.13, 28.19, 19.99, 20.95, 18.62, 27.95, 16.39, 14.75, 26.83, 11.43, 22.43, 13.65, 14.69, 15.02, 18.86, 15.13, 26.11, 30.27, 13.18, 14.08, 21.15, 18.3, 36.46, 33.9, 16.6, 17.87, 24.09, 28.84, 14.1, 19.36, 26.08, 24.3, 18.92, 16.35, 21.5, 16.81, 28.51, 30.32, 17.25, 19.65, 25.21, 23.43, 30.15, 25.4, 27.65, 18.05, 10.18, 21.41, 41.22, 14.57, 26.49, 31.34, 12.21, 15.66, 16.76, 13.37, 18.11, 20.5, 16.88, 14.46, 12.43, 17.02, 30.29, 20.66, 20.51, 20.41, 20.42, 16.13, 16.2, 30.51, 37.26, 16.15, 19.11, 21.11, 22.53, 25.85, 15.91, 19.08, 29.96, 30.73, 22.75, 17.03, 20.47, 26.56, 35.78, 19.43, 29.47, 31.01, 20.1, 34.36, 10.61, 26.39, 36.94, 20.98, 15.68, 11.61, 26.61, 15.12, 20.21, 27.59, 18.75, 21.9, 18.46, 11.45, 21.77, 25.18, 23.54, 24.89, 13.27, 14.22, 35.45, 16.46, 24.15, 11.87, 20.62, 25.19, 22.5, 14.31, 21.33, 18.15, 40.08, 12.97, 12.24, 12.72, 28.38, 28.26, 22.94, 22.03, 10.34, 12.56, 30.84, 15.25, 35.08, 33.37, 31.13, 11.08, 25.56, 25.61, 10.35, 19.74, 31.98, 25.08, 31.88, 23.01, 25.11, 37.94, 27.19, 22.12, 10.64, 38.14, 22.86, 22.36, 33.28, 32.97, 14.73, 27.93, 31.15, 12.01, 13.33, 15.52, 17.24, 11.72, 24.37, 25.31, 23.97, 25.33, 29.5, 31.3, 13.79, 26.92, 10.58, 20.19, 28.03, 28.35, 30.09, 29.6, 25.25, 37.16, 14.8, 16.31, 26.16, 35.18, 25.05, 11.52, 18.58, 29.54, 20.65, 25.13, 35.85, 25.14, 16.91, 23.96, 22.46, 10.7, 14.43, 23.77, 34.19, 20.11, 21.58, 17.86, 26.53, 28.73, 26.93, 14.49, 14.14, 17.88, 25.3, 18.35, 33.87, 21.36, 33.23, 34.86, 22.7, 11.38, 10.32, 22.07, 19.3, 12.33, 30.39, 25.69, 25.26, 19.34, 30.74, 44.03, 29.62, 23.14, 27.35, 27.55, 17.79, 23.45, 27.07, 11.81, 16.79, 33.34, 13.35, 18.43, 29.3, 14.37, 35.75, 37.62, 19.27, 20.89, 31.49, 24.35, 10.6, 14.58, 31.91, 29.91, 22.05, 26.1, 11.47, 15.89, 23.44, 30.38, 23.64, 34.13, 11.59, 21.89, 33.5, 10.46, 28.83, 24.46, 15.72, 16.01, 32.08, 30.71, 16.11, 29.99, 32.76, 34.11, 15.5, 21.04, 19.28, 21.79, 20.53, 13.91, 17.73, 33.93, 26.5, 12.0, 31.19, 35.09, 31.02, 28.93, 17.57, 23.35, 17.81, 12.66, 11.01, 51.18, 17.0, 46.84, 52.9, 14.91, 22.58, 41.09, 33.78, 23.79, 32.44, 22.71, 25.8, 19.96, 48.88, 48.45, 42.77, 31.14, 26.97, 33.62, 24.62, 27.03, 39.19, 39.24, 12.44, 35.69, 26.74, 23.84, 50.92, 28.25, 14.2, 24.4, 31.47, 30.42, 10.59, 16.93, 42.33, 12.79, 16.89, 22.54, 10.75, 24.88, 20.77, 12.84, 21.63, 20.2, 22.62, 15.95, 41.51, 33.12, 27.46, 34.24, 12.3, 25.09, 21.64, 31.26, 15.93, 26.28, 44.51, 16.28, 12.99, 14.29, 23.11, 23.83, 46.41, 21.07, 28.5, 41.9, 35.15, 19.25, 29.93, 45.76, 19.5, 19.24, 19.12, 18.74, 18.24, 27.61, 25.93, 32.21, 28.81, 20.68, 23.76, 24.99, 18.12, 23.47, 10.88, 30.17, 17.64, 21.55, 24.42, 11.4, 15.83, 43.76, 43.0, 21.09, 30.69, 41.61, 29.82, 11.54, 23.87, 30.0, 24.03, 32.05, 41.11, 10.65, 19.0, 42.52, 25.2, 14.81, 16.45, 15.29, 20.87, 31.89, 29.72, 22.14, 23.73, 17.39, 17.44, 33.38, 24.34, 48.36, 45.82, 17.22, 24.47, 21.97, 22.34, 38.31, 32.02, 31.45, 36.3, 39.51, 16.7, 14.64, 38.33, 12.18, 45.25, 16.82, 22.57, 28.94, 26.27, 40.04, 24.83, 39.82, 11.66, 14.53, 23.78, 29.45, 34.81, 44.0, 19.79, 17.14, 18.22, 10.51, 10.87, 27.56, 25.49, 35.26, 15.21, 43.46, 10.94, 13.73, 28.58, 14.66, 14.45, 29.16, 37.91, 16.55, 12.86, 23.57, 42.82, 20.45, 33.85, 34.32, 20.73, 17.07, 18.31, 15.6, 32.48, 56.53, 17.95, 27.2, 38.02, 22.3, 19.47, 10.91, 12.92, 21.31, 41.33, 18.73, 12.07, 27.99, 35.34, 16.1, 29.83, 38.57, 11.96, 31.36, 38.44, 37.37, 16.53, 20.43, 32.81, 37.55, 12.49, 33.33, 18.57, 20.34, 48.8, 13.7, 11.73, 23.16, 11.29, 28.01, 12.96, 17.2, 41.44, 12.17, 21.42, 22.6, 41.91, 37.89, 35.59, 39.4, 31.69, 20.8, 42.02, 23.31, 19.61, 23.55, 21.7, 25.99, 38.41, 12.2, 37.02, 12.61, 10.21, 28.76, 29.24, 39.64, 36.84, 14.94, 19.97, 40.21, 36.67, 45.45, 12.42, 17.7, 42.04, 28.45, 36.43, 26.99, 27.18, 39.36, 12.05, 26.7, 41.01, 29.44, 30.16, 18.26, 16.25, 15.53, 25.92, 21.18, 10.29, 26.48, 27.6, 32.71, 26.88, 32.04, 40.89, 38.08, 25.96, 14.06, 27.1, 15.81, 49.53, 14.47, 14.03, 14.88, 16.26, 11.49, 17.33, 20.18, 15.46, 26.52, 14.39, 30.93, 31.74, 25.43, 10.08, 37.77, 14.0, 13.42, 36.4, 40.61, 44.81, 34.14, 35.23, 22.67, 10.19, 29.98, 15.15, 16.92, 24.54, 32.4, 27.4, 32.62, 38.96, 40.31, 23.38, 15.98, 19.16, 13.05, 37.38, 44.38, 12.28, 31.64, 30.77, 35.58, 21.72, 16.23, 28.68, 35.41, 23.18, 23.39, 32.65, 22.18, 24.73, 12.65, 15.2, 14.28, 16.66, 22.9, 33.92, 32.53, 14.19, 34.28, 40.33, 12.06, 13.25, 16.09, 19.01, 12.58, 13.69, 26.89, 24.0, 35.36, 30.99, 16.21, 11.83, 28.16, 19.49, 22.83, 33.58, 23.28, 15.92, 22.08, 38.97, 29.22, 26.55, 18.36, 34.68, 47.93, 43.48, 11.74, 18.44, 31.17, 30.37, 27.21, 21.06, 36.2, 20.05, 24.87, 17.77, 33.88, 39.94, 16.78, 16.14, 24.81, 14.05, 25.41, 24.07, 33.48, 29.21, 25.86, 17.11, 15.01, 11.06, 14.35, 32.58, 23.0, 33.42, 12.4, 16.73, 28.7, 29.12, 13.09, 11.67, 10.44, 25.29, 25.59, 14.92, 23.7, 43.79, 21.44, 16.97, 17.17, 26.15, 23.65, 26.22, 27.44, 15.14, 23.99, 15.58, 23.98, 26.42, 67.93, 12.45, 11.19, 33.01, 25.67, 36.51, 26.76, 15.35, 26.41, 34.34, 28.39, 21.71, 23.15, 24.13, 37.06, 22.37, 25.38, 21.02, 37.33, 29.73, 23.89, 11.57, 37.85, 28.06, 19.07, 21.52, 41.32, 16.0, 11.58, 14.09, 18.08, 70.82, 34.45, 36.6, 29.32, 37.4, 19.1, 14.62, 19.73, 30.58, 17.61, 28.23, 30.5, 29.07, 24.16, 35.37, 15.03, 23.91, 34.55, 39.27, 27.23, 12.8, 26.9, 37.7, 22.17, 14.27, 11.71, 35.67, 33.84, 33.36, 32.29, 34.48, 23.08, 20.91, 12.38, 27.47, 20.35, 29.64, 16.98, 18.4, 10.78, 16.12, 32.47, 31.16, 26.77, 31.86, 28.9, 23.33, 16.85, 11.41, 35.28, 13.95, 25.62, 34.84, 17.49, 41.15, 15.9, 35.7, 19.05, 14.72, 14.42, 26.64, 24.67, 23.92, 15.88, 29.69, 37.42, 29.48, 11.93, 12.95, 33.6, 35.97, 15.55, 28.71, 15.73, 40.12, 32.2, 24.05, 18.64, 19.15, 15.38, 33.76, 12.13, 32.84, 19.18, 18.34, 19.31, 23.37, 30.28, 20.07, 23.05, 13.63, 33.83, 15.69, 30.65, 27.06, 18.09, 31.92, 25.35, 39.43, 30.55, 10.2, 31.85, 35.44, 30.2, 14.99, 10.47, 19.44, 32.42, 13.23, 17.34, 34.38, 34.76, 36.12, 18.91, 34.08, 18.14, 16.32, 18.9, 17.48, 18.72, 25.44, 32.18, 25.81, 31.68, 25.82, 28.95, 10.95, 29.8, 13.48, 33.22, 35.54, 35.17, 17.26, 18.93, 17.82, 40.58, 16.65, 41.84, 11.6, 23.49, 22.26, 33.99, 32.01, 29.4, 29.26, 30.87, 40.16, 16.02, 24.04, 26.29, 34.72, 33.81, 17.63, 25.9, 31.41, 19.94, 27.0, 29.19, 27.62, 28.21, 21.4, 35.96, 50.29, 11.95, 16.4, 10.8, 12.35, 16.17, 16.62, 30.31, 14.51, 36.56, 36.75, 26.91, 21.54, 31.0, 38.06, 18.13, 23.74, 25.27, 12.1, 38.91, 21.48, 12.9, 22.21, 18.81, 26.85, 19.67, 18.69, 10.45, 25.83, 18.53, 13.02, 23.5, 27.28, 25.78, 15.4, 24.71, 27.91, 22.28, 31.2, 21.81, 15.94, 10.33, 33.56, 15.79, 12.88, 13.99, 19.86, 20.93, 15.31, 15.78, 34.57, 12.55, 24.64, 14.76, 21.98, 18.8, 16.48, 24.19, 25.17, 27.98, 37.79, 14.3, 14.17, 13.08, 24.38, 21.32, 21.93, 25.15, 31.18, 29.39, 18.23, 25.32, 17.92, 25.52, 13.56, 23.46, 20.67, 25.16, 17.68, 26.09, 31.12, 19.6, 39.52, 24.33, 11.55, 17.27, 10.68, 14.12, 23.19, 36.27, 19.92, 19.88, 19.69, 11.8, 25.65, 10.74, 22.63, 20.76, 26.02, 16.08, 19.71, 28.31, 17.35, 24.93, 22.98, 27.11, 43.23, 14.82, 27.85, 25.01, 35.42, 35.33, 33.43, 15.32, 14.16, 27.96, 31.42, 23.69, 30.82, 13.59, 17.15, 13.41, 10.62, 22.55, 43.24, 18.18, 26.69, 17.97, 27.05, 12.48, 17.96, 18.16, 11.27, 21.28, 25.42, 36.41, 16.43, 11.94, 12.81, 44.04, 48.53, 11.36, 22.81, 12.83, 19.14, 28.59, 30.85, 13.64, 19.91, 27.29, 22.72, 37.63, 45.61, 18.27, 13.71, 36.54, 34.1, 28.02, 30.36, 25.04, 13.88, 28.41, 17.06, 27.38, 13.45, 15.07, 24.79, 23.29, 12.69, 13.62, 51.38, 36.28, 11.23, 11.35, 18.33, 18.71, 15.82, 30.08, 38.38, 31.6, 10.5, 16.87, 14.68, 17.98, 37.07, 25.58, 21.05, 17.42, 18.78, 24.43, 24.77, 11.12, 19.29, 34.12, 32.66, 20.78, 17.12, 22.89, 22.69, 40.36, 14.89, 22.65, 16.07, 29.41, 12.7, 29.66, 25.95, 29.33, 37.86, 30.02, 35.94, 22.88, 13.98, 20.71, 16.44, 16.99, 19.42, 32.67, 37.75, 22.13, 12.03, 19.81, 31.24, 13.01, 32.89, 19.77, 18.56, 17.6, 11.37, 16.36, 14.32, 10.86, 22.93, 37.19, 36.83, 13.68, 36.25, 27.72, 30.3, 33.54, 32.1, 14.11, 23.41, 35.46, 27.63, 15.99, 10.03, 37.08, 28.4, 33.86, 20.4, 25.0, 22.33, 29.7, 27.57, 28.69, 38.54, 29.46, 23.52, 36.0, 39.53, 23.61, 26.35, 10.27, 28.8, 39.12, 33.91, 23.68, 10.39, 17.19, 20.38, 23.75, 33.64, 18.2, 39.21, 19.76, 22.95, 26.65, 26.12, 27.36, 11.56, 23.13, 11.48, 13.57, 21.19, 41.42, 19.19, 39.91, 22.23, 36.87, 29.04, 11.07, 31.67, 24.74, 20.85, 34.35, 31.62, 28.82, 18.96, 34.6, 23.1, 19.39, 27.16, 29.34, 34.64, 21.47, 35.47, 30.47, 26.86, 33.15, 11.65, 31.39, 14.33, 18.38, 35.49, 12.59, 33.21, 28.15, 55.0, 29.15, 16.71, 26.8, 30.83, 39.8, 15.0, 43.09, 29.63, 43.41, 26.14, 13.38, 21.14, 42.18, 36.44, 15.7, 28.48, 14.65, 29.92, 25.87, 15.05, 20.96, 36.19, 27.9, 34.16, 11.21, 28.08, 31.33, 38.23, 24.06, 26.71, 17.05, 23.02, 26.33, 33.24, 33.45, 25.54, 13.03, 15.77, 25.57, 43.52, 36.02, 15.64, 13.04, 48.14, 29.06, 34.25, 17.13, 23.04, 36.09, 18.89, 33.02, 13.76, 29.75, 10.54, 17.83, 37.66, 39.18, 28.14, 41.85, 39.35, 36.22, 18.63, 29.31, 22.49, 10.89, 35.95, 33.69, 32.55, 12.16, 13.32, 15.11, 12.67, 40.65, 16.33, 23.67, 39.07, 44.85, 21.74, 41.37, 45.71, 15.36, 10.73, 36.8, 47.97, 41.73, 32.5, 33.57, 32.12, 29.55, 30.05, 26.24, 20.26, 39.45, 26.45, 12.41, 39.14, 29.84, 43.56, 41.0, 18.87, 24.95, 12.68, 29.85, 14.26, 24.65, 20.0, 38.58, 24.5, 13.89, 20.92, 35.76, 46.35, 44.54, 11.28, 29.86, 22.82, 41.63, 42.72, 28.09, 24.52, 36.76, 33.82, 30.62, 36.35, 27.89, 23.3, 18.97, 13.92, 11.9, 20.88, 29.74, 11.15, 13.31, 19.7, 15.61, 27.78, 17.21, 32.24, 20.13, 11.0, 28.29, 18.66, 28.78, 11.33, 10.38, 17.04, 17.66, 21.2, 16.16, 19.68, 40.55, 22.64, 40.57, 24.1, 18.55, 24.14, 23.59, 33.8, 32.79, 38.22, 30.67, 26.34, 29.01, 19.55, 18.85, 10.01, 31.43, 35.99, 30.76, 33.7, 37.32, 24.7, 20.75, 19.35, 24.97, 12.11, 28.53, 10.17, 31.29, 25.6, 34.95, 41.72, 30.43, 18.06, 29.97, 16.51, 10.11, 40.76, 43.34, 21.1, 11.3, 35.05, 27.75, 34.46, 11.46, 12.89, 39.72, 29.61, 35.89, 39.66, 18.04, 28.88, 18.52, 18.01, 13.8, 37.27, 26.13, 22.77, 15.47, 48.12, 12.02, 31.99, 29.08, 44.19, 36.78, 21.46, 10.41, 10.07, 38.12, 13.55, 32.95, 22.11, 16.04, 32.38, 17.74, 19.78, 23.03, 20.25, 10.55, 32.35, 38.1, 32.57, 31.27, 27.69, 16.03, 22.56, 50.96, 30.64, 34.51, 34.26, 10.37, 12.22, 37.44, 33.03, 10.42, 14.23, 31.66, 40.67, 15.44, 31.23, 30.19, 11.04, 11.17, 24.82, 23.27, 40.53, 40.3, 36.47, 13.44, 32.77, 45.78, 12.46, 24.56, 36.82, 16.54, 17.5, 31.75, 24.69, 31.1, 24.51, 19.85, 11.7, 19.58, 19.26, 19.62, 18.28, 36.99, 10.56, 21.94, 20.23, 13.17, 22.16, 26.68, 32.78, 37.24, 28.11, 45.2, 26.03, 24.45, 22.22, 13.19, 18.02, 11.02, 21.23, 26.06, 13.75, 37.46, 38.99, 25.06, 32.43, 19.87, 39.88, 21.34, 22.84, 24.12, 47.85, 18.67, 15.96, 14.71, 39.03, 19.04, 18.95, 40.06, 24.31, 36.62, 17.71, 12.12, 30.35, 38.59, 14.5, 38.39, 34.06, 27.48, 18.45, 25.22, 28.12, 10.23, 36.58, 28.87, 33.11, 37.76, 37.2, 40.19, 14.79, 35.3, 11.26, 34.18, 16.72, 21.78, 16.3, 40.52, 21.21, 18.5, 29.71, 21.39, 10.05, 35.4, 35.84, 16.29, 16.06, 34.0, 14.24, 30.72, 10.12, 28.44, 39.65, 12.32, 30.61, 33.05, 37.25, 17.59, 31.06, 38.89, 37.74, 15.22, 30.25, 30.81, 11.98, 28.61, 12.14, 42.23, 15.34, 12.73, 26.18, 36.96, 24.01, 29.02, 27.12, 29.2, 29.68, 10.52, 30.92, 27.64, 26.25, 22.45, 29.59, 38.77, 27.3, 25.68, 14.84, 35.51, 25.39, 15.51, 37.18, 28.36, 19.53, 37.05, 20.82, 30.45, 29.1, 25.73, 11.53, 23.88, 29.09, 32.61, 26.23, 15.48, 11.25, 24.39, 22.61, 35.14, 36.14, 30.06, 18.65, 20.27, 29.58, 15.43, 23.93, 21.92, 10.49, 30.86, 36.06, 35.77, 26.07, 29.9, 40.01, 32.74, 24.58, 38.65, 27.42, 24.92, 15.8, 36.53, 31.65, 17.9, 35.56, 41.36, 37.04, 28.32, 12.63, 28.75, 33.75, 37.45, 28.89, 31.31, 33.53, 39.56, 36.98, 31.07, 33.52, 36.7, 42.56, 27.04, 26.01, 29.56, 10.97, 20.01, 30.46, 16.24, 23.62, 26.84, 24.11, 20.64, 30.63, 22.31, 25.74, 34.75, 29.76, 25.66, 29.23, 30.14, 31.87, 12.91, 34.15, 41.08, 27.88, 17.41, 15.28, 18.88, 24.2, 28.27, 22.27, 27.37, 10.06, 21.69, 29.65, 30.12, 34.78, 23.85, 11.32, 11.31, 28.47, 28.42, 16.75, 18.42, 28.77, 34.92, 34.62, 35.53, 27.39, 21.35, 11.69, 38.84, 31.28, 32.16, 41.53, 39.86, 59.82, 24.75, 33.59, 29.25, 44.45, 17.18, 27.43, 34.63, 48.76, 23.06, 38.07, 38.48, 26.75, 38.04, 27.92, 21.85, 53.06, 11.84, 11.64, 31.46, 28.79, 16.96, 20.14, 26.6, 38.55, 42.36, 14.4, 42.78, 40.79, 35.55, 30.79, 38.5, 38.09, 27.53, 35.65, 24.85, 33.35, 16.69, 26.26, 56.48, 30.33, 24.23, 30.9, 30.57, 16.68, 40.07, 34.33, 33.94, 26.67, 37.72, 31.79, 30.89, 29.35, 12.57, 10.28, 28.07, 18.1, 28.74, 33.66, 26.19, 17.53, 32.52, 24.66, 37.17, 20.97, 21.51, 20.02, 54.05, 37.53, 28.72, 13.39, 27.73, 33.26, 31.63, 25.55, 27.24, 25.45, 25.47, 22.48, 12.64, 30.94, 28.56, 12.76, 28.63, 27.71, 44.35, 27.27, 13.3, 36.85, 24.68, 10.4, 35.27, 14.98, 12.98, 16.18, 27.41, 26.17, 29.51, 24.76, 25.03, 10.53, 44.92, 41.75, 41.1, 24.18, 47.49, 20.39, 27.26, 32.87, 28.46, 32.73, 16.41, 30.96, 15.67, 26.73, 17.65, 38.3, 40.74, 32.99, 34.56, 34.8, 36.65, 31.96, 11.05, 35.66, 41.74, 44.62, 32.34, 37.39, 34.54, 11.1, 34.83, 12.74, 37.96, 42.08, 30.01, 34.9, 30.1, 22.74, 17.52, 40.13, 35.91, 31.58, 39.67, 12.09, 30.21, 21.03, 27.83, 24.36, 38.03, 15.26, 28.6, 36.42, 36.39, 27.54, 38.71, 33.65, 35.12, 34.02, 31.61, 31.71, 10.16, 32.92, 10.92, 29.94, 28.64, 19.54, 33.72, 32.91, 39.39, 33.44, 28.54, 31.11, 27.81, 34.58, 19.57, 33.18, 20.15, 28.05, 29.27, 32.14, 32.31, 36.91, 32.63, 41.31, 28.33, 13.46, 35.48, 33.31, 34.42, 36.01, 16.74, 42.22, 39.89, 18.82, 36.03, 33.13, 34.74, 25.91, 33.96, 40.14, 31.37, 28.96, 33.06, 30.26, 41.5, 33.3, 22.25, 31.35, 11.09, 28.34, 12.51, 24.21, 26.32, 38.56, 38.11, 33.16, 29.42, 62.6, 18.54, 27.77, 29.38, 25.97, 36.29, 35.52, 48.22, 37.83, 41.14, 37.31, 38.69, 42.29, 31.84, 31.55, 27.7, 29.79, 34.07, 34.79, 39.42, 35.25, 46.24, 34.71, 26.94, 32.96, 30.52, 37.54, 56.71, 24.8, 41.49, 58.01, 19.66, 37.21, 35.2, 42.06, 27.87, 29.29, 28.91, 32.82, 39.73, 58.57, 26.37, 29.88, 24.78, 23.8, 29.14, 48.93, 40.17, 42.94, 11.42, 11.16, 43.03, 33.95, 10.9, 29.49, 42.98, 13.97, 18.32, 46.76, 45.58, 34.91, 36.64, 46.25, 48.2, 37.03, 31.51, 34.37, 38.76, 28.49, 13.43, 40.84, 36.73, 10.26, 30.18, 27.66, 29.81, 32.33, 11.11, 22.59, 14.85, 34.4, 24.9, 37.34, 38.95, 21.16, 40.24, 11.24, 20.81, 32.11, 33.41, 12.08, 37.48, 45.37, 36.72, 41.12, 31.81, 45.77, 48.62, 45.05, 20.61, 35.64, 16.05, 33.61, 43.14, 27.79, 28.3, 47.62, 47.37, 35.88, 59.79, 49.88, 45.31, 52.28, 28.22, 46.01, 45.87, 29.89, 38.8, 48.42, 47.1, 32.94, 40.66, 25.12, 24.25, 60.29, 24.94, 19.52, 45.22, 56.85, 28.67, 38.61, 43.82, 44.08, 39.81, 29.0, 45.75, 46.89, 39.11, 38.62, 51.31, 39.79, 39.01, 47.33, 49.65, 47.63, 36.11, 31.59, 44.53, 35.13, 32.19, 27.51, 13.9, 36.63, 34.88, 38.53, 34.01, 38.35, 24.91, 25.02, 10.02, 39.33, 30.23, 29.03, 30.54, 43.86, 29.18, 39.71, 27.84, 33.1, 32.28, 34.31, 30.78, 26.51, 37.57, 38.94, 30.75, 32.23, 10.71, 41.62, 32.85, 46.14, 36.81, 32.54, 35.68, 31.21, 25.34, 40.02, 32.37, 36.59, 26.78, 30.8, 38.13, 28.28, 23.42, 47.55, 31.82, 40.82, 54.46, 38.4, 27.45, 27.52, 35.72, 29.05, 39.37, 49.85, 43.13, 48.59, 48.74, 42.74, 19.02, 33.32, 37.0, 46.79, 48.4, 37.69, 46.73, 42.42, 39.6, 49.35, 36.61, 24.32, 43.22, 43.57, 39.97, 50.2, 43.47, 48.48, 47.7, 48.17, 49.51, 43.45, 46.37, 44.73, 37.78, 43.12, 40.8, 37.93, 46.57, 49.76, 40.38, 40.43, 45.6, 40.46, 42.27, 43.9, 43.49, 44.55, 26.46, 45.86, 42.89, 37.87, 37.6, 49.12, 30.98, 41.21, 38.7, 52.58, 37.98, 41.67, 37.41, 33.98, 10.84, 28.65, 49.66, 48.13, 65.8, 34.97, 36.48, 31.05, 47.96, 45.5, 11.44, 66.81, 43.18, 38.85, 35.32, 39.49, 26.57, 10.14, 53.76, 36.9, 44.64, 37.71, 31.38, 46.49, 42.99, 63.29, 36.21, 35.98, 36.74, 46.07, 44.05, 40.35, 40.92, 22.96, 35.06, 46.05, 40.05, 41.65, 34.03, 39.28, 48.06, 11.2, 23.71, 35.19, 10.76, 26.96, 42.0, 31.7, 33.51, 31.25, 40.34, 39.26, 51.98, 33.2, 32.27, 37.14, 39.58, 49.47, 44.15, 32.15, 40.72, 35.38, 31.95, 32.45, 33.25, 26.2, 36.69, 65.3, 38.93, 36.37, 40.1, 28.99, 44.11, 41.43, 41.13, 39.05, 13.51, 33.63, 24.61, 20.69, 32.49, 39.34, 20.57, 16.84, 20.12, 28.62, 11.22, 44.57, 34.87, 32.36, 20.49, 33.55, 14.36, 23.36, 38.6, 11.75, 26.36, 35.31, 34.59, 35.74, 40.48, 36.31, 39.38, 13.06, 40.26, 51.08, 21.56, 26.44, 28.52, 39.02, 28.98, 34.39, 25.71, 12.15, 33.19, 32.17, 41.71, 30.41, 35.87, 29.43, 21.12, 27.82, 44.66, 42.01, 40.94, 32.41, 41.23, 37.73, 33.77, 27.74, 20.33, 25.72, 19.59, 34.65, 24.08, 41.02, 32.64, 39.48, 38.9, 28.97, 39.61, 10.31, 35.63, 39.55, 42.7, 36.17, 49.14, 38.24, 31.08, 77.97, 37.13, 48.65, 32.86, 45.21, 47.42, 47.23, 30.11, 42.54, 45.92, 36.5, 34.05, 43.87, 43.67, 30.07, 38.72, 42.4, 10.82, 43.68, 38.66, 51.0, 42.31, 49.83, 69.9, 38.88, 33.68, 34.23, 37.51, 43.19, 59.24, 27.67, 40.71, 32.06, 60.82, 35.6, 34.69, 26.98, 40.28, 37.23, 27.15, 37.01, 39.0, 27.01, 34.85, 38.21, 48.11, 28.57, 31.83, 32.32, 25.51, 37.8, 38.25, 31.9, 33.09, 34.49, 39.59, 34.21, 35.16, 49.61, 32.56, 33.71, 23.09, 27.22, 27.76, 46.91, 43.31, 39.63, 34.82, 43.61, 38.68, 42.32, 32.75, 69.97, 37.28, 38.51, 31.93, 56.32, 60.3, 39.22, 30.04, 41.46, 28.13, 34.89, 32.59, 37.47, 43.35, 38.29, 29.78, 37.61, 38.79, 48.6, 40.93, 33.67, 35.93, 39.83, 38.98, 40.62, 46.59, 39.7, 39.96, 15.33, 73.01, 45.14, 29.36, 32.13, 55.65, 51.72, 43.54, 26.47, 32.7, 35.73, 39.69, 35.24, 38.81, 40.96, 30.13, 32.6, 34.29, 36.24, 43.3, 39.3, 41.4, 35.21, 47.94, 38.18, 35.61, 54.35, 34.66, 39.84, 44.32, 33.0, 26.05, 52.12, 40.27, 40.97, 37.15, 35.02, 38.05, 26.21, 46.33, 17.47, 47.43, 39.68, 40.49, 31.78, 42.87, 12.23, 43.01, 42.43, 37.22, 41.34, 38.75, 21.3, 27.25, 41.98, 28.92, 37.99, 31.32, 50.76, 36.36, 30.88, 44.77, 29.95, 47.47, 42.05, 35.07, 35.1, 29.67, 38.2, 43.89, 41.93, 41.2, 34.98, 41.17, 29.77, 36.38, 41.18, 39.31, 38.27, 33.73, 38.64, 40.32, 37.56, 34.53, 26.38, 39.98, 36.1, 37.3, 31.56, 31.77, 37.11, 40.63, 42.51, 22.47, 43.95, 39.44, 19.98, 30.7, 26.3, 42.16, 32.26, 44.27, 31.8, 38.01, 38.47, 37.68, 37.43, 36.79, 24.98, 47.34, 40.09, 40.47, 46.32, 44.21, 50.77, 48.52, 34.73, 42.65, 42.66, 47.44, 48.39, 38.43, 45.65, 45.34, 44.02, 48.3, 36.05, 39.09, 50.06, 47.08, 46.67, 45.43, 44.6, 45.53, 41.03, 36.71, 39.46, 45.63, 30.95, 26.59, 43.43, 40.37, 44.69, 40.88, 43.26, 51.44, 37.67, 51.32, 40.77, 40.0, 49.04, 49.63, 35.9, 56.66, 49.99, 37.9, 47.02, 42.67, 44.76, 49.57, 47.48, 47.9, 44.83, 38.74, 49.36, 37.49, 42.03, 47.17, 49.74, 34.09, 37.82, 41.82, 36.52, 49.3, 50.07, 48.15, 36.13, 39.57, 50.88, 49.26, 45.29, 42.76, 37.97, 38.32, 39.1, 27.97, 30.56, 33.79, 40.95, 34.94, 46.5, 36.23, 38.82, 31.72, 48.68, 25.37, 29.37, 39.76, 34.96, 35.03, 39.47, 42.09, 52.29, 46.6, 45.41, 38.83, 50.3, 40.59, 44.78\n",
            "========================================\n",
            "\n",
            "Column: Origin Lat\n",
            "Unique values:\n",
            "35.625, 36.0, 35.68, 35.745, 35.705, 35.815, 35.75, 35.65, 35.675, 35.69, 35.785, 35.995, 35.875, 35.5, 35.805, 35.95, 35.575, 35.505, 35.56, 35.51, 35.565, 35.54, 35.52, 35.91, 35.735, 35.76, 35.55, 35.82, 35.765, 35.945, 35.7, 35.97, 35.865, 35.74, 35.955, 35.725, 35.8, 35.525, 35.98, 35.62, 35.81, 35.635, 35.975, 35.89, 35.615, 35.59, 35.535, 35.77, 35.555, 35.84, 35.845, 35.64, 35.595, 35.99, 35.775, 35.53, 35.855, 35.71, 35.545, 35.9, 35.93, 35.905, 35.825, 35.83\n",
            "========================================\n",
            "\n",
            "Column: Origin Long\n",
            "Unique values:\n",
            "51.375, 51.085, 51.445, 51.465, 51.295, 51.32, 51.385, 51.31, 51.37, 51.24, 51.0, 51.045, 51.275, 51.315, 51.5, 51.345, 51.185, 51.42, 51.18, 51.415, 51.155, 51.06, 51.285, 51.19, 51.4, 51.225, 51.075, 51.17, 51.115, 51.25, 51.135, 51.215, 51.025, 51.26, 51.2, 51.195, 51.12, 51.245, 51.15, 51.3, 51.1, 51.05, 51.47, 51.435, 51.46, 51.125, 51.21, 51.175, 51.305, 51.28, 51.13, 51.165, 51.235, 51.27, 51.475, 51.39, 51.485, 51.09, 51.29, 51.145, 51.095, 51.495, 51.11, 51.035, 51.35\n",
            "========================================\n",
            "\n",
            "Column: Dest Lat\n",
            "Unique values:\n",
            "36.0, 35.625, 35.745, 35.68, 35.75, 35.65, 35.675, 35.69, 35.785, 35.875, 35.5, 35.805, 35.815, 35.95, 35.52, 35.505, 35.56, 35.51, 35.565, 35.54, 35.91, 35.995, 35.55, 35.735, 35.705, 35.82, 35.76, 35.765, 35.945, 35.575, 35.7, 35.59, 35.97, 35.865, 35.74, 35.955, 35.725, 35.8, 35.525, 35.98, 35.62, 35.81, 35.975, 35.635, 35.89, 35.615, 35.535, 35.77, 35.555, 35.84, 35.845, 35.64, 35.595, 35.99, 35.775, 35.53, 35.855, 35.71, 35.545, 35.9, 35.93, 35.905, 35.825, 35.83\n",
            "========================================\n",
            "\n",
            "Column: Dest Long\n",
            "Unique values:\n",
            "51.085, 51.375, 51.465, 51.445, 51.385, 51.31, 51.37, 51.295, 51.24, 51.045, 51.275, 51.5, 51.345, 51.315, 51.185, 51.285, 51.32, 51.18, 51.415, 51.155, 51.06, 51.19, 51.0, 51.225, 51.4, 51.075, 51.17, 51.42, 51.25, 51.115, 51.135, 51.47, 51.215, 51.025, 51.26, 51.2, 51.195, 51.12, 51.245, 51.3, 51.1, 51.05, 51.15, 51.435, 51.46, 51.125, 51.21, 51.175, 51.305, 51.28, 51.13, 51.165, 51.235, 51.27, 51.475, 51.39, 51.485, 51.09, 51.29, 51.145, 51.095, 51.495, 51.11, 51.035, 51.35\n",
            "========================================\n",
            "\n",
            "Column: start_hour\n",
            "Unique values:\n",
            "13, 15, 20, 21, 23, 7, 14, 22, 12, 17, 16, 8, 11, 9, 10, 18, 19, 6\n",
            "========================================\n",
            "\n",
            "Column: duration\n",
            "Unique values:\n",
            "96.0, 13.0, 20.0, 30.0, 14.0, 38.0, 25.0, 22.0, 3.0, 6.0, 18.0, 63.0, 19.0, 32.0, 45.0, 40.0, 33.0, 108.0, 71.0, 83.0, 35.0, 55.0, 56.0, 84.0, 79.0, 42.0, 37.0, 36.0, 8.0, 29.0, 41.0, 54.0, 26.0, 24.0, 17.0, 15.0, 16.0, 34.0, 39.0, 60.0, 61.0, 27.0, 76.0, 73.0, 49.0, 72.0, 70.0, 7.0, 31.0, 21.0, 50.0, 80.0, 9.0, 5.0, 11.0, 12.0, 68.0, 23.0, 47.0, 65.0, 43.0, 66.0, 100.0, 107.0, 28.0, 51.0, 58.0, 48.0, 74.0, 62.0, 57.0, 77.0, 85.0, 52.0, 53.0, 10.0, 89.0, 59.0, 44.0, 64.0, 4.0, 92.0, 67.0, 69.0, 46.0, 86.0, 2.0, 82.0, 81.0, 87.0, 88.0, 75.0, 78.0, 90.0, 1.0, 93.0, 98.0, 103.0, 95.0, 114.0, 104.0, 118.0, 123.0, 120.0, 122.0, 116.0, 119.0, 112.0, 115.0, 110.0, 101.0, 97.0, 91.0, 106.0, 102.0, 109.0, 105.0, 99.0, 94.0, 121.0, 126.0, 127.0, 132.0, 135.0, 111.0, 134.0, 129.0, 117.0, 113.0, 128.0\n",
            "========================================\n",
            "\n"
          ]
        }
      ],
      "source": [
        "# print out the unique values for each column\n",
        "# TODO\n",
        "for column in datatrain.columns:\n",
        "    unique_values = datatrain[column].unique()\n",
        "    print(f\"Column: {column}\\nUnique values:\\n{', '.join(map(str,unique_values))}\")\n",
        "    print(\"========================================\\n\")"
      ]
    },
    {
      "cell_type": "code",
      "execution_count": null,
      "metadata": {
        "id": "NchX559yMZ4V",
        "outputId": "cd7e8b49-fbcf-4959-8f2c-e95dfdc37973",
        "colab": {
          "base_uri": "https://localhost:8080/"
        }
      },
      "outputs": [
        {
          "output_type": "stream",
          "name": "stdout",
          "text": [
            "DataFrame Column Head and Data Type:\n",
            "========================================\n",
            "Column: user_id\n",
            "Data Type: int64\n",
            "----------------------------------------\n",
            "Column: Day\n",
            "Data Type: int64\n",
            "----------------------------------------\n",
            "Column: origin\n",
            "Data Type: object\n",
            "----------------------------------------\n",
            "Column: destination\n",
            "Data Type: object\n",
            "----------------------------------------\n",
            "Column: start_time\n",
            "Data Type: datetime64[ns]\n",
            "----------------------------------------\n",
            "Column: end_time\n",
            "Data Type: datetime64[ns]\n",
            "----------------------------------------\n",
            "Column: price\n",
            "Data Type: float64\n",
            "----------------------------------------\n",
            "Column: Origin Lat\n",
            "Data Type: float64\n",
            "----------------------------------------\n",
            "Column: Origin Long\n",
            "Data Type: float64\n",
            "----------------------------------------\n",
            "Column: Dest Lat\n",
            "Data Type: float64\n",
            "----------------------------------------\n",
            "Column: Dest Long\n",
            "Data Type: float64\n",
            "----------------------------------------\n",
            "Column: start_hour\n",
            "Data Type: int64\n",
            "----------------------------------------\n",
            "Column: duration\n",
            "Data Type: float64\n",
            "----------------------------------------\n"
          ]
        }
      ],
      "source": [
        "import pandas as pd\n",
        "\n",
        "# print out the data type of each column\n",
        "# TODO\n",
        "print(\"DataFrame Column Head and Data Type:\\n========================================\")\n",
        "for column in datatrain.columns:\n",
        "    data_type = datatrain[column].dtype\n",
        "    print(f\"Column: {column}\\nData Type: {data_type}\")\n",
        "    print(\"----------------------------------------\")"
      ]
    },
    {
      "cell_type": "markdown",
      "metadata": {
        "id": "lRPzWTTEMZ4V"
      },
      "source": [
        "Based on your features and how you extracted them, you may need to use some encodings for your data. For example, if you have different classes as names (`str` data type. E.g. \"gym\") you need to make it a numeric value in order to feed it into your neural network. You can use `sklearn`'s functions (such as `LabelEncoder`, `OneHotEncoder`, `StandardScaler`, etc.) to do these kind of stuff!"
      ]
    },
    {
      "cell_type": "code",
      "execution_count": null,
      "metadata": {
        "id": "SuAZ9GNaMZ4V"
      },
      "outputs": [],
      "source": [
        "import pandas as pd\n",
        "from sklearn.model_selection import train_test_split\n",
        "from sklearn.preprocessing import StandardScaler, LabelEncoder\n",
        "\n",
        "label_encoder_train = LabelEncoder()\n",
        "label_encoder_test = LabelEncoder()\n",
        "categorical_columns = ['origin', 'destination']\n",
        "label_encoder_train.fit(pd.concat([datatrain['origin'], datatrain['destination']]))\n",
        "label_encoder_test.fit(pd.concat([datatest['origin'], datatest['destination']]))\n",
        "for column in categorical_columns:\n",
        "    datatrain[column] = label_encoder_train.transform(datatrain[column])\n",
        "    datatest[column] = label_encoder_test.transform(datatest[column])\n",
        "scaler = StandardScaler()\n",
        "numerical_columns = ['price', 'Origin Lat', 'Origin Long', 'Dest Lat', 'Dest Long', 'start_hour', 'duration']\n",
        "datatrain[numerical_columns] = scaler.fit_transform(datatrain[numerical_columns])\n",
        "datatest[numerical_columns] = scaler.fit_transform(datatest[numerical_columns])\n",
        "########################################################################################\n",
        "# Finalize the data (do all preprocessing needed)\n",
        "X_train = datatrain[['user_id', 'Day', 'origin', 'Origin Lat', 'Origin Long', 'start_hour', 'duration']]\n",
        "Y_train = datatrain[['destination']]\n",
        "X_test = datatest[['user_id', 'Day', 'origin',  'Origin Lat', 'Origin Long', 'start_hour', 'duration']]\n",
        "Y_test = datatest[['destination']]"
      ]
    },
    {
      "cell_type": "markdown",
      "metadata": {
        "id": "ogyxLRyXMZ4V"
      },
      "source": [
        "Create `train_dataset` and its loader, also create `test_dataset` and its loader. You should also create `val_dataset` and its loader if you want to use validation set. You may need to implement a custom `torch.Dataset` class for your ease. Your loaders should be able to load data in batches."
      ]
    },
    {
      "cell_type": "code",
      "source": [
        "import pandas as pd\n",
        "from sklearn.model_selection import train_test_split\n",
        "import torch\n",
        "from torch.utils.data import Dataset, DataLoader\n",
        "import torch.nn as nn\n",
        "import torch.nn.functional as F\n",
        "import torch.optim as optim\n",
        "import matplotlib.pyplot as plt\n",
        "\n",
        "\n",
        "X_tr, X_val, y_tr, y_val = train_test_split(X_train, Y_train, test_size=0.2)"
      ],
      "metadata": {
        "id": "-9DMlf00p-ak"
      },
      "execution_count": null,
      "outputs": []
    },
    {
      "cell_type": "code",
      "execution_count": null,
      "metadata": {
        "id": "TU5LXxzlMZ4W"
      },
      "outputs": [],
      "source": [
        "import pandas as pd\n",
        "from sklearn.model_selection import train_test_split\n",
        "import torch\n",
        "from torch.utils.data import Dataset, DataLoader\n",
        "import torch.nn as nn\n",
        "import torch.nn.functional as F\n",
        "import torch.optim as optim\n",
        "import matplotlib.pyplot as plt\n",
        "\n",
        "\n",
        "# TODO\n",
        "class CustomDataset(Dataset):\n",
        "  def __init__(self, features, labels):\n",
        "    self.features = features\n",
        "    self.labels = labels\n",
        "  def __len__(self):\n",
        "    return len(self.features)\n",
        "  def __getitem__(self, idx):\n",
        "    return torch.FloatTensor(self.features.iloc[idx].values), torch.LongTensor([self.labels.iloc[idx]])\n",
        "\n",
        "train_dataset = CustomDataset(X_tr, y_tr)\n",
        "val_dataset = CustomDataset(X_val, y_val)\n",
        "test_dataset = CustomDataset(X_test, Y_test)\n",
        "\n",
        "# Batch size\n",
        "batch_size = 32\n",
        "\n",
        "# DataLoader\n",
        "train_loader = DataLoader(train_dataset, batch_size=batch_size, shuffle=True)\n",
        "val_loader = DataLoader(val_dataset, batch_size=batch_size, shuffle=False)\n",
        "test_loader = DataLoader(test_dataset, batch_size=batch_size, shuffle=False)"
      ]
    },
    {
      "cell_type": "markdown",
      "metadata": {
        "id": "dd6FAJlxMZ4W"
      },
      "source": [
        "## Neural Network Model"
      ]
    },
    {
      "cell_type": "markdown",
      "metadata": {
        "id": "fbpIPekAMZ4W"
      },
      "source": [
        "Here, you should implement your neural network model. You should use `pytorch`. **Note** that you should plot the loss function of your model during the training phase. (on both training and validation sets)"
      ]
    },
    {
      "cell_type": "code",
      "execution_count": null,
      "metadata": {
        "id": "6aPWKz3qMZ4W"
      },
      "outputs": [],
      "source": [
        "# Implement the train_model function\n",
        "def train_model(model, train_loader, val_loader, criterion, optimizer, epochs):\n",
        "    # TODO\n",
        "    # training loop\n",
        "    train_losses = []\n",
        "    val_losses = []\n",
        "    for epoch in range(epochs):\n",
        "      model.train()\n",
        "      running_loss = 0.0\n",
        "      for inputs, labels in train_loader:\n",
        "        optimizer.zero_grad()\n",
        "        outputs = model(inputs)\n",
        "        loss = criterion(outputs, labels.squeeze())\n",
        "        loss.backward()\n",
        "        optimizer.step()\n",
        "        running_loss += loss.item()\n",
        "      avg_train_loss = running_loss / len(train_loader)\n",
        "      train_losses.append(avg_train_loss)\n",
        "\n",
        "      ####      validation  loop ##########\n",
        "      model.eval()\n",
        "      val_loss = 0.0\n",
        "      with torch.no_grad():\n",
        "        for inputs, labels in val_loader:\n",
        "          outputs = model(inputs)\n",
        "          loss = criterion(outputs, labels.squeeze())\n",
        "          val_loss += loss.item()\n",
        "      avg_val_loss = val_loss / len(val_loader)\n",
        "      val_losses.append(avg_val_loss)\n",
        "\n",
        "      print(f'Epoch {epoch + 1}/{epochs}, Train Loss: {avg_train_loss}, Validation Loss: {avg_val_loss}')\n",
        "    # TODO\n",
        "    # Plot training and validation losses\n",
        "    plt.plot(train_losses, label='Training Loss')\n",
        "    plt.plot(val_losses, label='Validation Loss')\n",
        "    plt.xlabel('Epoch')\n",
        "    plt.ylabel('Loss')\n",
        "    plt.legend()\n",
        "    plt.show()\n",
        "\n",
        "# Implement the MLP class with your choice of architecture\n",
        "# TODO: You can change the signature of functions and also add any function you need\n",
        "number_of_unique_destinations = len(datatrain['destination'].unique())\n",
        "\n",
        "class MLP(nn.Module):\n",
        "    def __init__(self, input_dim=7, output_dim=number_of_unique_destinations):\n",
        "        super(MLP, self).__init__()\n",
        "        self.fc1 = nn.Linear(input_dim, 64)\n",
        "        self.fc2 = nn.Linear(64, 32)\n",
        "        self.fc3 = nn.Linear(32, output_dim)\n",
        "        pass\n",
        "\n",
        "    def forward(self, x):\n",
        "        x = F.relu(self.fc1(x))\n",
        "        x = F.relu(self.fc2(x))\n",
        "        x = self.fc3(x)\n",
        "        return x\n",
        "        pass\n",
        "\n",
        "\n",
        "# TODO\n",
        "# Define Model, Loss, Optimizer\n",
        "model = MLP()\n",
        "criterion = nn.CrossEntropyLoss()\n",
        "optimizer = optim.Adam(model.parameters(), lr=0.001)\n"
      ]
    },
    {
      "cell_type": "code",
      "execution_count": null,
      "metadata": {
        "id": "-q2AaVS8MZ4W",
        "outputId": "f737eca6-541b-42b8-bb5b-9649f5227f78",
        "colab": {
          "base_uri": "https://localhost:8080/",
          "height": 1000
        }
      },
      "outputs": [
        {
          "output_type": "stream",
          "name": "stdout",
          "text": [
            "Epoch 1/100, Train Loss: 1.294171898232566, Validation Loss: 1.089358778126472\n",
            "Epoch 2/100, Train Loss: 0.9563422544134987, Validation Loss: 0.8835264162152214\n",
            "Epoch 3/100, Train Loss: 0.8221458580096562, Validation Loss: 0.8651536273217835\n",
            "Epoch 4/100, Train Loss: 0.759780687822236, Validation Loss: 0.7387505872587187\n",
            "Epoch 5/100, Train Loss: 0.7079395345184538, Validation Loss: 0.6940357231460841\n",
            "Epoch 6/100, Train Loss: 0.6585070447789299, Validation Loss: 0.6519033832360158\n",
            "Epoch 7/100, Train Loss: 0.6200089796053039, Validation Loss: 0.6136671019866403\n",
            "Epoch 8/100, Train Loss: 0.5834322556522158, Validation Loss: 0.6067429337881308\n",
            "Epoch 9/100, Train Loss: 0.5490737995505333, Validation Loss: 0.5427093103659891\n",
            "Epoch 10/100, Train Loss: 0.5230158220397102, Validation Loss: 0.5117716575618338\n",
            "Epoch 11/100, Train Loss: 0.49650325692362257, Validation Loss: 0.49275252196641095\n",
            "Epoch 12/100, Train Loss: 0.47405621465709474, Validation Loss: 0.5010417612780512\n",
            "Epoch 13/100, Train Loss: 0.45183390494849945, Validation Loss: 0.4465237186018345\n",
            "Epoch 14/100, Train Loss: 0.4324315903584162, Validation Loss: 0.4379749164908333\n",
            "Epoch 15/100, Train Loss: 0.410911682413684, Validation Loss: 0.43490422431346587\n",
            "Epoch 16/100, Train Loss: 0.3949750972787539, Validation Loss: 0.40518642553185996\n",
            "Epoch 17/100, Train Loss: 0.37640282404091624, Validation Loss: 0.40063748159239776\n",
            "Epoch 18/100, Train Loss: 0.36483920864760877, Validation Loss: 0.38600218823525756\n",
            "Epoch 19/100, Train Loss: 0.3531685323516528, Validation Loss: 0.3826640841707719\n",
            "Epoch 20/100, Train Loss: 0.33951743948790764, Validation Loss: 0.3544673078355536\n",
            "Epoch 21/100, Train Loss: 0.335404161694977, Validation Loss: 0.33921708628139663\n",
            "Epoch 22/100, Train Loss: 0.32574856095843846, Validation Loss: 0.3287911420374845\n",
            "Epoch 23/100, Train Loss: 0.316179810480939, Validation Loss: 0.3565056599610675\n",
            "Epoch 24/100, Train Loss: 0.31094296540651056, Validation Loss: 0.3195216344521109\n",
            "Epoch 25/100, Train Loss: 0.30381295178499484, Validation Loss: 0.31399436782946627\n",
            "Epoch 26/100, Train Loss: 0.2966573229763243, Validation Loss: 0.305238434039386\n",
            "Epoch 27/100, Train Loss: 0.2910961286723614, Validation Loss: 0.30302018124972824\n",
            "Epoch 28/100, Train Loss: 0.288884257160955, Validation Loss: 0.3036329166683476\n",
            "Epoch 29/100, Train Loss: 0.2841971148384942, Validation Loss: 0.2993731532344776\n",
            "Epoch 30/100, Train Loss: 0.28105035124553573, Validation Loss: 0.2896733676965258\n",
            "Epoch 31/100, Train Loss: 0.27467173202170264, Validation Loss: 0.30534152693189354\n",
            "Epoch 32/100, Train Loss: 0.2720988380577829, Validation Loss: 0.30618271614070486\n",
            "Epoch 33/100, Train Loss: 0.27145921611951457, Validation Loss: 0.28178016663388866\n",
            "Epoch 34/100, Train Loss: 0.2687210066450967, Validation Loss: 0.28419362529452924\n",
            "Epoch 35/100, Train Loss: 0.26412335789038077, Validation Loss: 0.29314408774397016\n",
            "Epoch 36/100, Train Loss: 0.2632024196866486, Validation Loss: 0.27447465292911616\n",
            "Epoch 37/100, Train Loss: 0.2638069948057334, Validation Loss: 0.3066540460670944\n",
            "Epoch 38/100, Train Loss: 0.2583433865259091, Validation Loss: 0.2784716874624776\n",
            "Epoch 39/100, Train Loss: 0.25122568744752144, Validation Loss: 0.2647512797101409\n",
            "Epoch 40/100, Train Loss: 0.25484542150464323, Validation Loss: 0.27037006339668174\n",
            "Epoch 41/100, Train Loss: 0.25034340844386155, Validation Loss: 0.266418927077171\n",
            "Epoch 42/100, Train Loss: 0.24621701824582284, Validation Loss: 0.2781035495938453\n",
            "Epoch 43/100, Train Loss: 0.2455716306509243, Validation Loss: 0.26889730765756253\n",
            "Epoch 44/100, Train Loss: 0.24619597917629613, Validation Loss: 0.2804843382497804\n",
            "Epoch 45/100, Train Loss: 0.2447334799170494, Validation Loss: 0.2714550927676986\n",
            "Epoch 46/100, Train Loss: 0.23948172278288338, Validation Loss: 0.2616317156141838\n",
            "Epoch 47/100, Train Loss: 0.24167737885481783, Validation Loss: 0.2720674205802183\n",
            "Epoch 48/100, Train Loss: 0.2390011430862877, Validation Loss: 0.26211295929630246\n",
            "Epoch 49/100, Train Loss: 0.2352798962344726, Validation Loss: 0.26066397733788577\n",
            "Epoch 50/100, Train Loss: 0.23395135200685924, Validation Loss: 0.26802015782589406\n",
            "Epoch 51/100, Train Loss: 0.23240389519267612, Validation Loss: 0.25909079518993344\n",
            "Epoch 52/100, Train Loss: 0.22984903027200038, Validation Loss: 0.2892586294462723\n",
            "Epoch 53/100, Train Loss: 0.23030807053049404, Validation Loss: 0.2533117656686665\n",
            "Epoch 54/100, Train Loss: 0.23050555596748987, Validation Loss: 0.2587797801315257\n",
            "Epoch 55/100, Train Loss: 0.22682742888728777, Validation Loss: 0.2455400556853387\n",
            "Epoch 56/100, Train Loss: 0.22482949746151765, Validation Loss: 0.2577024224848874\n",
            "Epoch 57/100, Train Loss: 0.224653482577867, Validation Loss: 0.2519610290769982\n",
            "Epoch 58/100, Train Loss: 0.22108209513955646, Validation Loss: 0.25565537118015036\n",
            "Epoch 59/100, Train Loss: 0.2233500596197943, Validation Loss: 0.25459361771962286\n",
            "Epoch 60/100, Train Loss: 0.2204010549477405, Validation Loss: 0.24461002469854018\n",
            "Epoch 61/100, Train Loss: 0.2191289484500885, Validation Loss: 0.2429167271913153\n",
            "Epoch 62/100, Train Loss: 0.22409575428399775, Validation Loss: 0.26246666357712406\n",
            "Epoch 63/100, Train Loss: 0.2150117534605993, Validation Loss: 0.2654089437781182\n",
            "Epoch 64/100, Train Loss: 0.2174148091632459, Validation Loss: 0.24544234181531763\n",
            "Epoch 65/100, Train Loss: 0.21746601786878375, Validation Loss: 0.23090096012549063\n",
            "Epoch 66/100, Train Loss: 0.21117220008538828, Validation Loss: 0.25312940027993336\n",
            "Epoch 67/100, Train Loss: 0.209309135278066, Validation Loss: 0.24849631884588605\n",
            "Epoch 68/100, Train Loss: 0.21169033696254094, Validation Loss: 0.26861354814166516\n",
            "Epoch 69/100, Train Loss: 0.21348848000996642, Validation Loss: 0.24342587306699923\n",
            "Epoch 70/100, Train Loss: 0.20810167680184047, Validation Loss: 0.2553593121073415\n",
            "Epoch 71/100, Train Loss: 0.20764092209852403, Validation Loss: 0.23589358894170914\n",
            "Epoch 72/100, Train Loss: 0.20670004963460895, Validation Loss: 0.23716436278701356\n",
            "Epoch 73/100, Train Loss: 0.20996520007650057, Validation Loss: 0.25765590063106697\n",
            "Epoch 74/100, Train Loss: 0.2066459934413433, Validation Loss: 0.22735217952095302\n",
            "Epoch 75/100, Train Loss: 0.20302582706428238, Validation Loss: 0.2400919983608533\n",
            "Epoch 76/100, Train Loss: 0.2029039639648464, Validation Loss: 0.230359818654514\n",
            "Epoch 77/100, Train Loss: 0.20319324883735843, Validation Loss: 0.2395710837656418\n",
            "Epoch 78/100, Train Loss: 0.19830663921104538, Validation Loss: 0.24416975231956592\n",
            "Epoch 79/100, Train Loss: 0.20235423016465373, Validation Loss: 0.2554044879115788\n",
            "Epoch 80/100, Train Loss: 0.20107450983176628, Validation Loss: 0.2350005382688436\n",
            "Epoch 81/100, Train Loss: 0.19809041386263238, Validation Loss: 0.23210471753129916\n",
            "Epoch 82/100, Train Loss: 0.19894135852654776, Validation Loss: 0.22794137652798563\n",
            "Epoch 83/100, Train Loss: 0.19982372594790326, Validation Loss: 0.22579205708693614\n",
            "Epoch 84/100, Train Loss: 0.19985021896246408, Validation Loss: 0.22651577872776352\n",
            "Epoch 85/100, Train Loss: 0.19249701503664254, Validation Loss: 0.22414592442523062\n",
            "Epoch 86/100, Train Loss: 0.19630668396751086, Validation Loss: 0.24690113984773646\n",
            "Epoch 87/100, Train Loss: 0.19430691238492728, Validation Loss: 0.2282285128547027\n",
            "Epoch 88/100, Train Loss: 0.19298737084700002, Validation Loss: 0.2677792169285559\n",
            "Epoch 89/100, Train Loss: 0.19385836689422528, Validation Loss: 0.22706999698967006\n",
            "Epoch 90/100, Train Loss: 0.19243245366546843, Validation Loss: 0.24736932302470757\n",
            "Epoch 91/100, Train Loss: 0.1886284416500065, Validation Loss: 0.22401568267197736\n",
            "Epoch 92/100, Train Loss: 0.18973936016153958, Validation Loss: 0.22435013699320566\n",
            "Epoch 93/100, Train Loss: 0.1865902104228735, Validation Loss: 0.24161093019410573\n",
            "Epoch 94/100, Train Loss: 0.19097063955747418, Validation Loss: 0.22169026783543877\n",
            "Epoch 95/100, Train Loss: 0.18845180687391094, Validation Loss: 0.2338703342968911\n",
            "Epoch 96/100, Train Loss: 0.18920851662755012, Validation Loss: 0.22178626315981415\n",
            "Epoch 97/100, Train Loss: 0.18755043657703532, Validation Loss: 0.21577368436002098\n",
            "Epoch 98/100, Train Loss: 0.18718589985536205, Validation Loss: 0.21333519644639662\n",
            "Epoch 99/100, Train Loss: 0.18525454409420491, Validation Loss: 0.22450005803751735\n",
            "Epoch 100/100, Train Loss: 0.18527772981259558, Validation Loss: 0.22547410331270865\n"
          ]
        },
        {
          "output_type": "display_data",
          "data": {
            "text/plain": [
              "<Figure size 640x480 with 1 Axes>"
            ],
            "image/png": "[encoded data removed]"
          },
          "metadata": {}
        }
      ],
      "source": [
        "train_model(model, train_loader, val_loader, criterion, optimizer, epochs=100)"
      ]
    },
    {
      "cell_type": "markdown",
      "metadata": {
        "id": "TyBaxPH2MZ4W"
      },
      "source": [
        "## Evaluate Neural Network Model"
      ]
    },
    {
      "cell_type": "markdown",
      "metadata": {
        "id": "mkvwr4-YMZ4W"
      },
      "source": [
        "Report the model's accuracy on the test set."
      ]
    },
    {
      "cell_type": "code",
      "execution_count": null,
      "metadata": {
        "id": "2PTdKbypMZ4W",
        "outputId": "ea59fc34-489a-4804-8e46-41b13c0342bc",
        "colab": {
          "base_uri": "https://localhost:8080/"
        }
      },
      "outputs": [
        {
          "output_type": "stream",
          "name": "stdout",
          "text": [
            "Test Accuracy: 91.77595021115803%\n"
          ]
        }
      ],
      "source": [
        "# report model accuracy on test data\n",
        "correct = 0\n",
        "total = 0\n",
        "model.eval()\n",
        "with torch.no_grad():\n",
        "    for inputs, labels in test_loader:\n",
        "        outputs = model(inputs)\n",
        "        _, predicted = torch.max(outputs.data, 1)\n",
        "        total += labels.size(0)\n",
        "        correct += (predicted == labels.squeeze()).sum().item()\n",
        "\n",
        "accuracy = correct / total\n",
        "print(f'Test Accuracy: {accuracy * 100}%')\n",
        "\n",
        "# TODO"
      ]
    },
    {
      "cell_type": "markdown",
      "metadata": {
        "id": "P3T8XfqWMZ4X"
      },
      "source": [
        "Just for the sake of curiosity, let's take a random sample from the test set and see the model's prediction. So, randomly choose a sample from the test set and print it out (to see its features and also the correct output). Then, feed the features into your model and see what it predicts. Is it correct?"
      ]
    },
    {
      "cell_type": "code",
      "execution_count": null,
      "metadata": {
        "id": "B4dg6nDAMZ4X",
        "outputId": "03282dbe-366a-4537-84df-d2cbc434be1a",
        "colab": {
          "base_uri": "https://localhost:8080/"
        }
      },
      "outputs": [
        {
          "output_type": "execute_result",
          "data": {
            "text/plain": [
              "user_id        43.000000\n",
              "Day             4.000000\n",
              "origin          4.000000\n",
              "Origin Lat     -0.049586\n",
              "Origin Long     1.654400\n",
              "start_hour      0.194921\n",
              "duration        1.423144\n",
              "Name: 3850, dtype: float64"
            ]
          },
          "metadata": {},
          "execution_count": 49
        }
      ],
      "source": [
        "import random\n",
        "# print(len(X_test))\n",
        "random_index = random.randint(0, len(X_test) - 1)\n",
        "X_test.iloc[random_index]\n",
        "# TODO: choose a random sample from test data and print it out"
      ]
    },
    {
      "cell_type": "code",
      "execution_count": null,
      "metadata": {
        "id": "0V9tLH8sMZ4X",
        "outputId": "98d57476-2434-4411-9e22-1c1d0aa787de",
        "colab": {
          "base_uri": "https://localhost:8080/"
        }
      },
      "outputs": [
        {
          "output_type": "stream",
          "name": "stdout",
          "text": [
            "Predicted: 6\n"
          ]
        }
      ],
      "source": [
        "# TODO: predict the destination of the above sample\n",
        "# print out the prediction\n",
        "sample_features = X_test.iloc[random_index].values\n",
        "model.eval()\n",
        "predicted_class = None\n",
        "with torch.no_grad():\n",
        "    predicted_scores = model(torch.FloatTensor(sample_features))\n",
        "    _, predicted_class = torch.max(predicted_scores, 0)\n",
        "print(f\"Predicted: {predicted_class}\")"
      ]
    },
    {
      "cell_type": "code",
      "execution_count": null,
      "metadata": {
        "id": "hNOuI3cZMZ4X",
        "outputId": "5d5e1dbb-e13c-4a18-84ee-71d18402cf38",
        "colab": {
          "base_uri": "https://localhost:8080/"
        }
      },
      "outputs": [
        {
          "output_type": "stream",
          "name": "stdout",
          "text": [
            "Actual: 6\n"
          ]
        }
      ],
      "source": [
        "# TODO: print out the actual destination of the above sample\n",
        "print(f\"Actual: {Y_test.iloc[random_index]['destination']}\")"
      ]
    },
    {
      "cell_type": "markdown",
      "metadata": {
        "id": "PHPaVYQFMZ4X"
      },
      "source": [
        "Now, use the inverse transform of the encoding you used earlier to get the name of the destination from the predicted class. Print it out and see if it's correct."
      ]
    },
    {
      "cell_type": "code",
      "execution_count": null,
      "metadata": {
        "id": "ZshgmrIoMZ4X",
        "outputId": "a66f8376-15de-4c01-91a2-d28a3933fa90",
        "colab": {
          "base_uri": "https://localhost:8080/",
          "height": 36
        }
      },
      "outputs": [
        {
          "output_type": "execute_result",
          "data": {
            "text/plain": [
              "'work'"
            ],
            "application/vnd.google.colaboratory.intrinsic+json": {
              "type": "string"
            }
          },
          "metadata": {},
          "execution_count": 53
        }
      ],
      "source": [
        "# TODO: use inverse_transform to print out the actual name of destination of the above sample\n",
        "label_encoder_test.inverse_transform([Y_test.iloc[random_index]['destination']])[0]"
      ]
    },
    {
      "cell_type": "markdown",
      "metadata": {
        "id": "TkknrntaMZ4X"
      },
      "source": [
        "**QUESTION**: What do you think about this approach? Is it a good idea to use Neural Networks for this problem? Why (or why not)? If the patterns in our datatset (passengers' history) get more complicated, will our model be robust to it in comparison to other models?\n",
        "\n",
        "Your Answer: ...\n",
        "\n"
      ]
    },
    {
      "cell_type": "markdown",
      "source": [
        "Nerual Networks seem appropriate for this type of problem cause they can detect more complex and non-linear properties when comparing with the two past models because we can add to the number of layers and nodes (make a deep nn) and resolve more complex and predict less clear predictions which maybe KNN and XGBoost are not capable of doing. But with nerual network also we need more resources and sometimes tuning the parameters for the problem can be difficult, also for simpler types of this problem with less features, maybe Neural Networks is too much, but overall, It is robust especially if the model gets more copmlicated and complex its still robust and predicts the result with great accuracy."
      ],
      "metadata": {
        "id": "-63U562F-mBk"
      }
    },
    {
      "cell_type": "markdown",
      "metadata": {
        "id": "zAGK5WJVMZ4X"
      },
      "source": [
        "# How to Submit:\n",
        "\n",
        "Please upload your notebook (`.ipynb`) compressed (as a `.zip` file) or uncompressed on Quera. **Note** that for each part, the accuracy of your model on the given test dataset is important. So, your accuracy should be **at least** same as ours (or better). Also, we will check your code after the submission. So, please make sure that there are no **data snooping** or **data leakage** in your code. You **can not** use the test data in any stages for your model, except for the final evaluation part! So, please be ware of that, or you may lose points.\n",
        "\n",
        "Your project is graded via 2 main parts:\n",
        "1. Checking out your implementation (to check if there are no \"data snooping\" and \"data leakage\")\n",
        "   \n",
        "2. Checking accuracies of your models on the test set.\n",
        "\n",
        "3. Running again your code by you in the \"in-person\" session and hearing your explanations (on the parts that we asked questions about the models, overfitting and etc. with tag \"QUESTION\" in the notebook)."
      ]
    },
    {
      "cell_type": "markdown",
      "metadata": {
        "id": "x9i2PJknMZ4X"
      },
      "source": []
    }
  ],
  "metadata": {
    "kernelspec": {
      "display_name": "Python 3",
      "name": "python3"
    },
    "language_info": {
      "codemirror_mode": {
        "name": "ipython",
        "version": 3
      },
      "file_extension": ".py",
      "mimetype": "text/x-python",
      "name": "python",
      "nbconvert_exporter": "python",
      "pygments_lexer": "ipython3",
      "version": "3.10.8"
    },
    "colab": {
      "provenance": [],
      "gpuType": "T4"
    },
    "widgets": {
      "application/vnd.jupyter.widget-state+json": {
        "419839d3aec94944a267c5c4cbfd2622": {
          "model_module": "keplergl-jupyter",
          "model_name": "KeplerGlModal",
          "model_module_version": "^0.3.2",
          "state": {
            "_dom_classes": [],
            "_model_module": "keplergl-jupyter",
            "_model_module_version": "^0.3.2",
            "_model_name": "KeplerGlModal",
            "_view_count": null,
            "_view_module": "keplergl-jupyter",
            "_view_module_version": "^0.3.2",
            "_view_name": "KeplerGlView",
            "config": {
              "version": "v1",
              "config": {
                "visState": {
                  "filters": [],
                  "layers": [
                    {
                      "id": "r6e5woi",
                      "type": "point",
                      "config": {
                        "dataId": "user_id",
                        "label": "dest",
                        "color": [
                          18,
                          147,
                          154
                        ],
                        "highlightColor": [
                          252,
                          242,
                          26,
                          255
                        ],
                        "columns": {
                          "lat": "dest lat",
                          "lng": "dest lon",
                          "altitude": null
                        },
                        "isVisible": true,
                        "visConfig": {
                          "radius": 10,
                          "fixedRadius": false,
                          "opacity": 0.8,
                          "outline": false,
                          "thickness": 2,
                          "strokeColor": null,
                          "colorRange": {
                            "name": "Global Warming",
                            "type": "sequential",
                            "category": "Uber",
                            "colors": [
                              "#5A1846",
                              "#900C3F",
                              "#C70039",
                              "#E3611C",
                              "#F1920E",
                              "#FFC300"
                            ]
                          },
                          "strokeColorRange": {
                            "name": "Global Warming",
                            "type": "sequential",
                            "category": "Uber",
                            "colors": [
                              "#5A1846",
                              "#900C3F",
                              "#C70039",
                              "#E3611C",
                              "#F1920E",
                              "#FFC300"
                            ]
                          },
                          "radiusRange": [
                            0,
                            50
                          ],
                          "filled": true
                        },
                        "hidden": false,
                        "textLabel": [
                          {
                            "field": null,
                            "color": [
                              255,
                              255,
                              255
                            ],
                            "size": 18,
                            "offset": [
                              0,
                              0
                            ],
                            "anchor": "start",
                            "alignment": "center"
                          }
                        ]
                      },
                      "visualChannels": {
                        "colorField": null,
                        "colorScale": "quantile",
                        "strokeColorField": null,
                        "strokeColorScale": "quantile",
                        "sizeField": null,
                        "sizeScale": "linear"
                      }
                    }
                  ],
                  "interactionConfig": {
                    "tooltip": {
                      "fieldsToShow": {
                        "user_id": []
                      },
                      "compareMode": false,
                      "compareType": "absolute",
                      "enabled": true
                    },
                    "brush": {
                      "size": 0.5,
                      "enabled": false
                    },
                    "geocoder": {
                      "enabled": false
                    },
                    "coordinate": {
                      "enabled": false
                    }
                  },
                  "layerBlending": "normal",
                  "splitMaps": [],
                  "animationConfig": {
                    "currentTime": null,
                    "speed": 1
                  }
                },
                "mapState": {
                  "bearing": 0,
                  "dragRotate": false,
                  "latitude": 35.75,
                  "longitude": 51.2725,
                  "pitch": 0,
                  "zoom": 9,
                  "isSplit": false
                },
                "mapStyle": {
                  "styleType": "dark",
                  "topLayerGroups": {},
                  "visibleLayerGroups": {
                    "label": true,
                    "road": true,
                    "border": false,
                    "building": true,
                    "water": true,
                    "land": true,
                    "3d building": false
                  },
                  "threeDBuildingColor": [
                    9.665468314072013,
                    17.18305478057247,
                    31.1442867897876
                  ],
                  "mapStyles": {}
                }
              }
            },
            "data": {
              "user_id": {
                "index": [
                  2088,
                  2089,
                  2090,
                  2091,
                  2092,
                  2093,
                  2094,
                  2095,
                  2096,
                  2097,
                  2098,
                  2099,
                  2100,
                  2101,
                  2102,
                  2103,
                  2104,
                  2105,
                  2106,
                  2107,
                  2108,
                  2109,
                  2110,
                  2111,
                  2112,
                  2113,
                  2114,
                  2115,
                  2116,
                  2117,
                  2118,
                  2119,
                  2120,
                  2121,
                  2122,
                  2123,
                  2124,
                  2125,
                  2126,
                  2127,
                  2128,
                  2129,
                  2130,
                  2131,
                  2132,
                  2133,
                  2134,
                  2135,
                  2136,
                  2137,
                  2138,
                  2139,
                  2140,
                  2141,
                  2142,
                  2143,
                  2144,
                  2145,
                  2146,
                  2147,
                  2148,
                  2149,
                  2150,
                  2151,
                  2152,
                  2153,
                  2154,
                  2155,
                  2156,
                  2157,
                  2158,
                  2159,
                  2160,
                  2161,
                  2162,
                  2163,
                  2164,
                  2165,
                  2166,
                  2167,
                  2168,
                  2169,
                  2170,
                  2171,
                  2172,
                  2173,
                  2174,
                  2175,
                  2176,
                  2177,
                  2178,
                  2179,
                  2180,
                  2181,
                  2182,
                  2183,
                  2184,
                  2185,
                  2186,
                  2187,
                  2188,
                  2189,
                  2190,
                  2191,
                  2192,
                  2193,
                  2194,
                  2195,
                  2196,
                  2197,
                  2198,
                  2199,
                  2200,
                  2201,
                  2202,
                  2203,
                  2204,
                  2205,
                  2206,
                  2207,
                  2208,
                  2209,
                  2210,
                  2211,
                  2212,
                  2213,
                  2214,
                  2215,
                  2216,
                  2217,
                  2218,
                  2219,
                  2220,
                  2221,
                  2222,
                  2223,
                  2224,
                  2225,
                  2226,
                  2227,
                  2228,
                  2229,
                  2230,
                  2231,
                  2232,
                  2233,
                  2234,
                  2235,
                  2236,
                  2237,
                  2238,
                  2239,
                  2240,
                  2241,
                  2242,
                  2243,
                  2244,
                  2245,
                  2246,
                  2247,
                  2248,
                  2249,
                  2250,
                  2251,
                  2252,
                  2253,
                  2254,
                  2255,
                  2256,
                  2257,
                  2258,
                  2259,
                  2260,
                  2261,
                  2262,
                  2263,
                  2264,
                  2265,
                  2266,
                  2267,
                  2268,
                  2269,
                  2270,
                  2271,
                  2272,
                  2273,
                  2274,
                  2275,
                  2276,
                  2277,
                  2278,
                  2279,
                  2280,
                  2281,
                  2282,
                  2283,
                  2284,
                  2285,
                  2286,
                  2287,
                  2288,
                  2289,
                  2290,
                  2291,
                  2292,
                  2293,
                  2294,
                  2295,
                  2296,
                  2297,
                  2298,
                  2299,
                  2300,
                  2301,
                  2302,
                  2303,
                  2304,
                  2305,
                  2306,
                  2307,
                  2308,
                  2309,
                  2310,
                  2311,
                  2312,
                  2313,
                  2314,
                  2315,
                  2316,
                  2317,
                  2318,
                  2319,
                  2320,
                  2321,
                  2322,
                  2323,
                  2324,
                  2325,
                  2326,
                  2327,
                  2328,
                  2329,
                  2330,
                  2331,
                  2332,
                  2333,
                  2334,
                  2335,
                  2336,
                  2337,
                  2338,
                  2339,
                  2340,
                  2341,
                  2342,
                  2343,
                  2344,
                  2345,
                  2346,
                  2347,
                  2348,
                  2349,
                  2350,
                  2351,
                  2352,
                  2353,
                  2354,
                  2355,
                  2356,
                  2357,
                  2358,
                  2359,
                  2360,
                  2361,
                  2362,
                  2363,
                  2364,
                  2365,
                  2366,
                  2367,
                  2368,
                  2369,
                  2370,
                  2371,
                  2372,
                  2373,
                  2374,
                  2375,
                  2376,
                  2377,
                  2378,
                  2379,
                  2380,
                  2381,
                  2382,
                  2383,
                  2384,
                  2385,
                  2386,
                  2387,
                  2388,
                  2389,
                  2390,
                  2391,
                  2392,
                  2393,
                  2394,
                  2395,
                  2396,
                  2397,
                  2398,
                  2399,
                  2400,
                  2401,
                  2402,
                  2403,
                  2404,
                  2405,
                  2406,
                  2407,
                  2408,
                  2409,
                  2410
                ],
                "columns": [
                  "dest lat",
                  "dest lon"
                ],
                "data": [
                  [
                    35.505,
                    51.18
                  ],
                  [
                    35.625,
                    51.125
                  ],
                  [
                    35.785,
                    51.315
                  ],
                  [
                    35.7,
                    51.21
                  ],
                  [
                    35.625,
                    51.125
                  ],
                  [
                    35.7,
                    51.21
                  ],
                  [
                    35.865,
                    51.045
                  ],
                  [
                    35.7,
                    51.21
                  ],
                  [
                    35.625,
                    51.125
                  ],
                  [
                    35.575,
                    51.245
                  ],
                  [
                    35.625,
                    51.125
                  ],
                  [
                    35.565,
                    51.06
                  ],
                  [
                    35.625,
                    51.125
                  ],
                  [
                    35.7,
                    51.21
                  ],
                  [
                    35.505,
                    51.18
                  ],
                  [
                    35.7,
                    51.21
                  ],
                  [
                    35.5,
                    51.5
                  ],
                  [
                    35.7,
                    51.21
                  ],
                  [
                    35.56,
                    51.415
                  ],
                  [
                    35.7,
                    51.21
                  ],
                  [
                    35.765,
                    51.075
                  ],
                  [
                    35.7,
                    51.21
                  ],
                  [
                    35.5,
                    51.5
                  ],
                  [
                    35.7,
                    51.21
                  ],
                  [
                    35.625,
                    51.125
                  ],
                  [
                    35.575,
                    51.15
                  ],
                  [
                    35.7,
                    51.21
                  ],
                  [
                    35.7,
                    51.21
                  ],
                  [
                    35.875,
                    51.275
                  ],
                  [
                    35.7,
                    51.21
                  ],
                  [
                    35.625,
                    51.125
                  ],
                  [
                    35.7,
                    51.21
                  ],
                  [
                    35.805,
                    51.345
                  ],
                  [
                    35.7,
                    51.21
                  ],
                  [
                    35.625,
                    51.125
                  ],
                  [
                    35.525,
                    51.1
                  ],
                  [
                    35.625,
                    51.125
                  ],
                  [
                    35.785,
                    51.315
                  ],
                  [
                    35.625,
                    51.125
                  ],
                  [
                    35.7,
                    51.21
                  ],
                  [
                    36,
                    51.085
                  ],
                  [
                    35.7,
                    51.21
                  ],
                  [
                    35.5,
                    51.5
                  ],
                  [
                    35.7,
                    51.21
                  ],
                  [
                    35.7,
                    51.21
                  ],
                  [
                    35.815,
                    51.32
                  ],
                  [
                    35.625,
                    51.125
                  ],
                  [
                    35.575,
                    51.245
                  ],
                  [
                    35.625,
                    51.125
                  ],
                  [
                    35.95,
                    51.315
                  ],
                  [
                    35.7,
                    51.21
                  ],
                  [
                    35.625,
                    51.125
                  ],
                  [
                    35.75,
                    51.385
                  ],
                  [
                    35.7,
                    51.21
                  ],
                  [
                    35.625,
                    51.125
                  ],
                  [
                    35.575,
                    51.15
                  ],
                  [
                    35.82,
                    51.225
                  ],
                  [
                    35.7,
                    51.21
                  ],
                  [
                    35.625,
                    51.125
                  ],
                  [
                    35.7,
                    51.21
                  ],
                  [
                    35.97,
                    51.215
                  ],
                  [
                    35.7,
                    51.21
                  ],
                  [
                    35.5,
                    51.5
                  ],
                  [
                    35.7,
                    51.21
                  ],
                  [
                    35.5,
                    51.5
                  ],
                  [
                    35.705,
                    51.295
                  ],
                  [
                    35.7,
                    51.21
                  ],
                  [
                    35.625,
                    51.125
                  ],
                  [
                    35.735,
                    51.185
                  ],
                  [
                    35.7,
                    51.21
                  ],
                  [
                    35.625,
                    51.125
                  ],
                  [
                    35.7,
                    51.21
                  ],
                  [
                    35.625,
                    51.125
                  ],
                  [
                    35.575,
                    51.245
                  ],
                  [
                    35.51,
                    51.155
                  ],
                  [
                    35.625,
                    51.125
                  ],
                  [
                    35.765,
                    51.075
                  ],
                  [
                    35.7,
                    51.21
                  ],
                  [
                    35.5,
                    51.5
                  ],
                  [
                    35.5,
                    51.5
                  ],
                  [
                    35.625,
                    51.125
                  ],
                  [
                    35.875,
                    51.275
                  ],
                  [
                    35.7,
                    51.21
                  ],
                  [
                    35.625,
                    51.125
                  ],
                  [
                    35.7,
                    51.21
                  ],
                  [
                    35.625,
                    51.125
                  ],
                  [
                    35.565,
                    51.06
                  ],
                  [
                    35.7,
                    51.21
                  ],
                  [
                    35.625,
                    51.125
                  ],
                  [
                    35.625,
                    51.125
                  ],
                  [
                    35.7,
                    51.21
                  ],
                  [
                    35.745,
                    51.045
                  ],
                  [
                    35.7,
                    51.21
                  ],
                  [
                    35.625,
                    51.125
                  ],
                  [
                    36,
                    51.085
                  ],
                  [
                    35.625,
                    51.125
                  ],
                  [
                    35.875,
                    51.275
                  ],
                  [
                    35.7,
                    51.21
                  ],
                  [
                    35.625,
                    51.125
                  ],
                  [
                    35.735,
                    51.185
                  ],
                  [
                    35.625,
                    51.125
                  ],
                  [
                    35.505,
                    51.18
                  ],
                  [
                    35.625,
                    51.125
                  ],
                  [
                    35.7,
                    51.21
                  ],
                  [
                    35.815,
                    51.32
                  ],
                  [
                    35.7,
                    51.21
                  ],
                  [
                    35.625,
                    51.125
                  ],
                  [
                    35.7,
                    51.21
                  ],
                  [
                    35.625,
                    51.125
                  ],
                  [
                    35.945,
                    51.17
                  ],
                  [
                    35.7,
                    51.21
                  ],
                  [
                    35.97,
                    51.215
                  ],
                  [
                    35.7,
                    51.21
                  ],
                  [
                    35.875,
                    51.275
                  ],
                  [
                    35.625,
                    51.125
                  ],
                  [
                    35.725,
                    51.3
                  ],
                  [
                    35.785,
                    51.315
                  ],
                  [
                    35.7,
                    51.21
                  ],
                  [
                    35.625,
                    51.125
                  ],
                  [
                    35.7,
                    51.21
                  ],
                  [
                    35.625,
                    51.125
                  ],
                  [
                    35.7,
                    51.21
                  ],
                  [
                    35.65,
                    51.385
                  ],
                  [
                    35.625,
                    51.125
                  ],
                  [
                    35.575,
                    51.15
                  ],
                  [
                    35.675,
                    51.31
                  ],
                  [
                    35.7,
                    51.21
                  ],
                  [
                    35.625,
                    51.125
                  ],
                  [
                    35.565,
                    51.06
                  ],
                  [
                    35.7,
                    51.21
                  ],
                  [
                    36,
                    51.37
                  ],
                  [
                    35.7,
                    51.21
                  ],
                  [
                    35.98,
                    51.05
                  ],
                  [
                    35.625,
                    51.125
                  ],
                  [
                    35.625,
                    51.125
                  ],
                  [
                    35.97,
                    51.215
                  ],
                  [
                    35.7,
                    51.21
                  ],
                  [
                    35.625,
                    51.125
                  ],
                  [
                    35.745,
                    51.465
                  ],
                  [
                    35.625,
                    51.125
                  ],
                  [
                    35.7,
                    51.21
                  ],
                  [
                    35.785,
                    51.315
                  ],
                  [
                    35.7,
                    51.21
                  ],
                  [
                    35.82,
                    51.225
                  ],
                  [
                    35.625,
                    51.125
                  ],
                  [
                    35.8,
                    51.375
                  ],
                  [
                    35.7,
                    51.21
                  ],
                  [
                    35.625,
                    51.125
                  ],
                  [
                    35.7,
                    51.21
                  ],
                  [
                    35.69,
                    51.295
                  ],
                  [
                    35.7,
                    51.21
                  ],
                  [
                    35.575,
                    51.245
                  ],
                  [
                    35.7,
                    51.21
                  ],
                  [
                    35.625,
                    51.125
                  ],
                  [
                    35.56,
                    51.415
                  ],
                  [
                    35.625,
                    51.125
                  ],
                  [
                    35.7,
                    51.21
                  ],
                  [
                    35.675,
                    51.31
                  ],
                  [
                    35.625,
                    51.125
                  ],
                  [
                    35.7,
                    51.21
                  ],
                  [
                    35.75,
                    51.385
                  ],
                  [
                    35.625,
                    51.125
                  ],
                  [
                    35.8,
                    51.375
                  ],
                  [
                    35.7,
                    51.21
                  ],
                  [
                    35.625,
                    51.125
                  ],
                  [
                    35.7,
                    51.21
                  ],
                  [
                    35.815,
                    51.32
                  ],
                  [
                    35.7,
                    51.21
                  ],
                  [
                    35.7,
                    51.21
                  ],
                  [
                    35.7,
                    51.21
                  ],
                  [
                    35.625,
                    51.125
                  ],
                  [
                    35.815,
                    51.185
                  ],
                  [
                    35.7,
                    51.21
                  ],
                  [
                    35.625,
                    51.125
                  ],
                  [
                    35.7,
                    51.21
                  ],
                  [
                    35.625,
                    51.125
                  ],
                  [
                    35.7,
                    51.21
                  ],
                  [
                    35.75,
                    51.385
                  ],
                  [
                    35.7,
                    51.21
                  ],
                  [
                    35.625,
                    51.125
                  ],
                  [
                    35.525,
                    51.1
                  ],
                  [
                    35.625,
                    51.125
                  ],
                  [
                    35.7,
                    51.21
                  ],
                  [
                    35.7,
                    51.21
                  ],
                  [
                    35.5,
                    51.5
                  ],
                  [
                    35.7,
                    51.21
                  ],
                  [
                    35.7,
                    51.21
                  ],
                  [
                    35.625,
                    51.125
                  ],
                  [
                    35.705,
                    51.295
                  ],
                  [
                    35.625,
                    51.125
                  ],
                  [
                    35.575,
                    51.15
                  ],
                  [
                    35.625,
                    51.125
                  ],
                  [
                    35.625,
                    51.125
                  ],
                  [
                    35.7,
                    51.21
                  ],
                  [
                    35.7,
                    51.21
                  ],
                  [
                    35.7,
                    51.21
                  ],
                  [
                    35.675,
                    51.31
                  ],
                  [
                    35.7,
                    51.21
                  ],
                  [
                    35.625,
                    51.125
                  ],
                  [
                    35.815,
                    51.185
                  ],
                  [
                    35.875,
                    51.275
                  ],
                  [
                    35.7,
                    51.21
                  ],
                  [
                    35.625,
                    51.125
                  ],
                  [
                    35.7,
                    51.21
                  ],
                  [
                    35.805,
                    51.345
                  ],
                  [
                    35.7,
                    51.21
                  ],
                  [
                    35.865,
                    51.045
                  ],
                  [
                    35.7,
                    51.21
                  ],
                  [
                    35.705,
                    51.295
                  ],
                  [
                    35.625,
                    51.125
                  ],
                  [
                    35.525,
                    51.1
                  ],
                  [
                    36,
                    51.085
                  ],
                  [
                    35.625,
                    51.125
                  ],
                  [
                    35.785,
                    51.315
                  ],
                  [
                    35.625,
                    51.125
                  ],
                  [
                    35.7,
                    51.21
                  ],
                  [
                    35.785,
                    51.24
                  ],
                  [
                    35.7,
                    51.21
                  ],
                  [
                    35.625,
                    51.125
                  ],
                  [
                    35.7,
                    51.21
                  ],
                  [
                    35.625,
                    51.125
                  ],
                  [
                    35.865,
                    51.045
                  ],
                  [
                    35.7,
                    51.21
                  ],
                  [
                    35.625,
                    51.125
                  ],
                  [
                    35.625,
                    51.125
                  ],
                  [
                    35.505,
                    51.18
                  ],
                  [
                    35.7,
                    51.21
                  ],
                  [
                    35.625,
                    51.125
                  ],
                  [
                    35.7,
                    51.21
                  ],
                  [
                    35.54,
                    51.5
                  ],
                  [
                    35.7,
                    51.21
                  ],
                  [
                    35.625,
                    51.125
                  ],
                  [
                    35.68,
                    51.135
                  ],
                  [
                    35.625,
                    51.125
                  ],
                  [
                    35.765,
                    51.075
                  ],
                  [
                    35.65,
                    51.225
                  ],
                  [
                    35.625,
                    51.125
                  ],
                  [
                    35.7,
                    51.21
                  ],
                  [
                    35.785,
                    51.24
                  ],
                  [
                    35.7,
                    51.21
                  ],
                  [
                    35.5,
                    51.5
                  ],
                  [
                    35.7,
                    51.21
                  ],
                  [
                    35.785,
                    51.315
                  ],
                  [
                    35.7,
                    51.21
                  ],
                  [
                    35.625,
                    51.125
                  ],
                  [
                    36,
                    51.085
                  ],
                  [
                    35.625,
                    51.125
                  ],
                  [
                    36,
                    51.37
                  ],
                  [
                    35.7,
                    51.21
                  ],
                  [
                    35.625,
                    51.125
                  ],
                  [
                    35.7,
                    51.21
                  ],
                  [
                    35.625,
                    51.125
                  ],
                  [
                    35.575,
                    51.15
                  ],
                  [
                    35.785,
                    51.24
                  ],
                  [
                    35.7,
                    51.21
                  ],
                  [
                    35.625,
                    51.125
                  ],
                  [
                    35.7,
                    51.21
                  ],
                  [
                    35.5,
                    51.5
                  ],
                  [
                    35.7,
                    51.21
                  ],
                  [
                    35.625,
                    51.125
                  ],
                  [
                    35.51,
                    51.155
                  ],
                  [
                    35.625,
                    51.125
                  ],
                  [
                    35.65,
                    51.225
                  ],
                  [
                    35.675,
                    51.31
                  ],
                  [
                    35.7,
                    51.21
                  ],
                  [
                    35.625,
                    51.125
                  ],
                  [
                    35.7,
                    51.21
                  ],
                  [
                    35.55,
                    51.185
                  ],
                  [
                    35.7,
                    51.21
                  ],
                  [
                    35.625,
                    51.125
                  ],
                  [
                    35.56,
                    51.415
                  ],
                  [
                    35.7,
                    51.21
                  ],
                  [
                    35.625,
                    51.125
                  ],
                  [
                    35.7,
                    51.21
                  ],
                  [
                    35.625,
                    51.125
                  ],
                  [
                    35.565,
                    51.06
                  ],
                  [
                    35.625,
                    51.125
                  ],
                  [
                    35.7,
                    51.21
                  ],
                  [
                    35.785,
                    51.315
                  ],
                  [
                    35.7,
                    51.21
                  ],
                  [
                    35.5,
                    51.5
                  ],
                  [
                    35.7,
                    51.21
                  ],
                  [
                    35.82,
                    51.225
                  ],
                  [
                    35.7,
                    51.21
                  ],
                  [
                    35.625,
                    51.125
                  ],
                  [
                    35.55,
                    51.185
                  ],
                  [
                    35.625,
                    51.125
                  ],
                  [
                    35.575,
                    51.245
                  ],
                  [
                    35.7,
                    51.21
                  ],
                  [
                    35.69,
                    51.295
                  ],
                  [
                    35.7,
                    51.21
                  ],
                  [
                    35.625,
                    51.125
                  ],
                  [
                    35.7,
                    51.21
                  ],
                  [
                    35.675,
                    51.31
                  ],
                  [
                    35.625,
                    51.125
                  ],
                  [
                    35.575,
                    51.245
                  ],
                  [
                    35.745,
                    51.045
                  ],
                  [
                    35.625,
                    51.125
                  ],
                  [
                    35.54,
                    51.5
                  ],
                  [
                    35.7,
                    51.21
                  ],
                  [
                    35.5,
                    51.5
                  ],
                  [
                    35.7,
                    51.21
                  ],
                  [
                    35.575,
                    51.15
                  ],
                  [
                    35.65,
                    51.385
                  ],
                  [
                    35.7,
                    51.21
                  ],
                  [
                    35.625,
                    51.125
                  ],
                  [
                    35.625,
                    51.125
                  ],
                  [
                    35.875,
                    51.275
                  ],
                  [
                    35.625,
                    51.125
                  ],
                  [
                    35.7,
                    51.21
                  ],
                  [
                    35.735,
                    51.185
                  ],
                  [
                    35.7,
                    51.21
                  ],
                  [
                    35.575,
                    51.245
                  ],
                  [
                    35.7,
                    51.21
                  ],
                  [
                    35.54,
                    51.5
                  ],
                  [
                    35.7,
                    51.21
                  ],
                  [
                    35.65,
                    51.385
                  ],
                  [
                    35.7,
                    51.21
                  ],
                  [
                    35.625,
                    51.125
                  ],
                  [
                    35.565,
                    51.06
                  ],
                  [
                    35.625,
                    51.125
                  ],
                  [
                    35.75,
                    51.385
                  ],
                  [
                    35.7,
                    51.21
                  ]
                ]
              }
            },
            "height": 600,
            "layout": "IPY_MODEL_3c60efc7825549a695e07ff7d2e4b515",
            "value": "Hello World!"
          }
        },
        "3c60efc7825549a695e07ff7d2e4b515": {
          "model_module": "@jupyter-widgets/base",
          "model_name": "LayoutModel",
          "model_module_version": "1.2.0",
          "state": {
            "_model_module": "@jupyter-widgets/base",
            "_model_module_version": "1.2.0",
            "_model_name": "LayoutModel",
            "_view_count": null,
            "_view_module": "@jupyter-widgets/base",
            "_view_module_version": "1.2.0",
            "_view_name": "LayoutView",
            "align_content": null,
            "align_items": null,
            "align_self": null,
            "border": null,
            "bottom": null,
            "display": null,
            "flex": null,
            "flex_flow": null,
            "grid_area": null,
            "grid_auto_columns": null,
            "grid_auto_flow": null,
            "grid_auto_rows": null,
            "grid_column": null,
            "grid_gap": null,
            "grid_row": null,
            "grid_template_areas": null,
            "grid_template_columns": null,
            "grid_template_rows": null,
            "height": null,
            "justify_content": null,
            "justify_items": null,
            "left": null,
            "margin": null,
            "max_height": null,
            "max_width": null,
            "min_height": null,
            "min_width": null,
            "object_fit": null,
            "object_position": null,
            "order": null,
            "overflow": null,
            "overflow_x": null,
            "overflow_y": null,
            "padding": null,
            "right": null,
            "top": null,
            "visibility": null,
            "width": null
          }
        }
      }
    },
    "accelerator": "GPU"
  },
  "nbformat": 4,
  "nbformat_minor": 0
}